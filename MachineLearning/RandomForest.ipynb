{
 "cells": [
  {
   "cell_type": "code",
   "execution_count": 1,
   "metadata": {},
   "outputs": [],
   "source": [
    "import pandas as pd\n",
    "import numpy as np\n",
    "import seaborn as sns\n",
    "from sklearn.ensemble import RandomForestRegressor\n",
    "from sklearn.impute import KNNImputer\n",
    "from sklearn.metrics import mean_absolute_error\n",
    "from sklearn.model_selection import train_test_split"
   ]
  },
  {
   "cell_type": "code",
   "execution_count": 2,
   "metadata": {},
   "outputs": [],
   "source": [
    "#model scoring using mean absolute error\n",
    "\n",
    "def score_dataset(X_train, X_valid, y_train, y_valid):\n",
    "    model = RandomForestRegressor(n_estimators=10, random_state=0)\n",
    "    model.fit(X_train, y_train)\n",
    "    preds = model.predict(X_valid)\n",
    "    return mean_absolute_error(y_valid, preds)"
   ]
  },
  {
   "cell_type": "code",
   "execution_count": 3,
   "metadata": {},
   "outputs": [
    {
     "output_type": "stream",
     "name": "stdout",
     "text": "x = 1, y = [2, 3, 4], z = 5\n<class 'list'>\n"
    }
   ],
   "source": [
    "x, *y , z = 1,2,3,4,5\n",
    "print(\"x = {}, y = {}, z = {}\".format(x,y,z))\n",
    "print(type(y))"
   ]
  },
  {
   "cell_type": "code",
   "execution_count": 4,
   "metadata": {},
   "outputs": [
    {
     "output_type": "stream",
     "name": "stdout",
     "text": "1&2&3&4\n1&2&3&4\n"
    }
   ],
   "source": [
    "def f(a, b, c, d): print(a, b, c, d, sep = '&')\n",
    "f(1,2,3,4)\n",
    "f(*[1, 2, 3, 4])"
   ]
  },
  {
   "cell_type": "code",
   "execution_count": 5,
   "metadata": {},
   "outputs": [
    {
     "output_type": "execute_result",
     "data": {
      "text/plain": "[1, 2, 3]"
     },
     "metadata": {},
     "execution_count": 5
    }
   ],
   "source": [
    "*u ,= [1,2,3]\n",
    "u"
   ]
  },
  {
   "cell_type": "code",
   "execution_count": 6,
   "metadata": {},
   "outputs": [
    {
     "output_type": "execute_result",
     "data": {
      "text/plain": "    a   b    c\n0   1   2    3\n1   4   5    6\n2   7   8    9\n3  10  11  red",
      "text/html": "<div>\n<style scoped>\n    .dataframe tbody tr th:only-of-type {\n        vertical-align: middle;\n    }\n\n    .dataframe tbody tr th {\n        vertical-align: top;\n    }\n\n    .dataframe thead th {\n        text-align: right;\n    }\n</style>\n<table border=\"1\" class=\"dataframe\">\n  <thead>\n    <tr style=\"text-align: right;\">\n      <th></th>\n      <th>a</th>\n      <th>b</th>\n      <th>c</th>\n    </tr>\n  </thead>\n  <tbody>\n    <tr>\n      <th>0</th>\n      <td>1</td>\n      <td>2</td>\n      <td>3</td>\n    </tr>\n    <tr>\n      <th>1</th>\n      <td>4</td>\n      <td>5</td>\n      <td>6</td>\n    </tr>\n    <tr>\n      <th>2</th>\n      <td>7</td>\n      <td>8</td>\n      <td>9</td>\n    </tr>\n    <tr>\n      <th>3</th>\n      <td>10</td>\n      <td>11</td>\n      <td>red</td>\n    </tr>\n  </tbody>\n</table>\n</div>"
     },
     "metadata": {},
     "execution_count": 6
    }
   ],
   "source": [
    "df = pd.DataFrame(data=[[1, 2, 3], [4, 5, 6], [7, 8, 9],[10,11,'red']], columns=['a', 'b', 'c'])\n",
    "df"
   ]
  },
  {
   "cell_type": "code",
   "execution_count": 7,
   "metadata": {},
   "outputs": [
    {
     "output_type": "execute_result",
     "data": {
      "text/plain": "    a    c\n0   1    3\n1   4    6\n2   7    9\n3  10  red",
      "text/html": "<div>\n<style scoped>\n    .dataframe tbody tr th:only-of-type {\n        vertical-align: middle;\n    }\n\n    .dataframe tbody tr th {\n        vertical-align: top;\n    }\n\n    .dataframe thead th {\n        text-align: right;\n    }\n</style>\n<table border=\"1\" class=\"dataframe\">\n  <thead>\n    <tr style=\"text-align: right;\">\n      <th></th>\n      <th>a</th>\n      <th>c</th>\n    </tr>\n  </thead>\n  <tbody>\n    <tr>\n      <th>0</th>\n      <td>1</td>\n      <td>3</td>\n    </tr>\n    <tr>\n      <th>1</th>\n      <td>4</td>\n      <td>6</td>\n    </tr>\n    <tr>\n      <th>2</th>\n      <td>7</td>\n      <td>9</td>\n    </tr>\n    <tr>\n      <th>3</th>\n      <td>10</td>\n      <td>red</td>\n    </tr>\n  </tbody>\n</table>\n</div>"
     },
     "metadata": {},
     "execution_count": 7
    }
   ],
   "source": [
    "df.drop(['b'], axis=1, inplace = True) # inplace -- operating on the original dataframe, changing original dataframe\n",
    "df"
   ]
  },
  {
   "cell_type": "code",
   "execution_count": 8,
   "metadata": {},
   "outputs": [
    {
     "output_type": "execute_result",
     "data": {
      "text/plain": "    a    c\n0   1    3\n2   7    9\n3  10  red",
      "text/html": "<div>\n<style scoped>\n    .dataframe tbody tr th:only-of-type {\n        vertical-align: middle;\n    }\n\n    .dataframe tbody tr th {\n        vertical-align: top;\n    }\n\n    .dataframe thead th {\n        text-align: right;\n    }\n</style>\n<table border=\"1\" class=\"dataframe\">\n  <thead>\n    <tr style=\"text-align: right;\">\n      <th></th>\n      <th>a</th>\n      <th>c</th>\n    </tr>\n  </thead>\n  <tbody>\n    <tr>\n      <th>0</th>\n      <td>1</td>\n      <td>3</td>\n    </tr>\n    <tr>\n      <th>2</th>\n      <td>7</td>\n      <td>9</td>\n    </tr>\n    <tr>\n      <th>3</th>\n      <td>10</td>\n      <td>red</td>\n    </tr>\n  </tbody>\n</table>\n</div>"
     },
     "metadata": {},
     "execution_count": 8
    }
   ],
   "source": [
    "Y = df.drop([1],axis=0)\n",
    "Y"
   ]
  },
  {
   "cell_type": "code",
   "execution_count": 9,
   "metadata": {},
   "outputs": [
    {
     "output_type": "execute_result",
     "data": {
      "text/plain": "a     int64\nc    object\ndtype: object"
     },
     "metadata": {},
     "execution_count": 9
    }
   ],
   "source": [
    "df.dtypes"
   ]
  },
  {
   "cell_type": "code",
   "execution_count": 10,
   "metadata": {},
   "outputs": [
    {
     "output_type": "execute_result",
     "data": {
      "text/plain": "a    False\nc     True\ndtype: bool"
     },
     "metadata": {},
     "execution_count": 10
    }
   ],
   "source": [
    "s = df.dtypes == 'object'\n",
    "s"
   ]
  },
  {
   "cell_type": "code",
   "execution_count": 11,
   "metadata": {},
   "outputs": [
    {
     "output_type": "execute_result",
     "data": {
      "text/plain": "['c']"
     },
     "metadata": {},
     "execution_count": 11
    }
   ],
   "source": [
    "object_cols = list(s[s].index)\n",
    "object_cols"
   ]
  },
  {
   "cell_type": "code",
   "execution_count": 12,
   "metadata": {},
   "outputs": [],
   "source": [
    "from sklearn.preprocessing import OneHotEncoder\n",
    "OH_encoder = OneHotEncoder(handle_unknown='ignore', sparse=False)"
   ]
  },
  {
   "cell_type": "code",
   "execution_count": 13,
   "metadata": {},
   "outputs": [
    {
     "output_type": "execute_result",
     "data": {
      "text/plain": "set"
     },
     "metadata": {},
     "execution_count": 13
    }
   ],
   "source": [
    "type(set(df['a']))"
   ]
  },
  {
   "cell_type": "code",
   "execution_count": 14,
   "metadata": {},
   "outputs": [
    {
     "output_type": "stream",
     "name": "stdout",
     "text": "Help on class set in module builtins:\n\nclass set(object)\n |  set() -> new empty set object\n |  set(iterable) -> new set object\n |  \n |  Build an unordered collection of unique elements.\n |  \n |  Methods defined here:\n |  \n |  __and__(self, value, /)\n |      Return self&value.\n |  \n |  __contains__(...)\n |      x.__contains__(y) <==> y in x.\n |  \n |  __eq__(self, value, /)\n |      Return self==value.\n |  \n |  __ge__(self, value, /)\n |      Return self>=value.\n |  \n |  __getattribute__(self, name, /)\n |      Return getattr(self, name).\n |  \n |  __gt__(self, value, /)\n |      Return self>value.\n |  \n |  __iand__(self, value, /)\n |      Return self&=value.\n |  \n |  __init__(self, /, *args, **kwargs)\n |      Initialize self.  See help(type(self)) for accurate signature.\n |  \n |  __ior__(self, value, /)\n |      Return self|=value.\n |  \n |  __isub__(self, value, /)\n |      Return self-=value.\n |  \n |  __iter__(self, /)\n |      Implement iter(self).\n |  \n |  __ixor__(self, value, /)\n |      Return self^=value.\n |  \n |  __le__(self, value, /)\n |      Return self<=value.\n |  \n |  __len__(self, /)\n |      Return len(self).\n |  \n |  __lt__(self, value, /)\n |      Return self<value.\n |  \n |  __ne__(self, value, /)\n |      Return self!=value.\n |  \n |  __or__(self, value, /)\n |      Return self|value.\n |  \n |  __rand__(self, value, /)\n |      Return value&self.\n |  \n |  __reduce__(...)\n |      Return state information for pickling.\n |  \n |  __repr__(self, /)\n |      Return repr(self).\n |  \n |  __ror__(self, value, /)\n |      Return value|self.\n |  \n |  __rsub__(self, value, /)\n |      Return value-self.\n |  \n |  __rxor__(self, value, /)\n |      Return value^self.\n |  \n |  __sizeof__(...)\n |      S.__sizeof__() -> size of S in memory, in bytes\n |  \n |  __sub__(self, value, /)\n |      Return self-value.\n |  \n |  __xor__(self, value, /)\n |      Return self^value.\n |  \n |  add(...)\n |      Add an element to a set.\n |      \n |      This has no effect if the element is already present.\n |  \n |  clear(...)\n |      Remove all elements from this set.\n |  \n |  copy(...)\n |      Return a shallow copy of a set.\n |  \n |  difference(...)\n |      Return the difference of two or more sets as a new set.\n |      \n |      (i.e. all elements that are in this set but not the others.)\n |  \n |  difference_update(...)\n |      Remove all elements of another set from this set.\n |  \n |  discard(...)\n |      Remove an element from a set if it is a member.\n |      \n |      If the element is not a member, do nothing.\n |  \n |  intersection(...)\n |      Return the intersection of two sets as a new set.\n |      \n |      (i.e. all elements that are in both sets.)\n |  \n |  intersection_update(...)\n |      Update a set with the intersection of itself and another.\n |  \n |  isdisjoint(...)\n |      Return True if two sets have a null intersection.\n |  \n |  issubset(...)\n |      Report whether another set contains this set.\n |  \n |  issuperset(...)\n |      Report whether this set contains another set.\n |  \n |  pop(...)\n |      Remove and return an arbitrary set element.\n |      Raises KeyError if the set is empty.\n |  \n |  remove(...)\n |      Remove an element from a set; it must be a member.\n |      \n |      If the element is not a member, raise a KeyError.\n |  \n |  symmetric_difference(...)\n |      Return the symmetric difference of two sets as a new set.\n |      \n |      (i.e. all elements that are in exactly one of the sets.)\n |  \n |  symmetric_difference_update(...)\n |      Update a set with the symmetric difference of itself and another.\n |  \n |  union(...)\n |      Return the union of sets as a new set.\n |      \n |      (i.e. all elements that are in either set.)\n |  \n |  update(...)\n |      Update a set with the union of itself and others.\n |  \n |  ----------------------------------------------------------------------\n |  Static methods defined here:\n |  \n |  __new__(*args, **kwargs) from builtins.type\n |      Create and return a new object.  See help(type) for accurate signature.\n |  \n |  ----------------------------------------------------------------------\n |  Data and other attributes defined here:\n |  \n |  __hash__ = None\n\n"
    }
   ],
   "source": [
    "help(set)"
   ]
  },
  {
   "cell_type": "code",
   "execution_count": 15,
   "metadata": {},
   "outputs": [
    {
     "output_type": "execute_result",
     "data": {
      "text/plain": "True"
     },
     "metadata": {},
     "execution_count": 15
    }
   ],
   "source": [
    "set_1 = {1,2,3}\n",
    "set_2 = {3,1,2}\n",
    "set_1 == set_2"
   ]
  },
  {
   "cell_type": "code",
   "execution_count": 16,
   "metadata": {},
   "outputs": [
    {
     "output_type": "execute_result",
     "data": {
      "text/plain": "[4, 5]"
     },
     "metadata": {},
     "execution_count": 16
    }
   ],
   "source": [
    "set_3= {1,2,3,4,5}\n",
    "list(set_3 - set_2)"
   ]
  },
  {
   "cell_type": "code",
   "execution_count": 17,
   "metadata": {},
   "outputs": [],
   "source": [
    "func = lambda a : a[i]"
   ]
  },
  {
   "cell_type": "code",
   "execution_count": 18,
   "metadata": {},
   "outputs": [
    {
     "output_type": "execute_result",
     "data": {
      "text/plain": "{1: 'a', 2: 'b', 3: 'c'}"
     },
     "metadata": {},
     "execution_count": 18
    }
   ],
   "source": [
    "set_4 = ['a', 'b', 'c']\n",
    "d = dict(zip(set_1,set_4))\n",
    "d"
   ]
  },
  {
   "cell_type": "code",
   "execution_count": 19,
   "metadata": {},
   "outputs": [
    {
     "output_type": "stream",
     "name": "stdout",
     "text": "a\nb\nc\n"
    }
   ],
   "source": [
    "for i in d:\n",
    "    print(func(d))"
   ]
  },
  {
   "cell_type": "code",
   "execution_count": 20,
   "metadata": {},
   "outputs": [
    {
     "output_type": "execute_result",
     "data": {
      "text/plain": "[2, 3]"
     },
     "metadata": {},
     "execution_count": 20
    }
   ],
   "source": [
    "[i for i in d if i > 1]"
   ]
  },
  {
   "cell_type": "code",
   "execution_count": 21,
   "metadata": {},
   "outputs": [
    {
     "output_type": "execute_result",
     "data": {
      "text/plain": "25"
     },
     "metadata": {},
     "execution_count": 21
    }
   ],
   "source": [
    "(lambda x: x * x) (5)\n"
   ]
  },
  {
   "cell_type": "code",
   "execution_count": 22,
   "metadata": {},
   "outputs": [
    {
     "output_type": "execute_result",
     "data": {
      "text/plain": "[1, 4, 9, 16]"
     },
     "metadata": {},
     "execution_count": 22
    }
   ],
   "source": [
    "L = [1, 2, 3, 4]\n",
    "list(map(lambda x: x**2, L))"
   ]
  },
  {
   "cell_type": "code",
   "execution_count": 23,
   "metadata": {},
   "outputs": [
    {
     "output_type": "execute_result",
     "data": {
      "text/plain": "[2, 20]"
     },
     "metadata": {},
     "execution_count": 23
    }
   ],
   "source": [
    "list(filter(lambda x: x % 2 == 0, [1, 3, 2, 5, 20, 21]))"
   ]
  },
  {
   "cell_type": "code",
   "execution_count": 24,
   "metadata": {},
   "outputs": [
    {
     "output_type": "execute_result",
     "data": {
      "text/plain": "990000.0"
     },
     "metadata": {},
     "execution_count": 24
    }
   ],
   "source": [
    "1e4*100 - 1e4"
   ]
  },
  {
   "cell_type": "code",
   "execution_count": 25,
   "metadata": {},
   "outputs": [
    {
     "output_type": "execute_result",
     "data": {
      "text/plain": "    a    c\n0   1    3\n1   4    6\n2   7    9\n3  10  red",
      "text/html": "<div>\n<style scoped>\n    .dataframe tbody tr th:only-of-type {\n        vertical-align: middle;\n    }\n\n    .dataframe tbody tr th {\n        vertical-align: top;\n    }\n\n    .dataframe thead th {\n        text-align: right;\n    }\n</style>\n<table border=\"1\" class=\"dataframe\">\n  <thead>\n    <tr style=\"text-align: right;\">\n      <th></th>\n      <th>a</th>\n      <th>c</th>\n    </tr>\n  </thead>\n  <tbody>\n    <tr>\n      <th>0</th>\n      <td>1</td>\n      <td>3</td>\n    </tr>\n    <tr>\n      <th>1</th>\n      <td>4</td>\n      <td>6</td>\n    </tr>\n    <tr>\n      <th>2</th>\n      <td>7</td>\n      <td>9</td>\n    </tr>\n    <tr>\n      <th>3</th>\n      <td>10</td>\n      <td>red</td>\n    </tr>\n  </tbody>\n</table>\n</div>"
     },
     "metadata": {},
     "execution_count": 25
    }
   ],
   "source": [
    "df"
   ]
  },
  {
   "cell_type": "code",
   "execution_count": 26,
   "metadata": {},
   "outputs": [
    {
     "output_type": "error",
     "ename": "ValueError",
     "evalue": "Cannot mask with non-boolean array containing NA / NaN values",
     "traceback": [
      "\u001b[1;31m---------------------------------------------------------------------------\u001b[0m",
      "\u001b[1;31mValueError\u001b[0m                                Traceback (most recent call last)",
      "\u001b[1;32m<ipython-input-26-3e7d13ad3d41>\u001b[0m in \u001b[0;36m<module>\u001b[1;34m\u001b[0m\n\u001b[1;32m----> 1\u001b[1;33m \u001b[0mdf\u001b[0m\u001b[1;33m[\u001b[0m\u001b[0mdf\u001b[0m\u001b[1;33m[\u001b[0m\u001b[1;34m'c'\u001b[0m\u001b[1;33m]\u001b[0m\u001b[1;33m.\u001b[0m\u001b[0mstr\u001b[0m\u001b[1;33m.\u001b[0m\u001b[0mcontains\u001b[0m\u001b[1;33m(\u001b[0m\u001b[1;34m'red'\u001b[0m\u001b[1;33m)\u001b[0m\u001b[1;33m]\u001b[0m\u001b[1;33m\u001b[0m\u001b[1;33m\u001b[0m\u001b[0m\n\u001b[0m",
      "\u001b[1;32mD:\\Anaconda\\envs\\myenv\\lib\\site-packages\\pandas\\core\\frame.py\u001b[0m in \u001b[0;36m__getitem__\u001b[1;34m(self, key)\u001b[0m\n\u001b[0;32m   2788\u001b[0m \u001b[1;33m\u001b[0m\u001b[0m\n\u001b[0;32m   2789\u001b[0m         \u001b[1;31m# Do we have a (boolean) 1d indexer?\u001b[0m\u001b[1;33m\u001b[0m\u001b[1;33m\u001b[0m\u001b[1;33m\u001b[0m\u001b[0m\n\u001b[1;32m-> 2790\u001b[1;33m         \u001b[1;32mif\u001b[0m \u001b[0mcom\u001b[0m\u001b[1;33m.\u001b[0m\u001b[0mis_bool_indexer\u001b[0m\u001b[1;33m(\u001b[0m\u001b[0mkey\u001b[0m\u001b[1;33m)\u001b[0m\u001b[1;33m:\u001b[0m\u001b[1;33m\u001b[0m\u001b[1;33m\u001b[0m\u001b[0m\n\u001b[0m\u001b[0;32m   2791\u001b[0m             \u001b[1;32mreturn\u001b[0m \u001b[0mself\u001b[0m\u001b[1;33m.\u001b[0m\u001b[0m_getitem_bool_array\u001b[0m\u001b[1;33m(\u001b[0m\u001b[0mkey\u001b[0m\u001b[1;33m)\u001b[0m\u001b[1;33m\u001b[0m\u001b[1;33m\u001b[0m\u001b[0m\n\u001b[0;32m   2792\u001b[0m \u001b[1;33m\u001b[0m\u001b[0m\n",
      "\u001b[1;32mD:\\Anaconda\\envs\\myenv\\lib\\site-packages\\pandas\\core\\common.py\u001b[0m in \u001b[0;36mis_bool_indexer\u001b[1;34m(key)\u001b[0m\n\u001b[0;32m    134\u001b[0m                 \u001b[0mna_msg\u001b[0m \u001b[1;33m=\u001b[0m \u001b[1;34m\"Cannot mask with non-boolean array containing NA / NaN values\"\u001b[0m\u001b[1;33m\u001b[0m\u001b[1;33m\u001b[0m\u001b[0m\n\u001b[0;32m    135\u001b[0m                 \u001b[1;32mif\u001b[0m \u001b[0misna\u001b[0m\u001b[1;33m(\u001b[0m\u001b[0mkey\u001b[0m\u001b[1;33m)\u001b[0m\u001b[1;33m.\u001b[0m\u001b[0many\u001b[0m\u001b[1;33m(\u001b[0m\u001b[1;33m)\u001b[0m\u001b[1;33m:\u001b[0m\u001b[1;33m\u001b[0m\u001b[1;33m\u001b[0m\u001b[0m\n\u001b[1;32m--> 136\u001b[1;33m                     \u001b[1;32mraise\u001b[0m \u001b[0mValueError\u001b[0m\u001b[1;33m(\u001b[0m\u001b[0mna_msg\u001b[0m\u001b[1;33m)\u001b[0m\u001b[1;33m\u001b[0m\u001b[1;33m\u001b[0m\u001b[0m\n\u001b[0m\u001b[0;32m    137\u001b[0m                 \u001b[1;32mreturn\u001b[0m \u001b[1;32mFalse\u001b[0m\u001b[1;33m\u001b[0m\u001b[1;33m\u001b[0m\u001b[0m\n\u001b[0;32m    138\u001b[0m             \u001b[1;32mreturn\u001b[0m \u001b[1;32mTrue\u001b[0m\u001b[1;33m\u001b[0m\u001b[1;33m\u001b[0m\u001b[0m\n",
      "\u001b[1;31mValueError\u001b[0m: Cannot mask with non-boolean array containing NA / NaN values"
     ]
    }
   ],
   "source": [
    "df[df['c'].str.contains('red')]"
   ]
  },
  {
   "cell_type": "code",
   "execution_count": 27,
   "metadata": {},
   "outputs": [
    {
     "output_type": "stream",
     "name": "stdout",
     "text": "Help on method_descriptor:\n\ncapitalize(self, /)\n    Return a capitalized version of the string.\n    \n    More specifically, make the first character have upper case and the rest lower\n    case.\n\n"
    }
   ],
   "source": [
    "help(str.capitalize)"
   ]
  },
  {
   "cell_type": "code",
   "execution_count": 28,
   "metadata": {},
   "outputs": [],
   "source": [
    "questions=[\n",
    "['Q: What is the range of incubation periods for the disease in humans?'],\n",
    "['Q: How long are individuals are contagious?'],\n",
    "['Q: How long are individuals are contagious, even after recovery.'],\n",
    "['Q: Does the range of incubation period vary across age groups?'],\n",
    "['Q: Does the range of incubation period vary with children?'],\n",
    "['Q: Does the range of incubation period vary based on underlying health?'],\n",
    "['Q: What do we know about the basic reproduction number?'],\n",
    "['Q: What is the prevalance of asymptomatic transmission?'],\n",
    "['Q: What do we know about asymptomatic transmission in children?'],\n",
    "['Q: What do we know about seasonality of transmission?'],\n",
    "['Q: Informing decontamination based on physical science of the coronavirus?'],\n",
    "['Q: What do we know about stability of the virus in environmental conditions?'],\n",
    "['Q: What do we know about persistence of the virus on various substrates? (e.g., nasal discharge, sputum, urine, fecal matter, blood)'],\n",
    "['Q: What do we know about persistence of the virus on various surfaces? (e,g., copper, stainless steel, plastic) '],\n",
    "['Q: What do we know about viral shedding duration?'],\n",
    "['Q: What do we know about viral shedding in fecal/stool?'],\n",
    "['Q: What do we know about viral shedding from nasopharynx?'],\n",
    "['Q: What do we know about viral shedding in blood?'],\n",
    "['Q: What do we know about viral shedding in urine?'],\n",
    "['Q: What do we know about implemtation of diagnostics?'],\n",
    "['Q: What do we know about disease models?'],\n",
    "['Q: What do we know about models for disease infection?'],\n",
    "['Q: What do we know about models for disease transmission?'],\n",
    "['Q: Are there studies about phenotypic change?'],\n",
    "['Q: What is know about adaptations (mutations) of the virus?'],\n",
    "['Q: What do we know about the human immune response and immunity?'],\n",
    "['Q: Is population movement control effective in stopping transmission (spread)?'],\n",
    "['Q: Effectiveness of personal protective equipment (PPE)?'],\n",
    "['Q: What is the role of environment in transmission?']\n",
    "]\n",
    "search=[['incubation','period','range'],\n",
    "['viral','shedding','duration'],\n",
    "['asymptomatic','shedding'],\n",
    "['incubation','period','age','statistically','significant'],\n",
    "['incubation','period','child'],\n",
    "['incubation','groups','risk'],\n",
    "['basic','reproduction', 'number','%'],\n",
    "['asymptomatic','infection','%'],\n",
    "['asymptomatic','children'],\n",
    "['seasonal','transmission'],\n",
    "['contaminat','object'],\n",
    "['environmental', 'conditions'],\n",
    "['sputum','stool','blood','urine'],\n",
    "['persistence','surfaces'],\n",
    "['duration','viral','shedding'],\n",
    "['shedding','stool'],\n",
    "['shedding','nasopharynx'],\n",
    "['shedding','blood'],\n",
    "['shedding','urine'],\n",
    "['diagnostics','point'],\n",
    "['model', 'disease'],        \n",
    "['model', 'infection'],\n",
    "['model', 'transmission'],\n",
    "['phenotypic'],\n",
    "['mutation'],\n",
    "['immune','response'],\n",
    "['restriction', 'movement'],\n",
    "['protective','clothing'],\n",
    "['transmission','routes']\n",
    "]\n"
   ]
  },
  {
   "cell_type": "code",
   "execution_count": 29,
   "metadata": {},
   "outputs": [
    {
     "output_type": "execute_result",
     "data": {
      "text/plain": "                                            questions  \\\n0   [Q: What is the range of incubation periods fo...   \n1       [Q: How long are individuals are contagious?]   \n2   [Q: How long are individuals are contagious, e...   \n3   [Q: Does the range of incubation period vary a...   \n4   [Q: Does the range of incubation period vary w...   \n5   [Q: Does the range of incubation period vary b...   \n6   [Q: What do we know about the basic reproducti...   \n7   [Q: What is the prevalance of asymptomatic tra...   \n8   [Q: What do we know about asymptomatic transmi...   \n9   [Q: What do we know about seasonality of trans...   \n10  [Q: Informing decontamination based on physica...   \n11  [Q: What do we know about stability of the vir...   \n12  [Q: What do we know about persistence of the v...   \n13  [Q: What do we know about persistence of the v...   \n14  [Q: What do we know about viral shedding durat...   \n15  [Q: What do we know about viral shedding in fe...   \n16  [Q: What do we know about viral shedding from ...   \n17  [Q: What do we know about viral shedding in bl...   \n18  [Q: What do we know about viral shedding in ur...   \n19  [Q: What do we know about implemtation of diag...   \n20         [Q: What do we know about disease models?]   \n21  [Q: What do we know about models for disease i...   \n22  [Q: What do we know about models for disease t...   \n23    [Q: Are there studies about phenotypic change?]   \n24  [Q: What is know about adaptations (mutations)...   \n25  [Q: What do we know about the human immune res...   \n26  [Q: Is population movement control effective i...   \n27  [Q: Effectiveness of personal protective equip...   \n28  [Q: What is the role of environment in transmi...   \n\n                                               search  \n0                         [incubation, period, range]  \n1                         [viral, shedding, duration]  \n2                            [asymptomatic, shedding]  \n3   [incubation, period, age, statistically, signi...  \n4                         [incubation, period, child]  \n5                          [incubation, groups, risk]  \n6                    [basic, reproduction, number, %]  \n7                        [asymptomatic, infection, %]  \n8                            [asymptomatic, children]  \n9                            [seasonal, transmission]  \n10                               [contaminat, object]  \n11                        [environmental, conditions]  \n12                      [sputum, stool, blood, urine]  \n13                            [persistence, surfaces]  \n14                        [duration, viral, shedding]  \n15                                  [shedding, stool]  \n16                            [shedding, nasopharynx]  \n17                                  [shedding, blood]  \n18                                  [shedding, urine]  \n19                               [diagnostics, point]  \n20                                   [model, disease]  \n21                                 [model, infection]  \n22                              [model, transmission]  \n23                                       [phenotypic]  \n24                                         [mutation]  \n25                                 [immune, response]  \n26                            [restriction, movement]  \n27                             [protective, clothing]  \n28                             [transmission, routes]  ",
      "text/html": "<div>\n<style scoped>\n    .dataframe tbody tr th:only-of-type {\n        vertical-align: middle;\n    }\n\n    .dataframe tbody tr th {\n        vertical-align: top;\n    }\n\n    .dataframe thead th {\n        text-align: right;\n    }\n</style>\n<table border=\"1\" class=\"dataframe\">\n  <thead>\n    <tr style=\"text-align: right;\">\n      <th></th>\n      <th>questions</th>\n      <th>search</th>\n    </tr>\n  </thead>\n  <tbody>\n    <tr>\n      <th>0</th>\n      <td>[Q: What is the range of incubation periods fo...</td>\n      <td>[incubation, period, range]</td>\n    </tr>\n    <tr>\n      <th>1</th>\n      <td>[Q: How long are individuals are contagious?]</td>\n      <td>[viral, shedding, duration]</td>\n    </tr>\n    <tr>\n      <th>2</th>\n      <td>[Q: How long are individuals are contagious, e...</td>\n      <td>[asymptomatic, shedding]</td>\n    </tr>\n    <tr>\n      <th>3</th>\n      <td>[Q: Does the range of incubation period vary a...</td>\n      <td>[incubation, period, age, statistically, signi...</td>\n    </tr>\n    <tr>\n      <th>4</th>\n      <td>[Q: Does the range of incubation period vary w...</td>\n      <td>[incubation, period, child]</td>\n    </tr>\n    <tr>\n      <th>5</th>\n      <td>[Q: Does the range of incubation period vary b...</td>\n      <td>[incubation, groups, risk]</td>\n    </tr>\n    <tr>\n      <th>6</th>\n      <td>[Q: What do we know about the basic reproducti...</td>\n      <td>[basic, reproduction, number, %]</td>\n    </tr>\n    <tr>\n      <th>7</th>\n      <td>[Q: What is the prevalance of asymptomatic tra...</td>\n      <td>[asymptomatic, infection, %]</td>\n    </tr>\n    <tr>\n      <th>8</th>\n      <td>[Q: What do we know about asymptomatic transmi...</td>\n      <td>[asymptomatic, children]</td>\n    </tr>\n    <tr>\n      <th>9</th>\n      <td>[Q: What do we know about seasonality of trans...</td>\n      <td>[seasonal, transmission]</td>\n    </tr>\n    <tr>\n      <th>10</th>\n      <td>[Q: Informing decontamination based on physica...</td>\n      <td>[contaminat, object]</td>\n    </tr>\n    <tr>\n      <th>11</th>\n      <td>[Q: What do we know about stability of the vir...</td>\n      <td>[environmental, conditions]</td>\n    </tr>\n    <tr>\n      <th>12</th>\n      <td>[Q: What do we know about persistence of the v...</td>\n      <td>[sputum, stool, blood, urine]</td>\n    </tr>\n    <tr>\n      <th>13</th>\n      <td>[Q: What do we know about persistence of the v...</td>\n      <td>[persistence, surfaces]</td>\n    </tr>\n    <tr>\n      <th>14</th>\n      <td>[Q: What do we know about viral shedding durat...</td>\n      <td>[duration, viral, shedding]</td>\n    </tr>\n    <tr>\n      <th>15</th>\n      <td>[Q: What do we know about viral shedding in fe...</td>\n      <td>[shedding, stool]</td>\n    </tr>\n    <tr>\n      <th>16</th>\n      <td>[Q: What do we know about viral shedding from ...</td>\n      <td>[shedding, nasopharynx]</td>\n    </tr>\n    <tr>\n      <th>17</th>\n      <td>[Q: What do we know about viral shedding in bl...</td>\n      <td>[shedding, blood]</td>\n    </tr>\n    <tr>\n      <th>18</th>\n      <td>[Q: What do we know about viral shedding in ur...</td>\n      <td>[shedding, urine]</td>\n    </tr>\n    <tr>\n      <th>19</th>\n      <td>[Q: What do we know about implemtation of diag...</td>\n      <td>[diagnostics, point]</td>\n    </tr>\n    <tr>\n      <th>20</th>\n      <td>[Q: What do we know about disease models?]</td>\n      <td>[model, disease]</td>\n    </tr>\n    <tr>\n      <th>21</th>\n      <td>[Q: What do we know about models for disease i...</td>\n      <td>[model, infection]</td>\n    </tr>\n    <tr>\n      <th>22</th>\n      <td>[Q: What do we know about models for disease t...</td>\n      <td>[model, transmission]</td>\n    </tr>\n    <tr>\n      <th>23</th>\n      <td>[Q: Are there studies about phenotypic change?]</td>\n      <td>[phenotypic]</td>\n    </tr>\n    <tr>\n      <th>24</th>\n      <td>[Q: What is know about adaptations (mutations)...</td>\n      <td>[mutation]</td>\n    </tr>\n    <tr>\n      <th>25</th>\n      <td>[Q: What do we know about the human immune res...</td>\n      <td>[immune, response]</td>\n    </tr>\n    <tr>\n      <th>26</th>\n      <td>[Q: Is population movement control effective i...</td>\n      <td>[restriction, movement]</td>\n    </tr>\n    <tr>\n      <th>27</th>\n      <td>[Q: Effectiveness of personal protective equip...</td>\n      <td>[protective, clothing]</td>\n    </tr>\n    <tr>\n      <th>28</th>\n      <td>[Q: What is the role of environment in transmi...</td>\n      <td>[transmission, routes]</td>\n    </tr>\n  </tbody>\n</table>\n</div>"
     },
     "metadata": {},
     "execution_count": 29
    }
   ],
   "source": [
    "pd.DataFrame(data = {'questions' : questions, 'search' : search})"
   ]
  },
  {
   "cell_type": "code",
   "execution_count": 30,
   "metadata": {},
   "outputs": [
    {
     "output_type": "execute_result",
     "data": {
      "text/plain": "      a    b    c\n0   7.0  2.0  3.0\n1   4.0  3.5  6.0\n2  10.0  5.0  9.0",
      "text/html": "<div>\n<style scoped>\n    .dataframe tbody tr th:only-of-type {\n        vertical-align: middle;\n    }\n\n    .dataframe tbody tr th {\n        vertical-align: top;\n    }\n\n    .dataframe thead th {\n        text-align: right;\n    }\n</style>\n<table border=\"1\" class=\"dataframe\">\n  <thead>\n    <tr style=\"text-align: right;\">\n      <th></th>\n      <th>a</th>\n      <th>b</th>\n      <th>c</th>\n    </tr>\n  </thead>\n  <tbody>\n    <tr>\n      <th>0</th>\n      <td>7.0</td>\n      <td>2.0</td>\n      <td>3.0</td>\n    </tr>\n    <tr>\n      <th>1</th>\n      <td>4.0</td>\n      <td>3.5</td>\n      <td>6.0</td>\n    </tr>\n    <tr>\n      <th>2</th>\n      <td>10.0</td>\n      <td>5.0</td>\n      <td>9.0</td>\n    </tr>\n  </tbody>\n</table>\n</div>"
     },
     "metadata": {},
     "execution_count": 30
    }
   ],
   "source": [
    "from sklearn.impute import SimpleImputer\n",
    "\n",
    "imp_default =  SimpleImputer()\n",
    "\n",
    "testImp = pd.DataFrame(data = [[7, 2, 3], [4, np.nan, 6], [10, 5, 9]])\n",
    "\n",
    "pd.DataFrame(imp_default.fit_transform(testImp), columns= ['a', 'b', 'c'])"
   ]
  },
  {
   "cell_type": "code",
   "execution_count": 31,
   "metadata": {},
   "outputs": [
    {
     "output_type": "execute_result",
     "data": {
      "text/plain": "    0    1  2\n0   7  2.0  3\n1   4  NaN  6\n2  10  5.0  9",
      "text/html": "<div>\n<style scoped>\n    .dataframe tbody tr th:only-of-type {\n        vertical-align: middle;\n    }\n\n    .dataframe tbody tr th {\n        vertical-align: top;\n    }\n\n    .dataframe thead th {\n        text-align: right;\n    }\n</style>\n<table border=\"1\" class=\"dataframe\">\n  <thead>\n    <tr style=\"text-align: right;\">\n      <th></th>\n      <th>0</th>\n      <th>1</th>\n      <th>2</th>\n    </tr>\n  </thead>\n  <tbody>\n    <tr>\n      <th>0</th>\n      <td>7</td>\n      <td>2.0</td>\n      <td>3</td>\n    </tr>\n    <tr>\n      <th>1</th>\n      <td>4</td>\n      <td>NaN</td>\n      <td>6</td>\n    </tr>\n    <tr>\n      <th>2</th>\n      <td>10</td>\n      <td>5.0</td>\n      <td>9</td>\n    </tr>\n  </tbody>\n</table>\n</div>"
     },
     "metadata": {},
     "execution_count": 31
    }
   ],
   "source": [
    "testImp"
   ]
  },
  {
   "cell_type": "code",
   "execution_count": 32,
   "metadata": {},
   "outputs": [
    {
     "output_type": "execute_result",
     "data": {
      "text/plain": "      A    B    C\n0   7.0  2.0  3.0\n1   4.0  3.5  6.0\n2  10.0  3.5  9.0",
      "text/html": "<div>\n<style scoped>\n    .dataframe tbody tr th:only-of-type {\n        vertical-align: middle;\n    }\n\n    .dataframe tbody tr th {\n        vertical-align: top;\n    }\n\n    .dataframe thead th {\n        text-align: right;\n    }\n</style>\n<table border=\"1\" class=\"dataframe\">\n  <thead>\n    <tr style=\"text-align: right;\">\n      <th></th>\n      <th>A</th>\n      <th>B</th>\n      <th>C</th>\n    </tr>\n  </thead>\n  <tbody>\n    <tr>\n      <th>0</th>\n      <td>7.0</td>\n      <td>2.0</td>\n      <td>3.0</td>\n    </tr>\n    <tr>\n      <th>1</th>\n      <td>4.0</td>\n      <td>3.5</td>\n      <td>6.0</td>\n    </tr>\n    <tr>\n      <th>2</th>\n      <td>10.0</td>\n      <td>3.5</td>\n      <td>9.0</td>\n    </tr>\n  </tbody>\n</table>\n</div>"
     },
     "metadata": {},
     "execution_count": 32
    }
   ],
   "source": [
    "NewImp = [[np.nan, 2, 3], [4, np.nan, 6], [10, np.nan, 9]]\n",
    "\n",
    "pd.DataFrame(imp_default.transform(NewImp), columns= ['A', 'B', 'C'])"
   ]
  },
  {
   "cell_type": "code",
   "execution_count": null,
   "metadata": {},
   "outputs": [],
   "source": []
  }
 ],
 "metadata": {
  "language_info": {
   "codemirror_mode": {
    "name": "ipython",
    "version": 3
   },
   "file_extension": ".py",
   "mimetype": "text/x-python",
   "name": "python",
   "nbconvert_exporter": "python",
   "pygments_lexer": "ipython3",
   "version": "3.7.7-final"
  },
  "orig_nbformat": 2,
  "kernelspec": {
   "name": "python37764bitmyenvcondaf71ff355ce124372a0a7a868420df0ba",
   "display_name": "Python 3.7.7 64-bit ('myenv': conda)"
  }
 },
 "nbformat": 4,
 "nbformat_minor": 2
}