{
 "cells": [
  {
   "cell_type": "code",
   "execution_count": 1,
   "metadata": {},
   "outputs": [],
   "source": [
    "import pandas as pd\n",
    "import numpy as np\n",
    "import matplotlib.pyplot as plt\n",
    "from scipy import stats\n"
   ]
  },
  {
   "cell_type": "code",
   "execution_count": 2,
   "metadata": {},
   "outputs": [],
   "source": [
    "dataFrame = pd.read_csv(r'C:\\Users\\Peiran Quan\\Desktop\\secperpickVSpicks.csv')"
   ]
  },
  {
   "cell_type": "code",
   "execution_count": 3,
   "metadata": {},
   "outputs": [
    {
     "data": {
      "text/html": [
       "<div>\n",
       "<style scoped>\n",
       "    .dataframe tbody tr th:only-of-type {\n",
       "        vertical-align: middle;\n",
       "    }\n",
       "\n",
       "    .dataframe tbody tr th {\n",
       "        vertical-align: top;\n",
       "    }\n",
       "\n",
       "    .dataframe thead th {\n",
       "        text-align: right;\n",
       "    }\n",
       "</style>\n",
       "<table border=\"1\" class=\"dataframe\">\n",
       "  <thead>\n",
       "    <tr style=\"text-align: right;\">\n",
       "      <th></th>\n",
       "      <th>Week/Recipe</th>\n",
       "      <th>Sec per Pick (pure production)</th>\n",
       "      <th>Picks</th>\n",
       "    </tr>\n",
       "  </thead>\n",
       "  <tbody>\n",
       "    <tr>\n",
       "      <td>0</td>\n",
       "      <td>2020-07 B2</td>\n",
       "      <td>6.294643</td>\n",
       "      <td>4</td>\n",
       "    </tr>\n",
       "    <tr>\n",
       "      <td>1</td>\n",
       "      <td>2020-09 H2</td>\n",
       "      <td>5.805081</td>\n",
       "      <td>5</td>\n",
       "    </tr>\n",
       "    <tr>\n",
       "      <td>2</td>\n",
       "      <td>2020-11 C2</td>\n",
       "      <td>6.368316</td>\n",
       "      <td>5</td>\n",
       "    </tr>\n",
       "    <tr>\n",
       "      <td>3</td>\n",
       "      <td>2020-11 M4</td>\n",
       "      <td>5.772031</td>\n",
       "      <td>5</td>\n",
       "    </tr>\n",
       "    <tr>\n",
       "      <td>4</td>\n",
       "      <td>2020-07 B4</td>\n",
       "      <td>5.345696</td>\n",
       "      <td>6</td>\n",
       "    </tr>\n",
       "    <tr>\n",
       "      <td>...</td>\n",
       "      <td>...</td>\n",
       "      <td>...</td>\n",
       "      <td>...</td>\n",
       "    </tr>\n",
       "    <tr>\n",
       "      <td>113</td>\n",
       "      <td>2020-11 G4</td>\n",
       "      <td>4.523529</td>\n",
       "      <td>17</td>\n",
       "    </tr>\n",
       "    <tr>\n",
       "      <td>114</td>\n",
       "      <td>2020-08 I4</td>\n",
       "      <td>3.000594</td>\n",
       "      <td>18</td>\n",
       "    </tr>\n",
       "    <tr>\n",
       "      <td>115</td>\n",
       "      <td>2020-09 J4</td>\n",
       "      <td>3.191643</td>\n",
       "      <td>20</td>\n",
       "    </tr>\n",
       "    <tr>\n",
       "      <td>116</td>\n",
       "      <td>2020-10 J4</td>\n",
       "      <td>4.137465</td>\n",
       "      <td>20</td>\n",
       "    </tr>\n",
       "    <tr>\n",
       "      <td>117</td>\n",
       "      <td>2020-11 I4</td>\n",
       "      <td>3.334966</td>\n",
       "      <td>25</td>\n",
       "    </tr>\n",
       "  </tbody>\n",
       "</table>\n",
       "<p>118 rows × 3 columns</p>\n",
       "</div>"
      ],
      "text/plain": [
       "    Week/Recipe  Sec per Pick (pure production)  Picks\n",
       "0    2020-07 B2                        6.294643      4\n",
       "1    2020-09 H2                        5.805081      5\n",
       "2    2020-11 C2                        6.368316      5\n",
       "3    2020-11 M4                        5.772031      5\n",
       "4    2020-07 B4                        5.345696      6\n",
       "..          ...                             ...    ...\n",
       "113  2020-11 G4                        4.523529     17\n",
       "114  2020-08 I4                        3.000594     18\n",
       "115  2020-09 J4                        3.191643     20\n",
       "116  2020-10 J4                        4.137465     20\n",
       "117  2020-11 I4                        3.334966     25\n",
       "\n",
       "[118 rows x 3 columns]"
      ]
     },
     "execution_count": 3,
     "metadata": {},
     "output_type": "execute_result"
    }
   ],
   "source": [
    "dataFrame"
   ]
  },
  {
   "cell_type": "code",
   "execution_count": 4,
   "metadata": {},
   "outputs": [],
   "source": [
    "sec_per_pick = dataFrame['Sec per Pick (pure production)']\n",
    "picks = dataFrame['Picks']"
   ]
  },
  {
   "cell_type": "code",
   "execution_count": 5,
   "metadata": {},
   "outputs": [
    {
     "data": {
      "text/plain": [
       "(0      6.294643\n",
       " 1      5.805081\n",
       " 2      6.368316\n",
       " 3      5.772031\n",
       " 4      5.345696\n",
       "          ...   \n",
       " 113    4.523529\n",
       " 114    3.000594\n",
       " 115    3.191643\n",
       " 116    4.137465\n",
       " 117    3.334966\n",
       " Name: Sec per Pick (pure production), Length: 118, dtype: float64, 0       4\n",
       " 1       5\n",
       " 2       5\n",
       " 3       5\n",
       " 4       6\n",
       "        ..\n",
       " 113    17\n",
       " 114    18\n",
       " 115    20\n",
       " 116    20\n",
       " 117    25\n",
       " Name: Picks, Length: 118, dtype: int64)"
      ]
     },
     "execution_count": 5,
     "metadata": {},
     "output_type": "execute_result"
    }
   ],
   "source": [
    "sec_per_pick, picks"
   ]
  },
  {
   "cell_type": "code",
   "execution_count": 6,
   "metadata": {},
   "outputs": [
    {
     "name": "stdout",
     "output_type": "stream",
     "text": [
      "slope: -0.142460    intercept: 5.590953 r-value: -0.623106 \n"
     ]
    }
   ],
   "source": [
    "slope, intercept, r_value, p_value, std_err = stats.linregress(picks, sec_per_pick)\n",
    "print(\"slope: %f    intercept: %f r-value: %f \" % (slope, intercept, r_value))"
   ]
  },
  {
   "cell_type": "code",
   "execution_count": 7,
   "metadata": {},
   "outputs": [
    {
     "name": "stdout",
     "output_type": "stream",
     "text": [
      "R-squared: 0.388261 p-value: 0.000000\n"
     ]
    }
   ],
   "source": [
    "print(\"R-squared: %f p-value: %f\" % (r_value**2, p_value) )"
   ]
  },
  {
   "cell_type": "code",
   "execution_count": 8,
   "metadata": {},
   "outputs": [
    {
     "data": {
      "image/png": "[encoded data removed]",
      "text/plain": [
       "<Figure size 432x288 with 1 Axes>"
      ]
     },
     "metadata": {
      "needs_background": "light"
     },
     "output_type": "display_data"
    }
   ],
   "source": [
    "plt.plot(picks, sec_per_pick, 'o', label='original data')\n",
    "plt.plot(picks, intercept + slope*picks, 'r', label='fitted line')\n",
    "plt.legend()\n",
    "plt.show()"
   ]
  },
  {
   "cell_type": "code",
   "execution_count": 9,
   "metadata": {},
   "outputs": [],
   "source": [
    "UniquePicks = dataFrame.Picks.unique()\n",
    "DataFrameDict = {elem : pd.DataFrame for elem in UniquePicks}"
   ]
  },
  {
   "cell_type": "code",
   "execution_count": 10,
   "metadata": {},
   "outputs": [],
   "source": [
    "for key in DataFrameDict.keys():\n",
    "    DataFrameDict[key] = dataFrame[:][dataFrame.Picks == key]"
   ]
  },
  {
   "cell_type": "code",
   "execution_count": 11,
   "metadata": {},
   "outputs": [],
   "source": [
    "DF_by_picks = pd.DataFrame(data=None)"
   ]
  },
  {
   "cell_type": "code",
   "execution_count": 12,
   "metadata": {},
   "outputs": [
    {
     "name": "stdout",
     "output_type": "stream",
     "text": [
      "     Week/Recipe Sec per Pick (pure production)  Picks  Week/Recipe  \\\n",
      "0     2020-07 B2                       6.294643    4.0          NaN   \n",
      "1            NaN                            NaN    NaN   2020-09 H2   \n",
      "2            NaN                            NaN    NaN   2020-11 C2   \n",
      "3            NaN                            NaN    NaN   2020-11 M4   \n",
      "4            NaN                            NaN    NaN          NaN   \n",
      "..           ...                            ...    ...          ...   \n",
      "113          NaN                            NaN    NaN          NaN   \n",
      "114          NaN                            NaN    NaN          NaN   \n",
      "115          NaN                            NaN    NaN          NaN   \n",
      "116          NaN                            NaN    NaN          NaN   \n",
      "117          NaN                            NaN    NaN          NaN   \n",
      "\n",
      "    Sec per Pick (pure production)  Picks  Week/Recipe  \\\n",
      "0                              NaN    NaN          NaN   \n",
      "1                         5.805081    5.0          NaN   \n",
      "2                         6.368316    5.0          NaN   \n",
      "3                         5.772031    5.0          NaN   \n",
      "4                              NaN    NaN   2020-07 B4   \n",
      "..                             ...    ...          ...   \n",
      "113                            NaN    NaN          NaN   \n",
      "114                            NaN    NaN          NaN   \n",
      "115                            NaN    NaN          NaN   \n",
      "116                            NaN    NaN          NaN   \n",
      "117                            NaN    NaN          NaN   \n",
      "\n",
      "    Sec per Pick (pure production)  Picks  Week/Recipe  ...  Picks  \\\n",
      "0                              NaN    NaN          NaN  ...    NaN   \n",
      "1                              NaN    NaN          NaN  ...    NaN   \n",
      "2                              NaN    NaN          NaN  ...    NaN   \n",
      "3                              NaN    NaN          NaN  ...    NaN   \n",
      "4                         5.345696    6.0          NaN  ...    NaN   \n",
      "..                             ...    ...          ...  ...    ...   \n",
      "113                            NaN    NaN          NaN  ...   17.0   \n",
      "114                            NaN    NaN          NaN  ...    NaN   \n",
      "115                            NaN    NaN          NaN  ...    NaN   \n",
      "116                            NaN    NaN          NaN  ...    NaN   \n",
      "117                            NaN    NaN          NaN  ...    NaN   \n",
      "\n",
      "     Week/Recipe Sec per Pick (pure production)  Picks  Week/Recipe  \\\n",
      "0            NaN                            NaN    NaN          NaN   \n",
      "1            NaN                            NaN    NaN          NaN   \n",
      "2            NaN                            NaN    NaN          NaN   \n",
      "3            NaN                            NaN    NaN          NaN   \n",
      "4            NaN                            NaN    NaN          NaN   \n",
      "..           ...                            ...    ...          ...   \n",
      "113          NaN                            NaN    NaN          NaN   \n",
      "114   2020-08 I4                       3.000594   18.0          NaN   \n",
      "115          NaN                            NaN    NaN   2020-09 J4   \n",
      "116          NaN                            NaN    NaN   2020-10 J4   \n",
      "117          NaN                            NaN    NaN          NaN   \n",
      "\n",
      "    Sec per Pick (pure production)  Picks  Week/Recipe  \\\n",
      "0                              NaN    NaN          NaN   \n",
      "1                              NaN    NaN          NaN   \n",
      "2                              NaN    NaN          NaN   \n",
      "3                              NaN    NaN          NaN   \n",
      "4                              NaN    NaN          NaN   \n",
      "..                             ...    ...          ...   \n",
      "113                            NaN    NaN          NaN   \n",
      "114                            NaN    NaN          NaN   \n",
      "115                       3.191643   20.0          NaN   \n",
      "116                       4.137465   20.0          NaN   \n",
      "117                            NaN    NaN   2020-11 I4   \n",
      "\n",
      "    Sec per Pick (pure production)  Picks  \n",
      "0                              NaN    NaN  \n",
      "1                              NaN    NaN  \n",
      "2                              NaN    NaN  \n",
      "3                              NaN    NaN  \n",
      "4                              NaN    NaN  \n",
      "..                             ...    ...  \n",
      "113                            NaN    NaN  \n",
      "114                            NaN    NaN  \n",
      "115                            NaN    NaN  \n",
      "116                            NaN    NaN  \n",
      "117                       3.334966   25.0  \n",
      "\n",
      "[118 rows x 51 columns]\n"
     ]
    }
   ],
   "source": [
    "for key in DataFrameDict.keys():\n",
    "    DF_by_picks =  pd.concat([DF_by_picks, DataFrameDict[key]], axis = 1, join='outer')\n",
    "print(DF_by_picks)"
   ]
  },
  {
   "cell_type": "code",
   "execution_count": 13,
   "metadata": {},
   "outputs": [
    {
     "data": {
      "text/plain": [
       "<matplotlib.axes._subplots.AxesSubplot at 0x1eb8d84eb08>"
      ]
     },
     "execution_count": 13,
     "metadata": {},
     "output_type": "execute_result"
    },
    {
     "data": {
      "image/png": "[encoded data removed]",
      "text/plain": [
       "<Figure size 432x288 with 1 Axes>"
      ]
     },
     "metadata": {
      "needs_background": "light"
     },
     "output_type": "display_data"
    }
   ],
   "source": [
    "DF_by_picks.plot.box(grid = 'True')"
   ]
  },
  {
   "cell_type": "code",
   "execution_count": 5,
   "metadata": {},
   "outputs": [
    {
     "data": {
      "text/plain": [
       "{4: pandas.core.frame.DataFrame,\n",
       " 5: pandas.core.frame.DataFrame,\n",
       " 6: pandas.core.frame.DataFrame,\n",
       " 7: pandas.core.frame.DataFrame,\n",
       " 8: pandas.core.frame.DataFrame,\n",
       " 9: pandas.core.frame.DataFrame,\n",
       " 10: pandas.core.frame.DataFrame,\n",
       " 11: pandas.core.frame.DataFrame,\n",
       " 12: pandas.core.frame.DataFrame,\n",
       " 13: pandas.core.frame.DataFrame,\n",
       " 14: pandas.core.frame.DataFrame,\n",
       " 15: pandas.core.frame.DataFrame,\n",
       " 16: pandas.core.frame.DataFrame,\n",
       " 17: pandas.core.frame.DataFrame,\n",
       " 18: pandas.core.frame.DataFrame,\n",
       " 20: pandas.core.frame.DataFrame,\n",
       " 25: pandas.core.frame.DataFrame}"
      ]
     },
     "execution_count": 5,
     "metadata": {},
     "output_type": "execute_result"
    }
   ],
   "source": []
  },
  {
   "cell_type": "code",
   "execution_count": 14,
   "metadata": {},
   "outputs": [],
   "source": []
  },
  {
   "cell_type": "code",
   "execution_count": 15,
   "metadata": {},
   "outputs": [
    {
     "data": {
      "text/html": [
       "<div>\n",
       "<style scoped>\n",
       "    .dataframe tbody tr th:only-of-type {\n",
       "        vertical-align: middle;\n",
       "    }\n",
       "\n",
       "    .dataframe tbody tr th {\n",
       "        vertical-align: top;\n",
       "    }\n",
       "\n",
       "    .dataframe thead th {\n",
       "        text-align: right;\n",
       "    }\n",
       "</style>\n",
       "<table border=\"1\" class=\"dataframe\">\n",
       "  <thead>\n",
       "    <tr style=\"text-align: right;\">\n",
       "      <th></th>\n",
       "      <th>Week/Recipe</th>\n",
       "      <th>Sec per Pick (pure production)</th>\n",
       "      <th>Picks</th>\n",
       "    </tr>\n",
       "  </thead>\n",
       "  <tbody>\n",
       "    <tr>\n",
       "      <td>4</td>\n",
       "      <td>2020-07 B4</td>\n",
       "      <td>5.345696</td>\n",
       "      <td>6</td>\n",
       "    </tr>\n",
       "    <tr>\n",
       "      <td>5</td>\n",
       "      <td>2020-07 F2</td>\n",
       "      <td>5.620536</td>\n",
       "      <td>6</td>\n",
       "    </tr>\n",
       "    <tr>\n",
       "      <td>6</td>\n",
       "      <td>2020-08 E2</td>\n",
       "      <td>4.815569</td>\n",
       "      <td>6</td>\n",
       "    </tr>\n",
       "    <tr>\n",
       "      <td>7</td>\n",
       "      <td>2020-08 N4</td>\n",
       "      <td>6.525074</td>\n",
       "      <td>6</td>\n",
       "    </tr>\n",
       "    <tr>\n",
       "      <td>8</td>\n",
       "      <td>2020-09 A2</td>\n",
       "      <td>4.764981</td>\n",
       "      <td>6</td>\n",
       "    </tr>\n",
       "    <tr>\n",
       "      <td>9</td>\n",
       "      <td>2020-11 B2</td>\n",
       "      <td>4.712995</td>\n",
       "      <td>6</td>\n",
       "    </tr>\n",
       "  </tbody>\n",
       "</table>\n",
       "</div>"
      ],
      "text/plain": [
       "  Week/Recipe  Sec per Pick (pure production)  Picks\n",
       "4  2020-07 B4                        5.345696      6\n",
       "5  2020-07 F2                        5.620536      6\n",
       "6  2020-08 E2                        4.815569      6\n",
       "7  2020-08 N4                        6.525074      6\n",
       "8  2020-09 A2                        4.764981      6\n",
       "9  2020-11 B2                        4.712995      6"
      ]
     },
     "execution_count": 15,
     "metadata": {},
     "output_type": "execute_result"
    }
   ],
   "source": []
  },
  {
   "cell_type": "code",
   "execution_count": 12,
   "metadata": {},
   "outputs": [
    {
     "data": {
      "text/plain": [
       "dict_keys([4, 5, 6, 7, 8, 9, 10, 11, 12, 13, 14, 15, 16, 17, 18, 20, 25])"
      ]
     },
     "execution_count": 12,
     "metadata": {},
     "output_type": "execute_result"
    }
   ],
   "source": []
  },
  {
   "cell_type": "code",
   "execution_count": 16,
   "metadata": {},
   "outputs": [
    {
     "data": {
      "text/plain": [
       "<matplotlib.axes._subplots.AxesSubplot at 0x242269f38c8>"
      ]
     },
     "execution_count": 16,
     "metadata": {},
     "output_type": "execute_result"
    },
    {
     "data": {
      "image/png": "[encoded data removed]",
      "text/plain": [
       "<Figure size 432x288 with 1 Axes>"
      ]
     },
     "metadata": {
      "needs_background": "light"
     },
     "output_type": "display_data"
    }
   ],
   "source": []
  },
  {
   "cell_type": "code",
   "execution_count": 19,
   "metadata": {},
   "outputs": [
    {
     "data": {
      "text/html": [
       "<div>\n",
       "<style scoped>\n",
       "    .dataframe tbody tr th:only-of-type {\n",
       "        vertical-align: middle;\n",
       "    }\n",
       "\n",
       "    .dataframe tbody tr th {\n",
       "        vertical-align: top;\n",
       "    }\n",
       "\n",
       "    .dataframe thead th {\n",
       "        text-align: right;\n",
       "    }\n",
       "</style>\n",
       "<table border=\"1\" class=\"dataframe\">\n",
       "  <thead>\n",
       "    <tr style=\"text-align: right;\">\n",
       "      <th></th>\n",
       "      <th>Week/Recipe</th>\n",
       "      <th>Sec per Pick (pure production)</th>\n",
       "      <th>Picks</th>\n",
       "    </tr>\n",
       "  </thead>\n",
       "  <tbody>\n",
       "    <tr>\n",
       "      <td>1</td>\n",
       "      <td>2020-09 H2</td>\n",
       "      <td>5.805081</td>\n",
       "      <td>5</td>\n",
       "    </tr>\n",
       "    <tr>\n",
       "      <td>2</td>\n",
       "      <td>2020-11 C2</td>\n",
       "      <td>6.368316</td>\n",
       "      <td>5</td>\n",
       "    </tr>\n",
       "    <tr>\n",
       "      <td>3</td>\n",
       "      <td>2020-11 M4</td>\n",
       "      <td>5.772031</td>\n",
       "      <td>5</td>\n",
       "    </tr>\n",
       "    <tr>\n",
       "      <td>4</td>\n",
       "      <td>2020-07 B4</td>\n",
       "      <td>5.345696</td>\n",
       "      <td>6</td>\n",
       "    </tr>\n",
       "    <tr>\n",
       "      <td>5</td>\n",
       "      <td>2020-07 F2</td>\n",
       "      <td>5.620536</td>\n",
       "      <td>6</td>\n",
       "    </tr>\n",
       "    <tr>\n",
       "      <td>6</td>\n",
       "      <td>2020-08 E2</td>\n",
       "      <td>4.815569</td>\n",
       "      <td>6</td>\n",
       "    </tr>\n",
       "    <tr>\n",
       "      <td>7</td>\n",
       "      <td>2020-08 N4</td>\n",
       "      <td>6.525074</td>\n",
       "      <td>6</td>\n",
       "    </tr>\n",
       "    <tr>\n",
       "      <td>8</td>\n",
       "      <td>2020-09 A2</td>\n",
       "      <td>4.764981</td>\n",
       "      <td>6</td>\n",
       "    </tr>\n",
       "    <tr>\n",
       "      <td>9</td>\n",
       "      <td>2020-11 B2</td>\n",
       "      <td>4.712995</td>\n",
       "      <td>6</td>\n",
       "    </tr>\n",
       "  </tbody>\n",
       "</table>\n",
       "</div>"
      ],
      "text/plain": [
       "  Week/Recipe  Sec per Pick (pure production)  Picks\n",
       "1  2020-09 H2                        5.805081      5\n",
       "2  2020-11 C2                        6.368316      5\n",
       "3  2020-11 M4                        5.772031      5\n",
       "4  2020-07 B4                        5.345696      6\n",
       "5  2020-07 F2                        5.620536      6\n",
       "6  2020-08 E2                        4.815569      6\n",
       "7  2020-08 N4                        6.525074      6\n",
       "8  2020-09 A2                        4.764981      6\n",
       "9  2020-11 B2                        4.712995      6"
      ]
     },
     "execution_count": 19,
     "metadata": {},
     "output_type": "execute_result"
    }
   ],
   "source": []
  },
  {
   "cell_type": "code",
   "execution_count": 20,
   "metadata": {},
   "outputs": [
    {
     "data": {
      "text/plain": [
       "<matplotlib.axes._subplots.AxesSubplot at 0x24226d730c8>"
      ]
     },
     "execution_count": 20,
     "metadata": {},
     "output_type": "execute_result"
    },
    {
     "data": {
      "image/png": "[encoded data removed]",
      "text/plain": [
       "<Figure size 432x288 with 1 Axes>"
      ]
     },
     "metadata": {
      "needs_background": "light"
     },
     "output_type": "display_data"
    }
   ],
   "source": []
  },
  {
   "cell_type": "code",
   "execution_count": 10,
   "metadata": {},
   "outputs": [],
   "source": []
  },
  {
   "cell_type": "code",
   "execution_count": 11,
   "metadata": {},
   "outputs": [
    {
     "data": {
      "text/html": [
       "<div>\n",
       "<style scoped>\n",
       "    .dataframe tbody tr th:only-of-type {\n",
       "        vertical-align: middle;\n",
       "    }\n",
       "\n",
       "    .dataframe tbody tr th {\n",
       "        vertical-align: top;\n",
       "    }\n",
       "\n",
       "    .dataframe thead th {\n",
       "        text-align: right;\n",
       "    }\n",
       "</style>\n",
       "<table border=\"1\" class=\"dataframe\">\n",
       "  <thead>\n",
       "    <tr style=\"text-align: right;\">\n",
       "      <th></th>\n",
       "      <th>A</th>\n",
       "      <th>B</th>\n",
       "    </tr>\n",
       "  </thead>\n",
       "  <tbody>\n",
       "    <tr>\n",
       "      <td>0</td>\n",
       "      <td>0.408611</td>\n",
       "      <td>0.874104</td>\n",
       "    </tr>\n",
       "    <tr>\n",
       "      <td>1</td>\n",
       "      <td>0.853726</td>\n",
       "      <td>0.649573</td>\n",
       "    </tr>\n",
       "    <tr>\n",
       "      <td>2</td>\n",
       "      <td>0.607880</td>\n",
       "      <td>0.500006</td>\n",
       "    </tr>\n",
       "    <tr>\n",
       "      <td>3</td>\n",
       "      <td>0.383463</td>\n",
       "      <td>0.306211</td>\n",
       "    </tr>\n",
       "    <tr>\n",
       "      <td>4</td>\n",
       "      <td>0.506219</td>\n",
       "      <td>0.275166</td>\n",
       "    </tr>\n",
       "    <tr>\n",
       "      <td>5</td>\n",
       "      <td>0.239098</td>\n",
       "      <td>NaN</td>\n",
       "    </tr>\n",
       "    <tr>\n",
       "      <td>6</td>\n",
       "      <td>0.342981</td>\n",
       "      <td>NaN</td>\n",
       "    </tr>\n",
       "    <tr>\n",
       "      <td>7</td>\n",
       "      <td>0.250320</td>\n",
       "      <td>NaN</td>\n",
       "    </tr>\n",
       "    <tr>\n",
       "      <td>8</td>\n",
       "      <td>0.295928</td>\n",
       "      <td>NaN</td>\n",
       "    </tr>\n",
       "    <tr>\n",
       "      <td>9</td>\n",
       "      <td>0.304287</td>\n",
       "      <td>NaN</td>\n",
       "    </tr>\n",
       "  </tbody>\n",
       "</table>\n",
       "</div>"
      ],
      "text/plain": [
       "          A         B\n",
       "0  0.408611  0.874104\n",
       "1  0.853726  0.649573\n",
       "2  0.607880  0.500006\n",
       "3  0.383463  0.306211\n",
       "4  0.506219  0.275166\n",
       "5  0.239098       NaN\n",
       "6  0.342981       NaN\n",
       "7  0.250320       NaN\n",
       "8  0.295928       NaN\n",
       "9  0.304287       NaN"
      ]
     },
     "execution_count": 11,
     "metadata": {},
     "output_type": "execute_result"
    }
   ],
   "source": []
  },
  {
   "cell_type": "code",
   "execution_count": 30,
   "metadata": {},
   "outputs": [
    {
     "ename": "AttributeError",
     "evalue": "'tuple' object has no attribute 'plot'",
     "output_type": "error",
     "traceback": [
      "\u001b[1;31m---------------------------------------------------------------------------\u001b[0m",
      "\u001b[1;31mAttributeError\u001b[0m                            Traceback (most recent call last)",
      "\u001b[1;32m<ipython-input-30-a54967ec87bc>\u001b[0m in \u001b[0;36m<module>\u001b[1;34m\u001b[0m\n\u001b[1;32m----> 1\u001b[1;33m \u001b[0mdf_all\u001b[0m\u001b[1;33m.\u001b[0m\u001b[0mplot\u001b[0m\u001b[1;33m.\u001b[0m\u001b[0mbox\u001b[0m\u001b[1;33m(\u001b[0m\u001b[0mgrid\u001b[0m\u001b[1;33m=\u001b[0m\u001b[1;34m'True'\u001b[0m\u001b[1;33m)\u001b[0m\u001b[1;33m\u001b[0m\u001b[1;33m\u001b[0m\u001b[0m\n\u001b[0m",
      "\u001b[1;31mAttributeError\u001b[0m: 'tuple' object has no attribute 'plot'"
     ]
    }
   ],
   "source": []
  },
  {
   "cell_type": "code",
   "execution_count": null,
   "metadata": {},
   "outputs": [],
   "source": []
  }
 ],
 "metadata": {
  "kernelspec": {
   "display_name": "Python 3",
   "language": "python",
   "name": "python3"
  },
  "language_info": {
   "codemirror_mode": {
    "name": "ipython",
    "version": 3
   },
   "file_extension": ".py",
   "mimetype": "text/x-python",
   "name": "python",
   "nbconvert_exporter": "python",
   "pygments_lexer": "ipython3",
   "version": "3.7.4"
  }
 },
 "nbformat": 4,
 "nbformat_minor": 4
}
