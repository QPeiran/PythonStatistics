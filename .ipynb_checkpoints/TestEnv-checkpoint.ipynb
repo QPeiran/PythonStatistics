{
 "cells": [
  {
   "cell_type": "code",
   "execution_count": 1,
   "metadata": {},
   "outputs": [],
   "source": [
    "import pandas as pd\n",
    "import numpy as np\n",
    "import matplotlib.pyplot as plt\n",
    "from scipy import stats\n"
   ]
  },
  {
   "cell_type": "code",
   "execution_count": 2,
   "metadata": {},
   "outputs": [],
   "source": [
    "dataFrame = pd.read_csv(r'C:\\Users\\Peiran Quan\\Desktop\\secperpickVSpicks.csv')"
   ]
  },
  {
   "cell_type": "code",
   "execution_count": 3,
   "metadata": {},
   "outputs": [
    {
     "data": {
      "text/html": [
       "<div>\n",
       "<style scoped>\n",
       "    .dataframe tbody tr th:only-of-type {\n",
       "        vertical-align: middle;\n",
       "    }\n",
       "\n",
       "    .dataframe tbody tr th {\n",
       "        vertical-align: top;\n",
       "    }\n",
       "\n",
       "    .dataframe thead th {\n",
       "        text-align: right;\n",
       "    }\n",
       "</style>\n",
       "<table border=\"1\" class=\"dataframe\">\n",
       "  <thead>\n",
       "    <tr style=\"text-align: right;\">\n",
       "      <th></th>\n",
       "      <th>Week/Recipe</th>\n",
       "      <th>Sec per Pick (pure production)</th>\n",
       "      <th>Picks</th>\n",
       "    </tr>\n",
       "  </thead>\n",
       "  <tbody>\n",
       "    <tr>\n",
       "      <td>0</td>\n",
       "      <td>2020-07 B2</td>\n",
       "      <td>6.294643</td>\n",
       "      <td>4</td>\n",
       "    </tr>\n",
       "    <tr>\n",
       "      <td>1</td>\n",
       "      <td>2020-09 H2</td>\n",
       "      <td>5.805081</td>\n",
       "      <td>5</td>\n",
       "    </tr>\n",
       "    <tr>\n",
       "      <td>2</td>\n",
       "      <td>2020-11 C2</td>\n",
       "      <td>6.368316</td>\n",
       "      <td>5</td>\n",
       "    </tr>\n",
       "    <tr>\n",
       "      <td>3</td>\n",
       "      <td>2020-11 M4</td>\n",
       "      <td>5.772031</td>\n",
       "      <td>5</td>\n",
       "    </tr>\n",
       "    <tr>\n",
       "      <td>4</td>\n",
       "      <td>2020-07 B4</td>\n",
       "      <td>5.345696</td>\n",
       "      <td>6</td>\n",
       "    </tr>\n",
       "    <tr>\n",
       "      <td>...</td>\n",
       "      <td>...</td>\n",
       "      <td>...</td>\n",
       "      <td>...</td>\n",
       "    </tr>\n",
       "    <tr>\n",
       "      <td>113</td>\n",
       "      <td>2020-11 G4</td>\n",
       "      <td>4.523529</td>\n",
       "      <td>17</td>\n",
       "    </tr>\n",
       "    <tr>\n",
       "      <td>114</td>\n",
       "      <td>2020-08 I4</td>\n",
       "      <td>3.000594</td>\n",
       "      <td>18</td>\n",
       "    </tr>\n",
       "    <tr>\n",
       "      <td>115</td>\n",
       "      <td>2020-09 J4</td>\n",
       "      <td>3.191643</td>\n",
       "      <td>20</td>\n",
       "    </tr>\n",
       "    <tr>\n",
       "      <td>116</td>\n",
       "      <td>2020-10 J4</td>\n",
       "      <td>4.137465</td>\n",
       "      <td>20</td>\n",
       "    </tr>\n",
       "    <tr>\n",
       "      <td>117</td>\n",
       "      <td>2020-11 I4</td>\n",
       "      <td>3.334966</td>\n",
       "      <td>25</td>\n",
       "    </tr>\n",
       "  </tbody>\n",
       "</table>\n",
       "<p>118 rows × 3 columns</p>\n",
       "</div>"
      ],
      "text/plain": [
       "    Week/Recipe  Sec per Pick (pure production)  Picks\n",
       "0    2020-07 B2                        6.294643      4\n",
       "1    2020-09 H2                        5.805081      5\n",
       "2    2020-11 C2                        6.368316      5\n",
       "3    2020-11 M4                        5.772031      5\n",
       "4    2020-07 B4                        5.345696      6\n",
       "..          ...                             ...    ...\n",
       "113  2020-11 G4                        4.523529     17\n",
       "114  2020-08 I4                        3.000594     18\n",
       "115  2020-09 J4                        3.191643     20\n",
       "116  2020-10 J4                        4.137465     20\n",
       "117  2020-11 I4                        3.334966     25\n",
       "\n",
       "[118 rows x 3 columns]"
      ]
     },
     "execution_count": 3,
     "metadata": {},
     "output_type": "execute_result"
    }
   ],
   "source": [
    "dataFrame"
   ]
  },
  {
   "cell_type": "code",
   "execution_count": 4,
   "metadata": {},
   "outputs": [],
   "source": [
    "sec_per_pick = dataFrame['Sec per Pick (pure production)']\n",
    "picks = dataFrame['Picks']"
   ]
  },
  {
   "cell_type": "code",
   "execution_count": 6,
   "metadata": {},
   "outputs": [
    {
     "data": {
      "text/plain": [
       "(0      6.294643\n",
       " 1      5.805081\n",
       " 2      6.368316\n",
       " 3      5.772031\n",
       " 4      5.345696\n",
       "          ...   \n",
       " 113    4.523529\n",
       " 114    3.000594\n",
       " 115    3.191643\n",
       " 116    4.137465\n",
       " 117    3.334966\n",
       " Name: Sec per Pick (pure production), Length: 118, dtype: float64, 0       4\n",
       " 1       5\n",
       " 2       5\n",
       " 3       5\n",
       " 4       6\n",
       "        ..\n",
       " 113    17\n",
       " 114    18\n",
       " 115    20\n",
       " 116    20\n",
       " 117    25\n",
       " Name: Picks, Length: 118, dtype: int64)"
      ]
     },
     "execution_count": 6,
     "metadata": {},
     "output_type": "execute_result"
    }
   ],
   "source": [
    "sec_per_pick, picks"
   ]
  },
  {
   "cell_type": "code",
   "execution_count": 7,
   "metadata": {},
   "outputs": [
    {
     "name": "stdout",
     "output_type": "stream",
     "text": [
      "slope: -0.142460    intercept: 5.590953 r-value: -0.623106 \n"
     ]
    }
   ],
   "source": [
    "slope, intercept, r_value, p_value, std_err = stats.linregress(picks, sec_per_pick)\n",
    "print(\"slope: %f    intercept: %f r-value: %f \" % (slope, intercept, r_value))"
   ]
  },
  {
   "cell_type": "code",
   "execution_count": 8,
   "metadata": {},
   "outputs": [
    {
     "name": "stdout",
     "output_type": "stream",
     "text": [
      "R-squared: 0.388261 p-value: 0.000000\n"
     ]
    }
   ],
   "source": [
    "print(\"R-squared: %f p-value: %f\" % (r_value**2, p_value) )"
   ]
  },
  {
   "cell_type": "code",
   "execution_count": 10,
   "metadata": {},
   "outputs": [
    {
     "data": {
      "image/png": "[encoded data removed]",
      "text/plain": [
       "<Figure size 432x288 with 1 Axes>"
      ]
     },
     "metadata": {
      "needs_background": "light"
     },
     "output_type": "display_data"
    }
   ],
   "source": [
    "plt.plot(picks, sec_per_pick, 'o', label='original data')\n",
    "plt.plot(picks, intercept + slope*picks, 'r', label='fitted line')\n",
    "plt.legend()\n",
    "plt.show()"
   ]
  },
  {
   "cell_type": "code",
   "execution_count": null,
   "metadata": {},
   "outputs": [],
   "source": []
  },
  {
   "cell_type": "code",
   "execution_count": null,
   "metadata": {},
   "outputs": [],
   "source": []
  },
  {
   "cell_type": "code",
   "execution_count": null,
   "metadata": {},
   "outputs": [],
   "source": []
  }
 ],
 "metadata": {
  "kernelspec": {
   "display_name": "Python 3",
   "language": "python",
   "name": "python3"
  },
  "language_info": {
   "codemirror_mode": {
    "name": "ipython",
    "version": 3
   },
   "file_extension": ".py",
   "mimetype": "text/x-python",
   "name": "python",
   "nbconvert_exporter": "python",
   "pygments_lexer": "ipython3",
   "version": "3.7.4"
  }
 },
 "nbformat": 4,
 "nbformat_minor": 4
}
