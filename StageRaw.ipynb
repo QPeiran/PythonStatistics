{
 "cells": [
  {
   "cell_type": "code",
   "execution_count": 1,
   "metadata": {},
   "outputs": [],
   "source": [
    "import pandas as pd\n",
    "import datetime as dt\n",
    "\n",
    "\n",
    "# read file into data frame\n",
    "data = {}\n",
    "with pd.ExcelFile(r'C:\\Users\\steve\\Desktop\\prepare_data\\raw.xlsx') as xlsx: #Change the file path here\n",
    "    data['KL1'] = pd.read_excel(xlsx,'Kit line 1',index_col = None,na_values='NA')\n",
    "    data['KL2'] = pd.read_excel(xlsx,'Kit line 2',index_col = None,na_values='NA')#, skiprows=1)\n",
    "    data['KL3'] = pd.read_excel(xlsx,'Kit line 3',index_col = None,na_values='NA')\n",
    "    data['KL4'] = pd.read_excel(xlsx,'Kit line 4',index_col = None,na_values='NA')\n",
    "    data['KL5'] = pd.read_excel(xlsx,'Kit line 5',index_col = None,na_values='NA')\n",
    "    data['KL6'] = pd.read_excel(xlsx,'Kit line 6',index_col = None,na_values='NA')\n",
    "    data['KL7'] = pd.read_excel(xlsx,'Kit line 7',index_col = None,na_values='NA')\n",
    "    data['KL8'] = pd.read_excel(xlsx,'Kit line 8',index_col = None,na_values='NA')\n",
    "    data['KL9'] = pd.read_excel(xlsx,'Kit line 9',index_col = None,na_values='NA')\n",
    "    data['KL10'] = pd.read_excel(xlsx,'Kit line 10',index_col = None,na_values='NA')\n",
    "    data['KL11'] = pd.read_excel(xlsx,'Kit line 11',index_col = None,na_values='NA')\n",
    "    data['KL12'] = pd.read_excel(xlsx,'Kit line 12',index_col = None,na_values='NA')\n",
    "    data['KL13'] = pd.read_excel(xlsx,'Kit line 13',index_col = None,na_values='NA')\n",
    "    data['KL14'] = pd.read_excel(xlsx,'Kit line 14',index_col = None,na_values='NA')\n",
    "    data['KL15'] = pd.read_excel(xlsx,'Kit line 15',index_col = None,na_values='NA')\n",
    "    data['KL16'] = pd.read_excel(xlsx,'Kit line 16',index_col = None,na_values='NA')\n",
    "    data['KL17'] = pd.read_excel(xlsx,'Kit line 17',index_col = None,na_values='NA')\n",
    "    data['KL18'] = pd.read_excel(xlsx,'Kit line 18',index_col = None,na_values='NA')\n",
    "    data['KL19'] = pd.read_excel(xlsx,'Kit line 19',index_col = None,na_values='NA')\n",
    "    data['KL20'] = pd.read_excel(xlsx,'Kit line 20',index_col = None,na_values='NA')\n",
    "\n",
    "# Join all kitting lines' data to one\n",
    "df = pd.DataFrame(data=None)   # df is the frame containing all raw data\n",
    "for KL in data:\n",
    "    sLength = len(data[KL])\n",
    "    KL_array = [KL for i in range(sLength)]\n",
    "    data[KL]['kittingline'] = KL_array               #Meanwhile add a new column with the kitting line's name\n",
    "    df = pd.concat([df,data[KL]], sort = False)"
   ]
  },
  {
   "cell_type": "code",
   "execution_count": 2,
   "metadata": {},
   "outputs": [],
   "source": [
    "# rename all the column index\n",
    "df.columns = ['Barcode', 'Production Batch', 'Recipe and P', 'Timestamp', 'Date', 'Seq Code', 'Week', 'Team Leader', 'Replenisher', 'Pickers', 'Break Reasons', 'Missing Products', 'Kitting Line']"
   ]
  },
  {
   "cell_type": "code",
   "execution_count": 3,
   "metadata": {},
   "outputs": [
    {
     "output_type": "execute_result",
     "data": {
      "text/plain": "                   Barcode  Production Batch Recipe and P Timestamp  \\\n0         Production Start               NaN          NaN  13:15:51   \n1         New Recipe Start               NaN          NaN  13:21:24   \n2  126F4$$$$$$$$0001001601               1.0           F4  13:21:35   \n3  126F4$$$$$$$$0002001601               1.0           F4  13:26:01   \n4  126F4$$$$$$$$0003001601               1.0           F4  13:30:57   \n5  126F4$$$$$$$$0004001601               1.0           F4  13:36:40   \n6  126F4$$$$$$$$0005001601               1.0           F4  13:41:41   \n7  126F4$$$$$$$$0006001601               1.0           F4  13:46:33   \n8  126F4$$$$$$$$0007001601               1.0           F4  13:51:15   \n9  126F4$$$$$$$$0008001601               1.0           F4  13:55:40   \n\n        Date      Seq Code  Week           Team Leader Replenisher  \\\n0 2020-06-17           NaN   NaN  iXUsr_Thumlert(8509)      Dummy;   \n1 2020-06-17           NaN   NaN  iXUsr_Thumlert(8509)      Dummy;   \n2 2020-06-17  0001 of 0016  26.0  iXUsr_Thumlert(8509)      Dummy;   \n3 2020-06-17  0002 of 0016  26.0  iXUsr_Thumlert(8509)      Dummy;   \n4 2020-06-17  0003 of 0016  26.0  iXUsr_Thumlert(8509)      Dummy;   \n5 2020-06-17  0004 of 0016  26.0  iXUsr_Thumlert(8509)      Dummy;   \n6 2020-06-17  0005 of 0016  26.0  iXUsr_Thumlert(8509)      Dummy;   \n7 2020-06-17  0006 of 0016  26.0  iXUsr_Thumlert(8509)      Dummy;   \n8 2020-06-17  0007 of 0016  26.0  iXUsr_Thumlert(8509)      Dummy;   \n9 2020-06-17  0008 of 0016  26.0  iXUsr_Thumlert(8509)      Dummy;   \n\n        Pickers Break Reasons Missing Products Kitting Line  \n0  Dummy;Dummy;           NaN              NaN          KL1  \n1  Dummy;Dummy;           NaN              NaN          KL1  \n2  Dummy;Dummy;           NaN              NaN          KL1  \n3  Dummy;Dummy;           NaN              NaN          KL1  \n4  Dummy;Dummy;           NaN              NaN          KL1  \n5  Dummy;Dummy;           NaN              NaN          KL1  \n6  Dummy;Dummy;           NaN              NaN          KL1  \n7  Dummy;Dummy;           NaN              NaN          KL1  \n8  Dummy;Dummy;           NaN              NaN          KL1  \n9  Dummy;Dummy;           NaN              NaN          KL1  ",
      "text/html": "<div>\n<style scoped>\n    .dataframe tbody tr th:only-of-type {\n        vertical-align: middle;\n    }\n\n    .dataframe tbody tr th {\n        vertical-align: top;\n    }\n\n    .dataframe thead th {\n        text-align: right;\n    }\n</style>\n<table border=\"1\" class=\"dataframe\">\n  <thead>\n    <tr style=\"text-align: right;\">\n      <th></th>\n      <th>Barcode</th>\n      <th>Production Batch</th>\n      <th>Recipe and P</th>\n      <th>Timestamp</th>\n      <th>Date</th>\n      <th>Seq Code</th>\n      <th>Week</th>\n      <th>Team Leader</th>\n      <th>Replenisher</th>\n      <th>Pickers</th>\n      <th>Break Reasons</th>\n      <th>Missing Products</th>\n      <th>Kitting Line</th>\n    </tr>\n  </thead>\n  <tbody>\n    <tr>\n      <th>0</th>\n      <td>Production Start</td>\n      <td>NaN</td>\n      <td>NaN</td>\n      <td>13:15:51</td>\n      <td>2020-06-17</td>\n      <td>NaN</td>\n      <td>NaN</td>\n      <td>iXUsr_Thumlert(8509)</td>\n      <td>Dummy;</td>\n      <td>Dummy;Dummy;</td>\n      <td>NaN</td>\n      <td>NaN</td>\n      <td>KL1</td>\n    </tr>\n    <tr>\n      <th>1</th>\n      <td>New Recipe Start</td>\n      <td>NaN</td>\n      <td>NaN</td>\n      <td>13:21:24</td>\n      <td>2020-06-17</td>\n      <td>NaN</td>\n      <td>NaN</td>\n      <td>iXUsr_Thumlert(8509)</td>\n      <td>Dummy;</td>\n      <td>Dummy;Dummy;</td>\n      <td>NaN</td>\n      <td>NaN</td>\n      <td>KL1</td>\n    </tr>\n    <tr>\n      <th>2</th>\n      <td>126F4$$$$$$$$0001001601</td>\n      <td>1.0</td>\n      <td>F4</td>\n      <td>13:21:35</td>\n      <td>2020-06-17</td>\n      <td>0001 of 0016</td>\n      <td>26.0</td>\n      <td>iXUsr_Thumlert(8509)</td>\n      <td>Dummy;</td>\n      <td>Dummy;Dummy;</td>\n      <td>NaN</td>\n      <td>NaN</td>\n      <td>KL1</td>\n    </tr>\n    <tr>\n      <th>3</th>\n      <td>126F4$$$$$$$$0002001601</td>\n      <td>1.0</td>\n      <td>F4</td>\n      <td>13:26:01</td>\n      <td>2020-06-17</td>\n      <td>0002 of 0016</td>\n      <td>26.0</td>\n      <td>iXUsr_Thumlert(8509)</td>\n      <td>Dummy;</td>\n      <td>Dummy;Dummy;</td>\n      <td>NaN</td>\n      <td>NaN</td>\n      <td>KL1</td>\n    </tr>\n    <tr>\n      <th>4</th>\n      <td>126F4$$$$$$$$0003001601</td>\n      <td>1.0</td>\n      <td>F4</td>\n      <td>13:30:57</td>\n      <td>2020-06-17</td>\n      <td>0003 of 0016</td>\n      <td>26.0</td>\n      <td>iXUsr_Thumlert(8509)</td>\n      <td>Dummy;</td>\n      <td>Dummy;Dummy;</td>\n      <td>NaN</td>\n      <td>NaN</td>\n      <td>KL1</td>\n    </tr>\n    <tr>\n      <th>5</th>\n      <td>126F4$$$$$$$$0004001601</td>\n      <td>1.0</td>\n      <td>F4</td>\n      <td>13:36:40</td>\n      <td>2020-06-17</td>\n      <td>0004 of 0016</td>\n      <td>26.0</td>\n      <td>iXUsr_Thumlert(8509)</td>\n      <td>Dummy;</td>\n      <td>Dummy;Dummy;</td>\n      <td>NaN</td>\n      <td>NaN</td>\n      <td>KL1</td>\n    </tr>\n    <tr>\n      <th>6</th>\n      <td>126F4$$$$$$$$0005001601</td>\n      <td>1.0</td>\n      <td>F4</td>\n      <td>13:41:41</td>\n      <td>2020-06-17</td>\n      <td>0005 of 0016</td>\n      <td>26.0</td>\n      <td>iXUsr_Thumlert(8509)</td>\n      <td>Dummy;</td>\n      <td>Dummy;Dummy;</td>\n      <td>NaN</td>\n      <td>NaN</td>\n      <td>KL1</td>\n    </tr>\n    <tr>\n      <th>7</th>\n      <td>126F4$$$$$$$$0006001601</td>\n      <td>1.0</td>\n      <td>F4</td>\n      <td>13:46:33</td>\n      <td>2020-06-17</td>\n      <td>0006 of 0016</td>\n      <td>26.0</td>\n      <td>iXUsr_Thumlert(8509)</td>\n      <td>Dummy;</td>\n      <td>Dummy;Dummy;</td>\n      <td>NaN</td>\n      <td>NaN</td>\n      <td>KL1</td>\n    </tr>\n    <tr>\n      <th>8</th>\n      <td>126F4$$$$$$$$0007001601</td>\n      <td>1.0</td>\n      <td>F4</td>\n      <td>13:51:15</td>\n      <td>2020-06-17</td>\n      <td>0007 of 0016</td>\n      <td>26.0</td>\n      <td>iXUsr_Thumlert(8509)</td>\n      <td>Dummy;</td>\n      <td>Dummy;Dummy;</td>\n      <td>NaN</td>\n      <td>NaN</td>\n      <td>KL1</td>\n    </tr>\n    <tr>\n      <th>9</th>\n      <td>126F4$$$$$$$$0008001601</td>\n      <td>1.0</td>\n      <td>F4</td>\n      <td>13:55:40</td>\n      <td>2020-06-17</td>\n      <td>0008 of 0016</td>\n      <td>26.0</td>\n      <td>iXUsr_Thumlert(8509)</td>\n      <td>Dummy;</td>\n      <td>Dummy;Dummy;</td>\n      <td>NaN</td>\n      <td>NaN</td>\n      <td>KL1</td>\n    </tr>\n  </tbody>\n</table>\n</div>"
     },
     "metadata": {},
     "execution_count": 3
    }
   ],
   "source": [
    "df.head(10)"
   ]
  },
  {
   "cell_type": "code",
   "execution_count": 4,
   "metadata": {},
   "outputs": [
    {
     "output_type": "execute_result",
     "data": {
      "text/plain": "False"
     },
     "metadata": {},
     "execution_count": 4
    }
   ],
   "source": [
    "# type(df['Timestamp'].iloc[1]) == dt.time\n",
    "type(df['Date'].iloc[0]) not in [pd._libs.tslibs.timestamps.Timestamp, 1]"
   ]
  },
  {
   "cell_type": "code",
   "execution_count": 5,
   "metadata": {},
   "outputs": [],
   "source": [
    "# Check timestamps & date whether have the right format\n",
    "def check_data_type(dataframe, col):\n",
    "    for i in range(len(dataframe)):\n",
    "        if type(dataframe[col].iloc[i]) not in [dt.time, pd._libs.tslibs.timestamps.Timestamp] :\n",
    "            print(\"check the {}th data\".format(i))\n",
    "        else:\n",
    "            pass"
   ]
  },
  {
   "cell_type": "code",
   "execution_count": 6,
   "metadata": {
    "tags": [
     "outputPrepend",
     "outputPrepend",
     "outputPrepend",
     "outputPrepend",
     "outputPrepend",
     "outputPrepend",
     "outputPrepend"
    ]
   },
   "outputs": [],
   "source": [
    "check_data_type(df, 'Timestamp')\n",
    "check_data_type(df, 'Date')"
   ]
  },
  {
   "cell_type": "code",
   "execution_count": 7,
   "metadata": {},
   "outputs": [],
   "source": [
    "def combine_date_time(df, datecol, timecol):\n",
    "    return df.apply(lambda row: row[datecol].replace(\n",
    "                                hour=row[timecol].hour,\n",
    "                                minute=row[timecol].minute,\n",
    "                                second=row[timecol].second),\n",
    "                    axis=1)"
   ]
  },
  {
   "cell_type": "code",
   "execution_count": 8,
   "metadata": {},
   "outputs": [
    {
     "output_type": "execute_result",
     "data": {
      "text/plain": "0     2020-06-17 13:15:51\n1     2020-06-17 13:21:24\n2     2020-06-17 13:21:35\n3     2020-06-17 13:26:01\n4     2020-06-17 13:30:57\n              ...        \n322   2020-06-22 14:32:04\n323   2020-06-22 14:37:28\n324   2020-06-22 14:42:49\n325   2020-06-22 14:47:24\n326   2020-06-22 14:49:26\nLength: 10885, dtype: datetime64[ns]"
     },
     "metadata": {},
     "execution_count": 8
    }
   ],
   "source": [
    "new_c = combine_date_time(df, 'Date', 'Timestamp')\n",
    "new_c"
   ]
  },
  {
   "cell_type": "code",
   "execution_count": 9,
   "metadata": {},
   "outputs": [],
   "source": [
    "df['Timestamp and Date'] = new_c"
   ]
  },
  {
   "cell_type": "code",
   "execution_count": 10,
   "metadata": {},
   "outputs": [],
   "source": [
    "df = df.drop_duplicates(subset = None, keep='last') # kept 'last record' for a reason"
   ]
  },
  {
   "cell_type": "code",
   "execution_count": 11,
   "metadata": {},
   "outputs": [
    {
     "output_type": "stream",
     "name": "stdout",
     "text": "'KL1' production batch 1 included\n'KL1' production batch 2 included\n'KL1' production batch 3 included\n'KL1' production batch 4 included\n'KL1' production batch 5 included\n'KL1' production batch 6 included\n'KL1' production batch 7 included\n'KL2' production batch 1 included\n'KL2' production batch 2 included\n'KL2' production batch 3 included\nWarning: 'KL2' , production batch 4 is not included\n'KL2' production batch 5 included\n'KL2' production batch 6 included\n'KL2' production batch 7 included\n'KL3' production batch 1 included\n'KL3' production batch 2 included\n'KL3' production batch 3 included\nWarning: 'KL3' , production batch 4 is not included\n'KL3' production batch 5 included\n'KL3' production batch 6 included\n'KL3' production batch 7 included\n'KL4' production batch 1 included\n'KL4' production batch 2 included\n'KL4' production batch 3 included\nWarning: 'KL4' , production batch 4 is not included\n'KL4' production batch 5 included\n'KL4' production batch 6 included\n'KL4' production batch 7 included\n'KL5' production batch 1 included\n'KL5' production batch 2 included\n'KL5' production batch 3 included\n'KL5' production batch 4 included\nWarning: 'KL5' , production batch 5 is not included\n'KL5' production batch 6 included\nWarning: 'KL5' , production batch 7 is not included\n'KL6' production batch 1 included\n'KL6' production batch 2 included\n'KL6' production batch 3 included\n'KL6' production batch 4 included\n'KL6' production batch 5 included\n'KL6' production batch 6 included\n'KL6' production batch 7 included\n'KL7' production batch 1 included\n'KL7' production batch 2 included\n'KL7' production batch 3 included\nWarning: 'KL7' , production batch 4 is not included\n'KL7' production batch 5 included\n'KL7' production batch 6 included\n'KL7' production batch 7 included\n'KL8' production batch 1 included\n'KL8' production batch 2 included\n'KL8' production batch 3 included\n'KL8' production batch 4 included\n'KL8' production batch 5 included\n'KL8' production batch 6 included\n'KL8' production batch 7 included\n'KL9' production batch 1 included\n'KL9' production batch 2 included\n'KL9' production batch 3 included\n'KL9' production batch 4 included\n'KL9' production batch 5 included\n'KL9' production batch 6 included\n'KL9' production batch 7 included\n'KL10' production batch 1 included\n'KL10' production batch 2 included\n'KL10' production batch 3 included\nWarning: 'KL10' , production batch 4 is not included\n'KL10' production batch 5 included\n'KL10' production batch 6 included\n'KL10' production batch 7 included\n'KL11' production batch 1 included\n'KL11' production batch 2 included\n'KL11' production batch 3 included\n'KL11' production batch 4 included\nWarning: 'KL11' , production batch 5 is not included\n'KL11' production batch 6 included\n'KL11' production batch 7 included\n'KL12' production batch 1 included\n'KL12' production batch 2 included\n'KL12' production batch 3 included\n'KL12' production batch 4 included\n'KL12' production batch 5 included\n'KL12' production batch 6 included\n'KL12' production batch 7 included\n'KL13' production batch 1 included\n'KL13' production batch 2 included\n'KL13' production batch 3 included\nWarning: 'KL13' , production batch 4 is not included\n'KL13' production batch 5 included\n'KL13' production batch 6 included\n'KL13' production batch 7 included\n'KL14' production batch 1 included\n'KL14' production batch 2 included\n'KL14' production batch 3 included\n'KL14' production batch 4 included\nWarning: 'KL14' , production batch 5 is not included\n'KL14' production batch 6 included\n'KL14' production batch 7 included\n'KL15' production batch 1 included\n'KL15' production batch 2 included\n'KL15' production batch 3 included\n'KL15' production batch 4 included\n'KL15' production batch 5 included\n'KL15' production batch 6 included\n'KL15' production batch 7 included\n'KL16' production batch 1 included\n'KL16' production batch 2 included\n'KL16' production batch 3 included\n'KL16' production batch 4 included\nWarning: 'KL16' , production batch 5 is not included\n'KL16' production batch 6 included\n'KL16' production batch 7 included\n'KL17' production batch 1 included\n'KL17' production batch 2 included\n'KL17' production batch 3 included\nWarning: 'KL17' , production batch 4 is not included\nWarning: 'KL17' , production batch 5 is not included\n'KL17' production batch 6 included\n'KL17' production batch 7 included\n'KL18' production batch 1 included\n'KL18' production batch 2 included\n'KL18' production batch 3 included\nWarning: 'KL18' , production batch 4 is not included\n'KL18' production batch 5 included\n'KL18' production batch 6 included\n'KL18' production batch 7 included\n'KL19' production batch 1 included\n'KL19' production batch 2 included\n'KL19' production batch 3 included\nWarning: 'KL19' , production batch 4 is not included\n'KL19' production batch 5 included\n'KL19' production batch 6 included\n'KL19' production batch 7 included\n'KL20' production batch 1 included\n'KL20' production batch 2 included\n'KL20' production batch 3 included\n'KL20' production batch 4 included\n'KL20' production batch 5 included\n'KL20' production batch 6 included\n'KL20' production batch 7 included\n"
    }
   ],
   "source": [
    "for KL in data:\n",
    "    df_new = df.loc[df['Kitting Line'] == KL] # df_new is the sliced raw data of \"Kitting Line(KL) Name\"\n",
    "    # 1.(after dropping duplicates) for every kitting line it has to contain batch code [1:7]\n",
    "    i = pd.Categorical(df_new['Production Batch'])\n",
    "    # print(i.categories)\n",
    "    for j in range (1,8):\n",
    "        if j not in i.categories:\n",
    "            print(\"Warning: %r , production batch %s is not included\" %(KL,j))\n",
    "        else:\n",
    "            print(\"%r production batch %s included\" %(KL,j))"
   ]
  },
  {
   "cell_type": "code",
   "execution_count": 12,
   "metadata": {},
   "outputs": [],
   "source": [
    "df.to_csv(r'C:\\Users\\steve\\Desktop\\prepare_data\\staged.csv',index=False)"
   ]
  },
  {
   "cell_type": "code",
   "execution_count": null,
   "metadata": {},
   "outputs": [],
   "source": []
  }
 ],
 "metadata": {
  "language_info": {
   "codemirror_mode": {
    "name": "ipython",
    "version": 3
   },
   "file_extension": ".py",
   "mimetype": "text/x-python",
   "name": "python",
   "nbconvert_exporter": "python",
   "pygments_lexer": "ipython3",
   "version": "3.8.2-final"
  },
  "orig_nbformat": 2,
  "kernelspec": {
   "name": "python3",
   "display_name": "Python 3"
  }
 },
 "nbformat": 4,
 "nbformat_minor": 2
}