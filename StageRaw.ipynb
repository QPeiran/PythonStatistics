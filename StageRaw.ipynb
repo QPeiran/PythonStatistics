{
 "cells": [
  {
   "cell_type": "code",
   "execution_count": 1,
   "metadata": {},
   "outputs": [
    {
     "output_type": "execute_result",
     "data": {
      "text/plain": [
       "                   Barcode  Production Batch Recipe and P Timestamp  \\\n",
       "0         Production Start               NaN          NaN  08:31:10   \n",
       "1         New Recipe Start               NaN          NaN  08:31:20   \n",
       "2  911O2$$$$$$$$0001000501               9.0           O2  08:32:15   \n",
       "3  911O2$$$$$$$$0002000501               9.0           O2  08:36:40   \n",
       "4              Break Start               NaN          NaN  08:39:15   \n",
       "\n",
       "        Date      Seq code  Week        Team Leader          Replenisher  \\\n",
       "0 2021-03-11           NaN   NaN  iXUsr_Tutai(7335)  iXUsr_McAteer(8866)   \n",
       "1 2021-03-11           NaN   NaN  iXUsr_Tutai(7335)  iXUsr_McAteer(8866)   \n",
       "2 2021-03-11  0001 of 0005  11.0  iXUsr_Tutai(7335)  iXUsr_McAteer(8866)   \n",
       "3 2021-03-11  0002 of 0005  11.0  iXUsr_Tutai(7335)  iXUsr_McAteer(8866)   \n",
       "4 2021-03-11           NaN   NaN  iXUsr_Tutai(7335)  iXUsr_McAteer(8866)   \n",
       "\n",
       "                                             Pickers               Notes  \\\n",
       "0  iXUsr_Moran(10217)iXUsr_Evangelista(10312)iXUs...                 NaN   \n",
       "1  iXUsr_Moran(10217)iXUsr_Evangelista(10312)iXUs...                 NaN   \n",
       "2  iXUsr_Moran(10217)iXUsr_Evangelista(10312)iXUs...                 NaN   \n",
       "3  iXUsr_Moran(10217)iXUsr_Evangelista(10312)iXUs...                 NaN   \n",
       "4  iXUsr_Moran(10217)iXUsr_Evangelista(10312)iXUs...  move to other line   \n",
       "\n",
       "  Missing Products kittingline  \n",
       "0              NaN         KL1  \n",
       "1              NaN         KL1  \n",
       "2              NaN         KL1  \n",
       "3              NaN         KL1  \n",
       "4              NaN         KL1  "
      ],
      "text/html": "<div>\n<style scoped>\n    .dataframe tbody tr th:only-of-type {\n        vertical-align: middle;\n    }\n\n    .dataframe tbody tr th {\n        vertical-align: top;\n    }\n\n    .dataframe thead th {\n        text-align: right;\n    }\n</style>\n<table border=\"1\" class=\"dataframe\">\n  <thead>\n    <tr style=\"text-align: right;\">\n      <th></th>\n      <th>Barcode</th>\n      <th>Production Batch</th>\n      <th>Recipe and P</th>\n      <th>Timestamp</th>\n      <th>Date</th>\n      <th>Seq code</th>\n      <th>Week</th>\n      <th>Team Leader</th>\n      <th>Replenisher</th>\n      <th>Pickers</th>\n      <th>Notes</th>\n      <th>Missing Products</th>\n      <th>kittingline</th>\n    </tr>\n  </thead>\n  <tbody>\n    <tr>\n      <th>0</th>\n      <td>Production Start</td>\n      <td>NaN</td>\n      <td>NaN</td>\n      <td>08:31:10</td>\n      <td>2021-03-11</td>\n      <td>NaN</td>\n      <td>NaN</td>\n      <td>iXUsr_Tutai(7335)</td>\n      <td>iXUsr_McAteer(8866)</td>\n      <td>iXUsr_Moran(10217)iXUsr_Evangelista(10312)iXUs...</td>\n      <td>NaN</td>\n      <td>NaN</td>\n      <td>KL1</td>\n    </tr>\n    <tr>\n      <th>1</th>\n      <td>New Recipe Start</td>\n      <td>NaN</td>\n      <td>NaN</td>\n      <td>08:31:20</td>\n      <td>2021-03-11</td>\n      <td>NaN</td>\n      <td>NaN</td>\n      <td>iXUsr_Tutai(7335)</td>\n      <td>iXUsr_McAteer(8866)</td>\n      <td>iXUsr_Moran(10217)iXUsr_Evangelista(10312)iXUs...</td>\n      <td>NaN</td>\n      <td>NaN</td>\n      <td>KL1</td>\n    </tr>\n    <tr>\n      <th>2</th>\n      <td>911O2$$$$$$$$0001000501</td>\n      <td>9.0</td>\n      <td>O2</td>\n      <td>08:32:15</td>\n      <td>2021-03-11</td>\n      <td>0001 of 0005</td>\n      <td>11.0</td>\n      <td>iXUsr_Tutai(7335)</td>\n      <td>iXUsr_McAteer(8866)</td>\n      <td>iXUsr_Moran(10217)iXUsr_Evangelista(10312)iXUs...</td>\n      <td>NaN</td>\n      <td>NaN</td>\n      <td>KL1</td>\n    </tr>\n    <tr>\n      <th>3</th>\n      <td>911O2$$$$$$$$0002000501</td>\n      <td>9.0</td>\n      <td>O2</td>\n      <td>08:36:40</td>\n      <td>2021-03-11</td>\n      <td>0002 of 0005</td>\n      <td>11.0</td>\n      <td>iXUsr_Tutai(7335)</td>\n      <td>iXUsr_McAteer(8866)</td>\n      <td>iXUsr_Moran(10217)iXUsr_Evangelista(10312)iXUs...</td>\n      <td>NaN</td>\n      <td>NaN</td>\n      <td>KL1</td>\n    </tr>\n    <tr>\n      <th>4</th>\n      <td>Break Start</td>\n      <td>NaN</td>\n      <td>NaN</td>\n      <td>08:39:15</td>\n      <td>2021-03-11</td>\n      <td>NaN</td>\n      <td>NaN</td>\n      <td>iXUsr_Tutai(7335)</td>\n      <td>iXUsr_McAteer(8866)</td>\n      <td>iXUsr_Moran(10217)iXUsr_Evangelista(10312)iXUs...</td>\n      <td>move to other line</td>\n      <td>NaN</td>\n      <td>KL1</td>\n    </tr>\n  </tbody>\n</table>\n</div>"
     },
     "metadata": {},
     "execution_count": 1
    }
   ],
   "source": [
    "import pandas as pd\n",
    "import datetime as dt\n",
    "\n",
    "\n",
    "# read file into data frame\n",
    "data = {}\n",
    "with pd.ExcelFile(r'C:\\Users\\Peiran Quan\\Desktop\\python_data_preparation\\raw.xlsx') as xlsx: #Change the file path here\n",
    "    data['KL1'] = pd.read_excel(xlsx,'Kit line 1',index_col = None,na_values='NA')\n",
    "    data['KL2'] = pd.read_excel(xlsx,'Kit line 2',index_col = None,na_values='NA')#, skiprows=1)\n",
    "    data['KL3'] = pd.read_excel(xlsx,'Kit line 3',index_col = None,na_values='NA')\n",
    "    data['KL4'] = pd.read_excel(xlsx,'Kit line 4',index_col = None,na_values='NA')\n",
    "    data['KL5'] = pd.read_excel(xlsx,'Kit line 5',index_col = None,na_values='NA')\n",
    "    data['KL6'] = pd.read_excel(xlsx,'Kit line 6',index_col = None,na_values='NA')\n",
    "    data['KL7'] = pd.read_excel(xlsx,'Kit line 7',index_col = None,na_values='NA')\n",
    "    data['KL8'] = pd.read_excel(xlsx,'Kit line 8',index_col = None,na_values='NA')\n",
    "    data['KL9'] = pd.read_excel(xlsx,'Kit line 9',index_col = None,na_values='NA')\n",
    "    data['KL10'] = pd.read_excel(xlsx,'Kit line 10',index_col = None,na_values='NA')\n",
    "    data['KL11'] = pd.read_excel(xlsx,'Kit line 11',index_col = None,na_values='NA')\n",
    "    data['KL12'] = pd.read_excel(xlsx,'Kit line 12',index_col = None,na_values='NA')\n",
    "    data['KL13'] = pd.read_excel(xlsx,'Kit line 13',index_col = None,na_values='NA')\n",
    "    data['KL14'] = pd.read_excel(xlsx,'Kit line 14',index_col = None,na_values='NA')\n",
    "    data['KL15'] = pd.read_excel(xlsx,'Kit line 15',index_col = None,na_values='NA')\n",
    "    data['KL16'] = pd.read_excel(xlsx,'Kit line 16',index_col = None,na_values='NA')\n",
    "    data['KL17'] = pd.read_excel(xlsx,'Kit line 17',index_col = None,na_values='NA')\n",
    "    data['KL18'] = pd.read_excel(xlsx,'Kit line 18',index_col = None,na_values='NA')\n",
    "    data['KL19'] = pd.read_excel(xlsx,'Kit line 19',index_col = None,na_values='NA')\n",
    "    data['KL20'] = pd.read_excel(xlsx,'Kit line 20',index_col = None,na_values='NA')\n",
    "\n",
    "# Join all kitting lines' data to one\n",
    "df = pd.DataFrame(data=None)   # df is the frame containing all raw data\n",
    "for KL in data:\n",
    "    sLength = len(data[KL])\n",
    "    KL_array = [KL for i in range(sLength)]\n",
    "    data[KL]['kittingline'] = KL_array               #Meanwhile add a new column with the kitting line's name\n",
    "    df = pd.concat([df,data[KL]], sort = False)\n",
    "\n",
    "df.head()"
   ]
  },
  {
   "cell_type": "code",
   "execution_count": 2,
   "metadata": {},
   "outputs": [],
   "source": [
    "# rename all the column index\n",
    "df.columns = ['Barcode', 'Production Batch', 'Recipe and P', 'Timestamp', 'Date', 'Seq Code', 'Week', 'Team Leader', 'Replenisher', 'Pickers', 'Break Reasons', 'Missing Products', 'Kitting Line']"
   ]
  },
  {
   "cell_type": "code",
   "execution_count": 3,
   "metadata": {},
   "outputs": [
    {
     "output_type": "execute_result",
     "data": {
      "text/plain": [
       "                   Barcode  Production Batch Recipe and P Timestamp  \\\n",
       "0         Production Start               NaN          NaN  08:31:10   \n",
       "1         New Recipe Start               NaN          NaN  08:31:20   \n",
       "2  911O2$$$$$$$$0001000501               9.0           O2  08:32:15   \n",
       "3  911O2$$$$$$$$0002000501               9.0           O2  08:36:40   \n",
       "4              Break Start               NaN          NaN  08:39:15   \n",
       "5                Break End               NaN          NaN  12:32:29   \n",
       "6         New Recipe Start               NaN          NaN  12:32:49   \n",
       "7  911P2$$$$$$$$0001000401               9.0           P2  12:37:06   \n",
       "8  911P2$$$$$$$$0002000401               9.0           P2  12:41:49   \n",
       "9  911P2$$$$$$$$0003000401               9.0           P2  12:46:35   \n",
       "\n",
       "        Date      Seq Code  Week         Team Leader          Replenisher  \\\n",
       "0 2021-03-11           NaN   NaN   iXUsr_Tutai(7335)  iXUsr_McAteer(8866)   \n",
       "1 2021-03-11           NaN   NaN   iXUsr_Tutai(7335)  iXUsr_McAteer(8866)   \n",
       "2 2021-03-11  0001 of 0005  11.0   iXUsr_Tutai(7335)  iXUsr_McAteer(8866)   \n",
       "3 2021-03-11  0002 of 0005  11.0   iXUsr_Tutai(7335)  iXUsr_McAteer(8866)   \n",
       "4 2021-03-11           NaN   NaN   iXUsr_Tutai(7335)  iXUsr_McAteer(8866)   \n",
       "5 2021-03-11           NaN   NaN  iXUsr_Joanne(6854)                  NaN   \n",
       "6 2021-03-11           NaN   NaN  iXUsr_Joanne(6854)                  NaN   \n",
       "7 2021-03-11  0001 of 0004  11.0  iXUsr_Joanne(6854)                  NaN   \n",
       "8 2021-03-11  0002 of 0004  11.0  iXUsr_Joanne(6854)                  NaN   \n",
       "9 2021-03-11  0003 of 0004  11.0  iXUsr_Joanne(6854)                  NaN   \n",
       "\n",
       "                                             Pickers       Break Reasons  \\\n",
       "0  iXUsr_Moran(10217)iXUsr_Evangelista(10312)iXUs...                 NaN   \n",
       "1  iXUsr_Moran(10217)iXUsr_Evangelista(10312)iXUs...                 NaN   \n",
       "2  iXUsr_Moran(10217)iXUsr_Evangelista(10312)iXUs...                 NaN   \n",
       "3  iXUsr_Moran(10217)iXUsr_Evangelista(10312)iXUs...                 NaN   \n",
       "4  iXUsr_Moran(10217)iXUsr_Evangelista(10312)iXUs...  move to other line   \n",
       "5  iXUsr_Li(11495)iXUsr_Strzeletz(6101)iXUsr_Rao(...                 NaN   \n",
       "6  iXUsr_Li(11495)iXUsr_Strzeletz(6101)iXUsr_Rao(...                 NaN   \n",
       "7  iXUsr_Li(11495)iXUsr_Strzeletz(6101)iXUsr_Rao(...                 NaN   \n",
       "8  iXUsr_Li(11495)iXUsr_Strzeletz(6101)iXUsr_Rao(...                 NaN   \n",
       "9  iXUsr_Li(11495)iXUsr_Strzeletz(6101)iXUsr_Rao(...                 NaN   \n",
       "\n",
       "  Missing Products Kitting Line  \n",
       "0              NaN          KL1  \n",
       "1              NaN          KL1  \n",
       "2              NaN          KL1  \n",
       "3              NaN          KL1  \n",
       "4              NaN          KL1  \n",
       "5              NaN          KL1  \n",
       "6              NaN          KL1  \n",
       "7              NaN          KL1  \n",
       "8              NaN          KL1  \n",
       "9              NaN          KL1  "
      ],
      "text/html": "<div>\n<style scoped>\n    .dataframe tbody tr th:only-of-type {\n        vertical-align: middle;\n    }\n\n    .dataframe tbody tr th {\n        vertical-align: top;\n    }\n\n    .dataframe thead th {\n        text-align: right;\n    }\n</style>\n<table border=\"1\" class=\"dataframe\">\n  <thead>\n    <tr style=\"text-align: right;\">\n      <th></th>\n      <th>Barcode</th>\n      <th>Production Batch</th>\n      <th>Recipe and P</th>\n      <th>Timestamp</th>\n      <th>Date</th>\n      <th>Seq Code</th>\n      <th>Week</th>\n      <th>Team Leader</th>\n      <th>Replenisher</th>\n      <th>Pickers</th>\n      <th>Break Reasons</th>\n      <th>Missing Products</th>\n      <th>Kitting Line</th>\n    </tr>\n  </thead>\n  <tbody>\n    <tr>\n      <th>0</th>\n      <td>Production Start</td>\n      <td>NaN</td>\n      <td>NaN</td>\n      <td>08:31:10</td>\n      <td>2021-03-11</td>\n      <td>NaN</td>\n      <td>NaN</td>\n      <td>iXUsr_Tutai(7335)</td>\n      <td>iXUsr_McAteer(8866)</td>\n      <td>iXUsr_Moran(10217)iXUsr_Evangelista(10312)iXUs...</td>\n      <td>NaN</td>\n      <td>NaN</td>\n      <td>KL1</td>\n    </tr>\n    <tr>\n      <th>1</th>\n      <td>New Recipe Start</td>\n      <td>NaN</td>\n      <td>NaN</td>\n      <td>08:31:20</td>\n      <td>2021-03-11</td>\n      <td>NaN</td>\n      <td>NaN</td>\n      <td>iXUsr_Tutai(7335)</td>\n      <td>iXUsr_McAteer(8866)</td>\n      <td>iXUsr_Moran(10217)iXUsr_Evangelista(10312)iXUs...</td>\n      <td>NaN</td>\n      <td>NaN</td>\n      <td>KL1</td>\n    </tr>\n    <tr>\n      <th>2</th>\n      <td>911O2$$$$$$$$0001000501</td>\n      <td>9.0</td>\n      <td>O2</td>\n      <td>08:32:15</td>\n      <td>2021-03-11</td>\n      <td>0001 of 0005</td>\n      <td>11.0</td>\n      <td>iXUsr_Tutai(7335)</td>\n      <td>iXUsr_McAteer(8866)</td>\n      <td>iXUsr_Moran(10217)iXUsr_Evangelista(10312)iXUs...</td>\n      <td>NaN</td>\n      <td>NaN</td>\n      <td>KL1</td>\n    </tr>\n    <tr>\n      <th>3</th>\n      <td>911O2$$$$$$$$0002000501</td>\n      <td>9.0</td>\n      <td>O2</td>\n      <td>08:36:40</td>\n      <td>2021-03-11</td>\n      <td>0002 of 0005</td>\n      <td>11.0</td>\n      <td>iXUsr_Tutai(7335)</td>\n      <td>iXUsr_McAteer(8866)</td>\n      <td>iXUsr_Moran(10217)iXUsr_Evangelista(10312)iXUs...</td>\n      <td>NaN</td>\n      <td>NaN</td>\n      <td>KL1</td>\n    </tr>\n    <tr>\n      <th>4</th>\n      <td>Break Start</td>\n      <td>NaN</td>\n      <td>NaN</td>\n      <td>08:39:15</td>\n      <td>2021-03-11</td>\n      <td>NaN</td>\n      <td>NaN</td>\n      <td>iXUsr_Tutai(7335)</td>\n      <td>iXUsr_McAteer(8866)</td>\n      <td>iXUsr_Moran(10217)iXUsr_Evangelista(10312)iXUs...</td>\n      <td>move to other line</td>\n      <td>NaN</td>\n      <td>KL1</td>\n    </tr>\n    <tr>\n      <th>5</th>\n      <td>Break End</td>\n      <td>NaN</td>\n      <td>NaN</td>\n      <td>12:32:29</td>\n      <td>2021-03-11</td>\n      <td>NaN</td>\n      <td>NaN</td>\n      <td>iXUsr_Joanne(6854)</td>\n      <td>NaN</td>\n      <td>iXUsr_Li(11495)iXUsr_Strzeletz(6101)iXUsr_Rao(...</td>\n      <td>NaN</td>\n      <td>NaN</td>\n      <td>KL1</td>\n    </tr>\n    <tr>\n      <th>6</th>\n      <td>New Recipe Start</td>\n      <td>NaN</td>\n      <td>NaN</td>\n      <td>12:32:49</td>\n      <td>2021-03-11</td>\n      <td>NaN</td>\n      <td>NaN</td>\n      <td>iXUsr_Joanne(6854)</td>\n      <td>NaN</td>\n      <td>iXUsr_Li(11495)iXUsr_Strzeletz(6101)iXUsr_Rao(...</td>\n      <td>NaN</td>\n      <td>NaN</td>\n      <td>KL1</td>\n    </tr>\n    <tr>\n      <th>7</th>\n      <td>911P2$$$$$$$$0001000401</td>\n      <td>9.0</td>\n      <td>P2</td>\n      <td>12:37:06</td>\n      <td>2021-03-11</td>\n      <td>0001 of 0004</td>\n      <td>11.0</td>\n      <td>iXUsr_Joanne(6854)</td>\n      <td>NaN</td>\n      <td>iXUsr_Li(11495)iXUsr_Strzeletz(6101)iXUsr_Rao(...</td>\n      <td>NaN</td>\n      <td>NaN</td>\n      <td>KL1</td>\n    </tr>\n    <tr>\n      <th>8</th>\n      <td>911P2$$$$$$$$0002000401</td>\n      <td>9.0</td>\n      <td>P2</td>\n      <td>12:41:49</td>\n      <td>2021-03-11</td>\n      <td>0002 of 0004</td>\n      <td>11.0</td>\n      <td>iXUsr_Joanne(6854)</td>\n      <td>NaN</td>\n      <td>iXUsr_Li(11495)iXUsr_Strzeletz(6101)iXUsr_Rao(...</td>\n      <td>NaN</td>\n      <td>NaN</td>\n      <td>KL1</td>\n    </tr>\n    <tr>\n      <th>9</th>\n      <td>911P2$$$$$$$$0003000401</td>\n      <td>9.0</td>\n      <td>P2</td>\n      <td>12:46:35</td>\n      <td>2021-03-11</td>\n      <td>0003 of 0004</td>\n      <td>11.0</td>\n      <td>iXUsr_Joanne(6854)</td>\n      <td>NaN</td>\n      <td>iXUsr_Li(11495)iXUsr_Strzeletz(6101)iXUsr_Rao(...</td>\n      <td>NaN</td>\n      <td>NaN</td>\n      <td>KL1</td>\n    </tr>\n  </tbody>\n</table>\n</div>"
     },
     "metadata": {},
     "execution_count": 3
    }
   ],
   "source": [
    "df.head(10)"
   ]
  },
  {
   "cell_type": "code",
   "execution_count": 4,
   "metadata": {},
   "outputs": [
    {
     "output_type": "execute_result",
     "data": {
      "text/plain": [
       "False"
      ]
     },
     "metadata": {},
     "execution_count": 4
    }
   ],
   "source": [
    "# type(df['Timestamp'].iloc[1]) == dt.time\n",
    "type(df['Date'].iloc[0]) not in [pd._libs.tslibs.timestamps.Timestamp, 1]"
   ]
  },
  {
   "cell_type": "code",
   "execution_count": 5,
   "metadata": {},
   "outputs": [],
   "source": [
    "# Check timestamps & date whether have the right format\n",
    "def check_data_type(dataframe, col):\n",
    "    for i in range(len(dataframe)):\n",
    "        if type(dataframe[col].iloc[i]) not in [dt.time, pd._libs.tslibs.timestamps.Timestamp]:\n",
    "            print(\"check the {}th data\".format(i))\n",
    "            print(dataframe.iloc[i])\n",
    "            return\n",
    "    print(\"Pass Check -- {}\".format(col))"
   ]
  },
  {
   "cell_type": "code",
   "execution_count": 6,
   "metadata": {
    "tags": []
   },
   "outputs": [
    {
     "output_type": "stream",
     "name": "stdout",
     "text": [
      "Pass Check -- Timestamp\n"
     ]
    }
   ],
   "source": [
    "check_data_type(df, 'Timestamp')"
   ]
  },
  {
   "cell_type": "code",
   "execution_count": 7,
   "metadata": {
    "tags": []
   },
   "outputs": [
    {
     "output_type": "stream",
     "name": "stdout",
     "text": [
      "Pass Check -- Date\n"
     ]
    }
   ],
   "source": [
    "check_data_type(df, 'Date')"
   ]
  },
  {
   "cell_type": "code",
   "execution_count": 8,
   "metadata": {},
   "outputs": [],
   "source": [
    "def combine_date_time(df, datecol, timecol):\n",
    "    return df.apply(lambda row: row[datecol].replace(\n",
    "                                hour=row[timecol].hour,\n",
    "                                minute=row[timecol].minute,\n",
    "                                second=row[timecol].second),\n",
    "                    axis=1)"
   ]
  },
  {
   "cell_type": "code",
   "execution_count": 9,
   "metadata": {},
   "outputs": [
    {
     "output_type": "execute_result",
     "data": {
      "text/plain": [
       "0     2021-03-11 08:31:10\n",
       "1     2021-03-11 08:31:20\n",
       "2     2021-03-11 08:32:15\n",
       "3     2021-03-11 08:36:40\n",
       "4     2021-03-11 08:39:15\n",
       "              ...        \n",
       "492   2021-03-14 07:07:49\n",
       "493   2021-03-14 07:10:54\n",
       "494   2021-03-14 07:14:31\n",
       "495   2021-03-14 07:14:42\n",
       "496   2021-03-14 07:16:21\n",
       "Length: 9548, dtype: datetime64[ns]"
      ]
     },
     "metadata": {},
     "execution_count": 9
    }
   ],
   "source": [
    "new_c = combine_date_time(df, 'Date', 'Timestamp')\n",
    "new_c"
   ]
  },
  {
   "cell_type": "code",
   "execution_count": 10,
   "metadata": {},
   "outputs": [],
   "source": [
    "df['Timestamp and Date'] = new_c\n",
    "df = df.drop_duplicates(subset = None, keep='last') # kept 'last record' for a reason"
   ]
  },
  {
   "cell_type": "code",
   "execution_count": 11,
   "metadata": {
    "tags": []
   },
   "outputs": [
    {
     "output_type": "stream",
     "name": "stdout",
     "text": [
      "'KL1' production batch 1 included\n'KL1' production batch 2 included\n'KL1' production batch 3 included\n'KL1' production batch 4 included\nWarning: 'KL1' , production batch 5 is not included\nWarning: 'KL1' , production batch 6 is not included\nWarning: 'KL1' , production batch 7 is not included\nWarning: 'KL1' , production batch 8 is not included\n'KL2' production batch 1 included\n'KL2' production batch 2 included\n'KL2' production batch 3 included\n'KL2' production batch 4 included\n'KL2' production batch 5 included\nWarning: 'KL2' , production batch 6 is not included\nWarning: 'KL2' , production batch 7 is not included\n'KL2' production batch 8 included\n'KL3' production batch 1 included\n'KL3' production batch 2 included\n'KL3' production batch 3 included\n'KL3' production batch 4 included\n'KL3' production batch 5 included\nWarning: 'KL3' , production batch 6 is not included\nWarning: 'KL3' , production batch 7 is not included\n'KL3' production batch 8 included\n'KL4' production batch 1 included\n'KL4' production batch 2 included\n'KL4' production batch 3 included\n'KL4' production batch 4 included\nWarning: 'KL4' , production batch 5 is not included\nWarning: 'KL4' , production batch 6 is not included\nWarning: 'KL4' , production batch 7 is not included\n'KL4' production batch 8 included\n'KL5' production batch 1 included\n'KL5' production batch 2 included\n'KL5' production batch 3 included\n'KL5' production batch 4 included\n'KL5' production batch 5 included\nWarning: 'KL5' , production batch 6 is not included\nWarning: 'KL5' , production batch 7 is not included\n'KL5' production batch 8 included\n'KL6' production batch 1 included\n'KL6' production batch 2 included\n'KL6' production batch 3 included\n'KL6' production batch 4 included\nWarning: 'KL6' , production batch 5 is not included\nWarning: 'KL6' , production batch 6 is not included\nWarning: 'KL6' , production batch 7 is not included\n'KL6' production batch 8 included\n'KL7' production batch 1 included\n'KL7' production batch 2 included\n'KL7' production batch 3 included\n'KL7' production batch 4 included\nWarning: 'KL7' , production batch 5 is not included\nWarning: 'KL7' , production batch 6 is not included\nWarning: 'KL7' , production batch 7 is not included\n'KL7' production batch 8 included\nWarning: 'KL8' , production batch 1 is not included\n'KL8' production batch 2 included\n'KL8' production batch 3 included\nWarning: 'KL8' , production batch 4 is not included\n'KL8' production batch 5 included\nWarning: 'KL8' , production batch 6 is not included\nWarning: 'KL8' , production batch 7 is not included\n'KL8' production batch 8 included\n'KL9' production batch 1 included\n'KL9' production batch 2 included\n'KL9' production batch 3 included\n'KL9' production batch 4 included\nWarning: 'KL9' , production batch 5 is not included\nWarning: 'KL9' , production batch 6 is not included\nWarning: 'KL9' , production batch 7 is not included\n'KL9' production batch 8 included\n'KL10' production batch 1 included\n'KL10' production batch 2 included\n'KL10' production batch 3 included\n'KL10' production batch 4 included\nWarning: 'KL10' , production batch 5 is not included\nWarning: 'KL10' , production batch 6 is not included\nWarning: 'KL10' , production batch 7 is not included\nWarning: 'KL10' , production batch 8 is not included\n'KL11' production batch 1 included\n'KL11' production batch 2 included\n'KL11' production batch 3 included\nWarning: 'KL11' , production batch 4 is not included\n'KL11' production batch 5 included\nWarning: 'KL11' , production batch 6 is not included\nWarning: 'KL11' , production batch 7 is not included\n'KL11' production batch 8 included\n'KL12' production batch 1 included\n'KL12' production batch 2 included\n'KL12' production batch 3 included\n'KL12' production batch 4 included\n'KL12' production batch 5 included\nWarning: 'KL12' , production batch 6 is not included\nWarning: 'KL12' , production batch 7 is not included\nWarning: 'KL12' , production batch 8 is not included\n'KL13' production batch 1 included\n'KL13' production batch 2 included\n'KL13' production batch 3 included\n'KL13' production batch 4 included\nWarning: 'KL13' , production batch 5 is not included\nWarning: 'KL13' , production batch 6 is not included\nWarning: 'KL13' , production batch 7 is not included\n'KL13' production batch 8 included\n'KL14' production batch 1 included\n'KL14' production batch 2 included\n'KL14' production batch 3 included\n'KL14' production batch 4 included\n'KL14' production batch 5 included\nWarning: 'KL14' , production batch 6 is not included\nWarning: 'KL14' , production batch 7 is not included\n'KL14' production batch 8 included\n'KL15' production batch 1 included\n'KL15' production batch 2 included\n'KL15' production batch 3 included\n'KL15' production batch 4 included\nWarning: 'KL15' , production batch 5 is not included\nWarning: 'KL15' , production batch 6 is not included\nWarning: 'KL15' , production batch 7 is not included\n'KL15' production batch 8 included\n'KL16' production batch 1 included\n'KL16' production batch 2 included\n'KL16' production batch 3 included\n'KL16' production batch 4 included\nWarning: 'KL16' , production batch 5 is not included\nWarning: 'KL16' , production batch 6 is not included\nWarning: 'KL16' , production batch 7 is not included\n'KL16' production batch 8 included\n'KL17' production batch 1 included\n'KL17' production batch 2 included\n'KL17' production batch 3 included\n'KL17' production batch 4 included\nWarning: 'KL17' , production batch 5 is not included\nWarning: 'KL17' , production batch 6 is not included\nWarning: 'KL17' , production batch 7 is not included\n'KL17' production batch 8 included\n'KL18' production batch 1 included\n'KL18' production batch 2 included\n'KL18' production batch 3 included\n'KL18' production batch 4 included\n'KL18' production batch 5 included\nWarning: 'KL18' , production batch 6 is not included\nWarning: 'KL18' , production batch 7 is not included\n'KL18' production batch 8 included\n'KL19' production batch 1 included\n'KL19' production batch 2 included\n'KL19' production batch 3 included\n'KL19' production batch 4 included\nWarning: 'KL19' , production batch 5 is not included\nWarning: 'KL19' , production batch 6 is not included\nWarning: 'KL19' , production batch 7 is not included\n'KL19' production batch 8 included\n'KL20' production batch 1 included\n'KL20' production batch 2 included\n'KL20' production batch 3 included\nWarning: 'KL20' , production batch 4 is not included\nWarning: 'KL20' , production batch 5 is not included\nWarning: 'KL20' , production batch 6 is not included\nWarning: 'KL20' , production batch 7 is not included\n'KL20' production batch 8 included\n"
     ]
    }
   ],
   "source": [
    "for KL in data:\n",
    "    df_new = df.loc[df['Kitting Line'] == KL] # df_new is the sliced raw data of \"Kitting Line(KL) Name\"\n",
    "    # 1.(after dropping duplicates) for every kitting line it has to contain batch code [1:7]\n",
    "    i = pd.Categorical(df_new['Production Batch'])\n",
    "    for j in range (1,9):\n",
    "        if j not in i.categories:\n",
    "            print(\"Warning: %r , production batch %s is not included\" %(KL,j))\n",
    "        else:\n",
    "            print(\"%r production batch %s included\" %(KL,j))"
   ]
  },
  {
   "cell_type": "code",
   "execution_count": 12,
   "metadata": {},
   "outputs": [
    {
     "output_type": "execute_result",
     "data": {
      "text/plain": [
       "                    Barcode  Production Batch Recipe and P Timestamp  \\\n",
       "35         Production Start               NaN          NaN  08:31:10   \n",
       "36         New Recipe Start               NaN          NaN  08:31:20   \n",
       "37  911O2$$$$$$$$0001000501               9.0           O2  08:32:15   \n",
       "38  911O2$$$$$$$$0002000501               9.0           O2  08:36:40   \n",
       "39              Break Start               NaN          NaN  08:39:15   \n",
       "\n",
       "         Date      Seq Code  Week        Team Leader          Replenisher  \\\n",
       "35 2021-03-11           NaN   NaN  iXUsr_Tutai(7335)  iXUsr_McAteer(8866)   \n",
       "36 2021-03-11           NaN   NaN  iXUsr_Tutai(7335)  iXUsr_McAteer(8866)   \n",
       "37 2021-03-11  0001 of 0005  11.0  iXUsr_Tutai(7335)  iXUsr_McAteer(8866)   \n",
       "38 2021-03-11  0002 of 0005  11.0  iXUsr_Tutai(7335)  iXUsr_McAteer(8866)   \n",
       "39 2021-03-11           NaN   NaN  iXUsr_Tutai(7335)  iXUsr_McAteer(8866)   \n",
       "\n",
       "                                              Pickers       Break Reasons  \\\n",
       "35  iXUsr_Moran(10217)iXUsr_Evangelista(10312)iXUs...                 NaN   \n",
       "36  iXUsr_Moran(10217)iXUsr_Evangelista(10312)iXUs...                 NaN   \n",
       "37  iXUsr_Moran(10217)iXUsr_Evangelista(10312)iXUs...                 NaN   \n",
       "38  iXUsr_Moran(10217)iXUsr_Evangelista(10312)iXUs...                 NaN   \n",
       "39  iXUsr_Moran(10217)iXUsr_Evangelista(10312)iXUs...  move to other line   \n",
       "\n",
       "   Missing Products Kitting Line  Timestamp and Date  \n",
       "35              NaN          KL1 2021-03-11 08:31:10  \n",
       "36              NaN          KL1 2021-03-11 08:31:20  \n",
       "37              NaN          KL1 2021-03-11 08:32:15  \n",
       "38              NaN          KL1 2021-03-11 08:36:40  \n",
       "39              NaN          KL1 2021-03-11 08:39:15  "
      ],
      "text/html": "<div>\n<style scoped>\n    .dataframe tbody tr th:only-of-type {\n        vertical-align: middle;\n    }\n\n    .dataframe tbody tr th {\n        vertical-align: top;\n    }\n\n    .dataframe thead th {\n        text-align: right;\n    }\n</style>\n<table border=\"1\" class=\"dataframe\">\n  <thead>\n    <tr style=\"text-align: right;\">\n      <th></th>\n      <th>Barcode</th>\n      <th>Production Batch</th>\n      <th>Recipe and P</th>\n      <th>Timestamp</th>\n      <th>Date</th>\n      <th>Seq Code</th>\n      <th>Week</th>\n      <th>Team Leader</th>\n      <th>Replenisher</th>\n      <th>Pickers</th>\n      <th>Break Reasons</th>\n      <th>Missing Products</th>\n      <th>Kitting Line</th>\n      <th>Timestamp and Date</th>\n    </tr>\n  </thead>\n  <tbody>\n    <tr>\n      <th>35</th>\n      <td>Production Start</td>\n      <td>NaN</td>\n      <td>NaN</td>\n      <td>08:31:10</td>\n      <td>2021-03-11</td>\n      <td>NaN</td>\n      <td>NaN</td>\n      <td>iXUsr_Tutai(7335)</td>\n      <td>iXUsr_McAteer(8866)</td>\n      <td>iXUsr_Moran(10217)iXUsr_Evangelista(10312)iXUs...</td>\n      <td>NaN</td>\n      <td>NaN</td>\n      <td>KL1</td>\n      <td>2021-03-11 08:31:10</td>\n    </tr>\n    <tr>\n      <th>36</th>\n      <td>New Recipe Start</td>\n      <td>NaN</td>\n      <td>NaN</td>\n      <td>08:31:20</td>\n      <td>2021-03-11</td>\n      <td>NaN</td>\n      <td>NaN</td>\n      <td>iXUsr_Tutai(7335)</td>\n      <td>iXUsr_McAteer(8866)</td>\n      <td>iXUsr_Moran(10217)iXUsr_Evangelista(10312)iXUs...</td>\n      <td>NaN</td>\n      <td>NaN</td>\n      <td>KL1</td>\n      <td>2021-03-11 08:31:20</td>\n    </tr>\n    <tr>\n      <th>37</th>\n      <td>911O2$$$$$$$$0001000501</td>\n      <td>9.0</td>\n      <td>O2</td>\n      <td>08:32:15</td>\n      <td>2021-03-11</td>\n      <td>0001 of 0005</td>\n      <td>11.0</td>\n      <td>iXUsr_Tutai(7335)</td>\n      <td>iXUsr_McAteer(8866)</td>\n      <td>iXUsr_Moran(10217)iXUsr_Evangelista(10312)iXUs...</td>\n      <td>NaN</td>\n      <td>NaN</td>\n      <td>KL1</td>\n      <td>2021-03-11 08:32:15</td>\n    </tr>\n    <tr>\n      <th>38</th>\n      <td>911O2$$$$$$$$0002000501</td>\n      <td>9.0</td>\n      <td>O2</td>\n      <td>08:36:40</td>\n      <td>2021-03-11</td>\n      <td>0002 of 0005</td>\n      <td>11.0</td>\n      <td>iXUsr_Tutai(7335)</td>\n      <td>iXUsr_McAteer(8866)</td>\n      <td>iXUsr_Moran(10217)iXUsr_Evangelista(10312)iXUs...</td>\n      <td>NaN</td>\n      <td>NaN</td>\n      <td>KL1</td>\n      <td>2021-03-11 08:36:40</td>\n    </tr>\n    <tr>\n      <th>39</th>\n      <td>Break Start</td>\n      <td>NaN</td>\n      <td>NaN</td>\n      <td>08:39:15</td>\n      <td>2021-03-11</td>\n      <td>NaN</td>\n      <td>NaN</td>\n      <td>iXUsr_Tutai(7335)</td>\n      <td>iXUsr_McAteer(8866)</td>\n      <td>iXUsr_Moran(10217)iXUsr_Evangelista(10312)iXUs...</td>\n      <td>move to other line</td>\n      <td>NaN</td>\n      <td>KL1</td>\n      <td>2021-03-11 08:39:15</td>\n    </tr>\n  </tbody>\n</table>\n</div>"
     },
     "metadata": {},
     "execution_count": 12
    }
   ],
   "source": [
    "df.head()"
   ]
  },
  {
   "cell_type": "code",
   "execution_count": 13,
   "metadata": {},
   "outputs": [],
   "source": [
    "df.to_csv(r'C:\\Users\\Peiran Quan\\Desktop\\python_data_preparation\\staged.csv',index=False)"
   ]
  }
 ],
 "metadata": {
  "kernelspec": {
   "name": "python38664bitpythonstatisticspipenv96e152019e6149498b79a69a7e88712b",
   "display_name": "Python 3.8.6 64-bit ('PythonStatistics': pipenv)"
  },
  "language_info": {
   "codemirror_mode": {
    "name": "ipython",
    "version": 3
   },
   "file_extension": ".py",
   "mimetype": "text/x-python",
   "name": "python",
   "nbconvert_exporter": "python",
   "pygments_lexer": "ipython3",
   "version": "3.8.6-final"
  }
 },
 "nbformat": 4,
 "nbformat_minor": 4
}