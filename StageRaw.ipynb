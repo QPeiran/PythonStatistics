{
 "cells": [
  {
   "cell_type": "code",
   "execution_count": 1,
   "metadata": {},
   "outputs": [],
   "source": [
    "import pandas as pd\n",
    "import datetime as dt\n",
    "\n",
    "\n",
    "# read file into data frame\n",
    "data = {}\n",
    "with pd.ExcelFile(r'C:\\Users\\Peiran Quan\\Desktop\\python_data_preparation\\raw.xlsx') as xlsx: #Change the file path here\n",
    "    data['KL1'] = pd.read_excel(xlsx,'Kit line 1',index_col = None,na_values='NA')\n",
    "    data['KL2'] = pd.read_excel(xlsx,'Kit line 2',index_col = None,na_values='NA')#, skiprows=1)\n",
    "    data['KL3'] = pd.read_excel(xlsx,'Kit line 3',index_col = None,na_values='NA')\n",
    "    data['KL4'] = pd.read_excel(xlsx,'Kit line 4',index_col = None,na_values='NA')\n",
    "    data['KL5'] = pd.read_excel(xlsx,'Kit line 5',index_col = None,na_values='NA')\n",
    "    data['KL6'] = pd.read_excel(xlsx,'Kit line 6',index_col = None,na_values='NA')\n",
    "    data['KL7'] = pd.read_excel(xlsx,'Kit line 7',index_col = None,na_values='NA')\n",
    "    data['KL8'] = pd.read_excel(xlsx,'Kit line 8',index_col = None,na_values='NA')\n",
    "    data['KL9'] = pd.read_excel(xlsx,'Kit line 9',index_col = None,na_values='NA')\n",
    "    data['KL10'] = pd.read_excel(xlsx,'Kit line 10',index_col = None,na_values='NA')\n",
    "    data['KL11'] = pd.read_excel(xlsx,'Kit line 11',index_col = None,na_values='NA')\n",
    "    data['KL12'] = pd.read_excel(xlsx,'Kit line 12',index_col = None,na_values='NA')\n",
    "    data['KL13'] = pd.read_excel(xlsx,'Kit line 13',index_col = None,na_values='NA')\n",
    "    data['KL14'] = pd.read_excel(xlsx,'Kit line 14',index_col = None,na_values='NA')\n",
    "    data['KL15'] = pd.read_excel(xlsx,'Kit line 15',index_col = None,na_values='NA')\n",
    "    data['KL16'] = pd.read_excel(xlsx,'Kit line 16',index_col = None,na_values='NA')\n",
    "    data['KL17'] = pd.read_excel(xlsx,'Kit line 17',index_col = None,na_values='NA')\n",
    "    data['KL18'] = pd.read_excel(xlsx,'Kit line 18',index_col = None,na_values='NA')\n",
    "    data['KL19'] = pd.read_excel(xlsx,'Kit line 19',index_col = None,na_values='NA')\n",
    "    data['KL20'] = pd.read_excel(xlsx,'Kit line 20',index_col = None,na_values='NA')\n",
    "\n",
    "# Join all kitting lines' data to one\n",
    "df = pd.DataFrame(data=None)   # df is the frame containing all raw data\n",
    "for KL in data:\n",
    "    sLength = len(data[KL])\n",
    "    KL_array = [KL for i in range(sLength)]\n",
    "    data[KL]['kittingline'] = KL_array               #Meanwhile add a new column with the kitting line's name\n",
    "    df = pd.concat([df,data[KL]], sort = False)"
   ]
  },
  {
   "cell_type": "code",
   "execution_count": 2,
   "metadata": {},
   "outputs": [],
   "source": [
    "# rename all the column index\n",
    "df.columns = ['Barcode', 'Production Batch', 'Recipe and P', 'Timestamp', 'Date', 'Seq Code', 'Week', 'Team Leader', 'Replenisher', 'Pickers', 'Break Reasons', 'Missing Products', 'Kitting Line']"
   ]
  },
  {
   "cell_type": "code",
   "execution_count": 3,
   "metadata": {},
   "outputs": [
    {
     "output_type": "execute_result",
     "data": {
      "text/plain": [
       "                   Barcode  Production Batch Recipe and P Timestamp  \\\n",
       "0         Production Start               NaN          NaN  06:11:33   \n",
       "1         New Recipe Start               NaN          NaN  06:11:41   \n",
       "2  808A4$$$$$$$$0001002001               8.0           A4  06:15:13   \n",
       "3              Break Start               NaN          NaN  06:17:28   \n",
       "4                Break End               NaN          NaN  06:18:48   \n",
       "5  808A4$$$$$$$$0002002001               8.0           A4  06:20:37   \n",
       "6  808A4$$$$$$$$0003002001               8.0           A4  06:25:06   \n",
       "7  808A4$$$$$$$$0004002001               8.0           A4  06:29:40   \n",
       "8  808A4$$$$$$$$0005002001               8.0           A4  06:33:50   \n",
       "9  808A4$$$$$$$$0006002001               8.0           A4  06:37:38   \n",
       "\n",
       "        Date      Seq Code  Week            Team Leader Replenisher  \\\n",
       "0 2021-02-18           NaN   NaN  iXUsr_Strzeletz(6101)         NaN   \n",
       "1 2021-02-18           NaN   NaN  iXUsr_Strzeletz(6101)         NaN   \n",
       "2 2021-02-18  0001 of 0020   8.0  iXUsr_Strzeletz(6101)         NaN   \n",
       "3 2021-02-18           NaN   NaN  iXUsr_Strzeletz(6101)         NaN   \n",
       "4 2021-02-18           NaN   NaN  iXUsr_Strzeletz(6101)         NaN   \n",
       "5 2021-02-18  0002 of 0020   8.0  iXUsr_Strzeletz(6101)         NaN   \n",
       "6 2021-02-18  0003 of 0020   8.0  iXUsr_Strzeletz(6101)         NaN   \n",
       "7 2021-02-18  0004 of 0020   8.0  iXUsr_Strzeletz(6101)         NaN   \n",
       "8 2021-02-18  0005 of 0020   8.0  iXUsr_Strzeletz(6101)         NaN   \n",
       "9 2021-02-18  0006 of 0020   8.0  iXUsr_Strzeletz(6101)         NaN   \n",
       "\n",
       "                                             Pickers     Break Reasons  \\\n",
       "0  iXUsr_Napia(9234)iXUsr_Li(6826)iXUsr_Escalona(...               NaN   \n",
       "1  iXUsr_Napia(9234)iXUsr_Li(6826)iXUsr_Escalona(...               NaN   \n",
       "2  iXUsr_Napia(9234)iXUsr_Li(6826)iXUsr_Escalona(...               NaN   \n",
       "3  iXUsr_Napia(9234)iXUsr_Li(6826)iXUsr_Escalona(...  missing products   \n",
       "4  iXUsr_Napia(9234)iXUsr_Li(6826)iXUsr_Escalona(...               NaN   \n",
       "5  iXUsr_Napia(9234)iXUsr_Li(6826)iXUsr_Escalona(...               NaN   \n",
       "6  iXUsr_Napia(9234)iXUsr_Li(6826)iXUsr_Escalona(...               NaN   \n",
       "7  iXUsr_Napia(9234)iXUsr_Li(6826)iXUsr_Escalona(...               NaN   \n",
       "8  iXUsr_Napia(9234)iXUsr_Li(6826)iXUsr_Escalona(...               NaN   \n",
       "9  iXUsr_Napia(9234)iXUsr_Li(6826)iXUsr_Escalona(...               NaN   \n",
       "\n",
       "  Missing Products Kitting Line  \n",
       "0              NaN          KL1  \n",
       "1              NaN          KL1  \n",
       "2              NaN          KL1  \n",
       "3        Mint, 10g          KL1  \n",
       "4              NaN          KL1  \n",
       "5              NaN          KL1  \n",
       "6              NaN          KL1  \n",
       "7              NaN          KL1  \n",
       "8              NaN          KL1  \n",
       "9              NaN          KL1  "
      ],
      "text/html": "<div>\n<style scoped>\n    .dataframe tbody tr th:only-of-type {\n        vertical-align: middle;\n    }\n\n    .dataframe tbody tr th {\n        vertical-align: top;\n    }\n\n    .dataframe thead th {\n        text-align: right;\n    }\n</style>\n<table border=\"1\" class=\"dataframe\">\n  <thead>\n    <tr style=\"text-align: right;\">\n      <th></th>\n      <th>Barcode</th>\n      <th>Production Batch</th>\n      <th>Recipe and P</th>\n      <th>Timestamp</th>\n      <th>Date</th>\n      <th>Seq Code</th>\n      <th>Week</th>\n      <th>Team Leader</th>\n      <th>Replenisher</th>\n      <th>Pickers</th>\n      <th>Break Reasons</th>\n      <th>Missing Products</th>\n      <th>Kitting Line</th>\n    </tr>\n  </thead>\n  <tbody>\n    <tr>\n      <th>0</th>\n      <td>Production Start</td>\n      <td>NaN</td>\n      <td>NaN</td>\n      <td>06:11:33</td>\n      <td>2021-02-18</td>\n      <td>NaN</td>\n      <td>NaN</td>\n      <td>iXUsr_Strzeletz(6101)</td>\n      <td>NaN</td>\n      <td>iXUsr_Napia(9234)iXUsr_Li(6826)iXUsr_Escalona(...</td>\n      <td>NaN</td>\n      <td>NaN</td>\n      <td>KL1</td>\n    </tr>\n    <tr>\n      <th>1</th>\n      <td>New Recipe Start</td>\n      <td>NaN</td>\n      <td>NaN</td>\n      <td>06:11:41</td>\n      <td>2021-02-18</td>\n      <td>NaN</td>\n      <td>NaN</td>\n      <td>iXUsr_Strzeletz(6101)</td>\n      <td>NaN</td>\n      <td>iXUsr_Napia(9234)iXUsr_Li(6826)iXUsr_Escalona(...</td>\n      <td>NaN</td>\n      <td>NaN</td>\n      <td>KL1</td>\n    </tr>\n    <tr>\n      <th>2</th>\n      <td>808A4$$$$$$$$0001002001</td>\n      <td>8.0</td>\n      <td>A4</td>\n      <td>06:15:13</td>\n      <td>2021-02-18</td>\n      <td>0001 of 0020</td>\n      <td>8.0</td>\n      <td>iXUsr_Strzeletz(6101)</td>\n      <td>NaN</td>\n      <td>iXUsr_Napia(9234)iXUsr_Li(6826)iXUsr_Escalona(...</td>\n      <td>NaN</td>\n      <td>NaN</td>\n      <td>KL1</td>\n    </tr>\n    <tr>\n      <th>3</th>\n      <td>Break Start</td>\n      <td>NaN</td>\n      <td>NaN</td>\n      <td>06:17:28</td>\n      <td>2021-02-18</td>\n      <td>NaN</td>\n      <td>NaN</td>\n      <td>iXUsr_Strzeletz(6101)</td>\n      <td>NaN</td>\n      <td>iXUsr_Napia(9234)iXUsr_Li(6826)iXUsr_Escalona(...</td>\n      <td>missing products</td>\n      <td>Mint, 10g</td>\n      <td>KL1</td>\n    </tr>\n    <tr>\n      <th>4</th>\n      <td>Break End</td>\n      <td>NaN</td>\n      <td>NaN</td>\n      <td>06:18:48</td>\n      <td>2021-02-18</td>\n      <td>NaN</td>\n      <td>NaN</td>\n      <td>iXUsr_Strzeletz(6101)</td>\n      <td>NaN</td>\n      <td>iXUsr_Napia(9234)iXUsr_Li(6826)iXUsr_Escalona(...</td>\n      <td>NaN</td>\n      <td>NaN</td>\n      <td>KL1</td>\n    </tr>\n    <tr>\n      <th>5</th>\n      <td>808A4$$$$$$$$0002002001</td>\n      <td>8.0</td>\n      <td>A4</td>\n      <td>06:20:37</td>\n      <td>2021-02-18</td>\n      <td>0002 of 0020</td>\n      <td>8.0</td>\n      <td>iXUsr_Strzeletz(6101)</td>\n      <td>NaN</td>\n      <td>iXUsr_Napia(9234)iXUsr_Li(6826)iXUsr_Escalona(...</td>\n      <td>NaN</td>\n      <td>NaN</td>\n      <td>KL1</td>\n    </tr>\n    <tr>\n      <th>6</th>\n      <td>808A4$$$$$$$$0003002001</td>\n      <td>8.0</td>\n      <td>A4</td>\n      <td>06:25:06</td>\n      <td>2021-02-18</td>\n      <td>0003 of 0020</td>\n      <td>8.0</td>\n      <td>iXUsr_Strzeletz(6101)</td>\n      <td>NaN</td>\n      <td>iXUsr_Napia(9234)iXUsr_Li(6826)iXUsr_Escalona(...</td>\n      <td>NaN</td>\n      <td>NaN</td>\n      <td>KL1</td>\n    </tr>\n    <tr>\n      <th>7</th>\n      <td>808A4$$$$$$$$0004002001</td>\n      <td>8.0</td>\n      <td>A4</td>\n      <td>06:29:40</td>\n      <td>2021-02-18</td>\n      <td>0004 of 0020</td>\n      <td>8.0</td>\n      <td>iXUsr_Strzeletz(6101)</td>\n      <td>NaN</td>\n      <td>iXUsr_Napia(9234)iXUsr_Li(6826)iXUsr_Escalona(...</td>\n      <td>NaN</td>\n      <td>NaN</td>\n      <td>KL1</td>\n    </tr>\n    <tr>\n      <th>8</th>\n      <td>808A4$$$$$$$$0005002001</td>\n      <td>8.0</td>\n      <td>A4</td>\n      <td>06:33:50</td>\n      <td>2021-02-18</td>\n      <td>0005 of 0020</td>\n      <td>8.0</td>\n      <td>iXUsr_Strzeletz(6101)</td>\n      <td>NaN</td>\n      <td>iXUsr_Napia(9234)iXUsr_Li(6826)iXUsr_Escalona(...</td>\n      <td>NaN</td>\n      <td>NaN</td>\n      <td>KL1</td>\n    </tr>\n    <tr>\n      <th>9</th>\n      <td>808A4$$$$$$$$0006002001</td>\n      <td>8.0</td>\n      <td>A4</td>\n      <td>06:37:38</td>\n      <td>2021-02-18</td>\n      <td>0006 of 0020</td>\n      <td>8.0</td>\n      <td>iXUsr_Strzeletz(6101)</td>\n      <td>NaN</td>\n      <td>iXUsr_Napia(9234)iXUsr_Li(6826)iXUsr_Escalona(...</td>\n      <td>NaN</td>\n      <td>NaN</td>\n      <td>KL1</td>\n    </tr>\n  </tbody>\n</table>\n</div>"
     },
     "metadata": {},
     "execution_count": 3
    }
   ],
   "source": [
    "df.head(10)"
   ]
  },
  {
   "cell_type": "code",
   "execution_count": 4,
   "metadata": {},
   "outputs": [
    {
     "output_type": "execute_result",
     "data": {
      "text/plain": [
       "False"
      ]
     },
     "metadata": {},
     "execution_count": 4
    }
   ],
   "source": [
    "# type(df['Timestamp'].iloc[1]) == dt.time\n",
    "type(df['Date'].iloc[0]) not in [pd._libs.tslibs.timestamps.Timestamp, 1]"
   ]
  },
  {
   "cell_type": "code",
   "execution_count": 5,
   "metadata": {},
   "outputs": [],
   "source": [
    "# Check timestamps & date whether have the right format\n",
    "def check_data_type(dataframe, col):\n",
    "    for i in range(len(dataframe)):\n",
    "        if type(dataframe[col].iloc[i]) not in [dt.time, pd._libs.tslibs.timestamps.Timestamp]:\n",
    "            print(\"check the {}th data\".format(i))\n",
    "            print(dataframe.iloc[i])\n",
    "            return\n",
    "    print(\"Pass Check -- {}\".format(col))"
   ]
  },
  {
   "cell_type": "code",
   "execution_count": 6,
   "metadata": {
    "tags": []
   },
   "outputs": [
    {
     "output_type": "stream",
     "name": "stdout",
     "text": [
      "Pass Check -- Timestamp\n"
     ]
    }
   ],
   "source": [
    "check_data_type(df, 'Timestamp')"
   ]
  },
  {
   "cell_type": "code",
   "execution_count": 7,
   "metadata": {
    "tags": []
   },
   "outputs": [
    {
     "output_type": "stream",
     "name": "stdout",
     "text": [
      "Pass Check -- Date\n"
     ]
    }
   ],
   "source": [
    "check_data_type(df, 'Date')"
   ]
  },
  {
   "cell_type": "code",
   "execution_count": 8,
   "metadata": {},
   "outputs": [],
   "source": [
    "def combine_date_time(df, datecol, timecol):\n",
    "    return df.apply(lambda row: row[datecol].replace(\n",
    "                                hour=row[timecol].hour,\n",
    "                                minute=row[timecol].minute,\n",
    "                                second=row[timecol].second),\n",
    "                    axis=1)"
   ]
  },
  {
   "cell_type": "code",
   "execution_count": 9,
   "metadata": {},
   "outputs": [
    {
     "output_type": "execute_result",
     "data": {
      "text/plain": [
       "0     2021-02-18 06:11:33\n",
       "1     2021-02-18 06:11:41\n",
       "2     2021-02-18 06:15:13\n",
       "3     2021-02-18 06:17:28\n",
       "4     2021-02-18 06:18:48\n",
       "              ...        \n",
       "184   2021-02-22 12:01:32\n",
       "185   2021-02-22 12:02:16\n",
       "186   2021-02-22 13:01:24\n",
       "187   2021-02-22 13:01:32\n",
       "188   2021-02-22 14:23:59\n",
       "Length: 11242, dtype: datetime64[ns]"
      ]
     },
     "metadata": {},
     "execution_count": 9
    }
   ],
   "source": [
    "new_c = combine_date_time(df, 'Date', 'Timestamp')\n",
    "new_c"
   ]
  },
  {
   "cell_type": "code",
   "execution_count": 10,
   "metadata": {},
   "outputs": [],
   "source": [
    "df['Timestamp and Date'] = new_c\n",
    "df = df.drop_duplicates(subset = None, keep='last') # kept 'last record' for a reason"
   ]
  },
  {
   "cell_type": "code",
   "execution_count": 11,
   "metadata": {
    "tags": []
   },
   "outputs": [
    {
     "output_type": "stream",
     "name": "stdout",
     "text": [
      "'KL1' production batch 1 included\n'KL1' production batch 2 included\n'KL1' production batch 3 included\n'KL1' production batch 4 included\n'KL1' production batch 5 included\n'KL1' production batch 6 included\nWarning: 'KL1' , production batch 7 is not included\n'KL2' production batch 1 included\n'KL2' production batch 2 included\n'KL2' production batch 3 included\n'KL2' production batch 4 included\n'KL2' production batch 5 included\n'KL2' production batch 6 included\nWarning: 'KL2' , production batch 7 is not included\n'KL3' production batch 1 included\n'KL3' production batch 2 included\n'KL3' production batch 3 included\n'KL3' production batch 4 included\n'KL3' production batch 5 included\n'KL3' production batch 6 included\nWarning: 'KL3' , production batch 7 is not included\n'KL4' production batch 1 included\n'KL4' production batch 2 included\n'KL4' production batch 3 included\n'KL4' production batch 4 included\n'KL4' production batch 5 included\n'KL4' production batch 6 included\nWarning: 'KL4' , production batch 7 is not included\n'KL5' production batch 1 included\n'KL5' production batch 2 included\n'KL5' production batch 3 included\n'KL5' production batch 4 included\n'KL5' production batch 5 included\n'KL5' production batch 6 included\nWarning: 'KL5' , production batch 7 is not included\n'KL6' production batch 1 included\n'KL6' production batch 2 included\n'KL6' production batch 3 included\n'KL6' production batch 4 included\n'KL6' production batch 5 included\n'KL6' production batch 6 included\nWarning: 'KL6' , production batch 7 is not included\n'KL7' production batch 1 included\n'KL7' production batch 2 included\n'KL7' production batch 3 included\n'KL7' production batch 4 included\n'KL7' production batch 5 included\n'KL7' production batch 6 included\nWarning: 'KL7' , production batch 7 is not included\n'KL8' production batch 1 included\n'KL8' production batch 2 included\n'KL8' production batch 3 included\n'KL8' production batch 4 included\n'KL8' production batch 5 included\n'KL8' production batch 6 included\nWarning: 'KL8' , production batch 7 is not included\n'KL9' production batch 1 included\n'KL9' production batch 2 included\n'KL9' production batch 3 included\n'KL9' production batch 4 included\n'KL9' production batch 5 included\n'KL9' production batch 6 included\nWarning: 'KL9' , production batch 7 is not included\n'KL10' production batch 1 included\n'KL10' production batch 2 included\n'KL10' production batch 3 included\n'KL10' production batch 4 included\n'KL10' production batch 5 included\n'KL10' production batch 6 included\nWarning: 'KL10' , production batch 7 is not included\n'KL11' production batch 1 included\n'KL11' production batch 2 included\n'KL11' production batch 3 included\n'KL11' production batch 4 included\n'KL11' production batch 5 included\n'KL11' production batch 6 included\nWarning: 'KL11' , production batch 7 is not included\n'KL12' production batch 1 included\n'KL12' production batch 2 included\n'KL12' production batch 3 included\n'KL12' production batch 4 included\n'KL12' production batch 5 included\n'KL12' production batch 6 included\nWarning: 'KL12' , production batch 7 is not included\n'KL13' production batch 1 included\n'KL13' production batch 2 included\n'KL13' production batch 3 included\n'KL13' production batch 4 included\n'KL13' production batch 5 included\n'KL13' production batch 6 included\nWarning: 'KL13' , production batch 7 is not included\n'KL14' production batch 1 included\n'KL14' production batch 2 included\n'KL14' production batch 3 included\n'KL14' production batch 4 included\n'KL14' production batch 5 included\n'KL14' production batch 6 included\nWarning: 'KL14' , production batch 7 is not included\n'KL15' production batch 1 included\n'KL15' production batch 2 included\n'KL15' production batch 3 included\n'KL15' production batch 4 included\n'KL15' production batch 5 included\n'KL15' production batch 6 included\nWarning: 'KL15' , production batch 7 is not included\n'KL16' production batch 1 included\n'KL16' production batch 2 included\n'KL16' production batch 3 included\n'KL16' production batch 4 included\n'KL16' production batch 5 included\n'KL16' production batch 6 included\nWarning: 'KL16' , production batch 7 is not included\n'KL17' production batch 1 included\n'KL17' production batch 2 included\n'KL17' production batch 3 included\n'KL17' production batch 4 included\n'KL17' production batch 5 included\n'KL17' production batch 6 included\nWarning: 'KL17' , production batch 7 is not included\n'KL18' production batch 1 included\n'KL18' production batch 2 included\n'KL18' production batch 3 included\n'KL18' production batch 4 included\n'KL18' production batch 5 included\n'KL18' production batch 6 included\nWarning: 'KL18' , production batch 7 is not included\n'KL19' production batch 1 included\n'KL19' production batch 2 included\n'KL19' production batch 3 included\n'KL19' production batch 4 included\n'KL19' production batch 5 included\n'KL19' production batch 6 included\nWarning: 'KL19' , production batch 7 is not included\n'KL20' production batch 1 included\n'KL20' production batch 2 included\n'KL20' production batch 3 included\n'KL20' production batch 4 included\n'KL20' production batch 5 included\nWarning: 'KL20' , production batch 6 is not included\nWarning: 'KL20' , production batch 7 is not included\n"
     ]
    }
   ],
   "source": [
    "for KL in data:\n",
    "    df_new = df.loc[df['Kitting Line'] == KL] # df_new is the sliced raw data of \"Kitting Line(KL) Name\"\n",
    "    # 1.(after dropping duplicates) for every kitting line it has to contain batch code [1:7]\n",
    "    i = pd.Categorical(df_new['Production Batch'])\n",
    "    for j in range (1,8):\n",
    "        if j not in i.categories:\n",
    "            print(\"Warning: %r , production batch %s is not included\" %(KL,j))\n",
    "        else:\n",
    "            print(\"%r production batch %s included\" %(KL,j))"
   ]
  },
  {
   "cell_type": "code",
   "execution_count": 12,
   "metadata": {},
   "outputs": [
    {
     "output_type": "execute_result",
     "data": {
      "text/plain": [
       "                    Barcode  Production Batch Recipe and P Timestamp  \\\n",
       "56         Production Start               NaN          NaN  06:11:33   \n",
       "57         New Recipe Start               NaN          NaN  06:11:41   \n",
       "58  808A4$$$$$$$$0001002001               8.0           A4  06:15:13   \n",
       "59              Break Start               NaN          NaN  06:17:28   \n",
       "60                Break End               NaN          NaN  06:18:48   \n",
       "\n",
       "         Date      Seq Code  Week            Team Leader Replenisher  \\\n",
       "56 2021-02-18           NaN   NaN  iXUsr_Strzeletz(6101)         NaN   \n",
       "57 2021-02-18           NaN   NaN  iXUsr_Strzeletz(6101)         NaN   \n",
       "58 2021-02-18  0001 of 0020   8.0  iXUsr_Strzeletz(6101)         NaN   \n",
       "59 2021-02-18           NaN   NaN  iXUsr_Strzeletz(6101)         NaN   \n",
       "60 2021-02-18           NaN   NaN  iXUsr_Strzeletz(6101)         NaN   \n",
       "\n",
       "                                              Pickers     Break Reasons  \\\n",
       "56  iXUsr_Napia(9234)iXUsr_Li(6826)iXUsr_Escalona(...               NaN   \n",
       "57  iXUsr_Napia(9234)iXUsr_Li(6826)iXUsr_Escalona(...               NaN   \n",
       "58  iXUsr_Napia(9234)iXUsr_Li(6826)iXUsr_Escalona(...               NaN   \n",
       "59  iXUsr_Napia(9234)iXUsr_Li(6826)iXUsr_Escalona(...  missing products   \n",
       "60  iXUsr_Napia(9234)iXUsr_Li(6826)iXUsr_Escalona(...               NaN   \n",
       "\n",
       "   Missing Products Kitting Line  Timestamp and Date  \n",
       "56              NaN          KL1 2021-02-18 06:11:33  \n",
       "57              NaN          KL1 2021-02-18 06:11:41  \n",
       "58              NaN          KL1 2021-02-18 06:15:13  \n",
       "59        Mint, 10g          KL1 2021-02-18 06:17:28  \n",
       "60              NaN          KL1 2021-02-18 06:18:48  "
      ],
      "text/html": "<div>\n<style scoped>\n    .dataframe tbody tr th:only-of-type {\n        vertical-align: middle;\n    }\n\n    .dataframe tbody tr th {\n        vertical-align: top;\n    }\n\n    .dataframe thead th {\n        text-align: right;\n    }\n</style>\n<table border=\"1\" class=\"dataframe\">\n  <thead>\n    <tr style=\"text-align: right;\">\n      <th></th>\n      <th>Barcode</th>\n      <th>Production Batch</th>\n      <th>Recipe and P</th>\n      <th>Timestamp</th>\n      <th>Date</th>\n      <th>Seq Code</th>\n      <th>Week</th>\n      <th>Team Leader</th>\n      <th>Replenisher</th>\n      <th>Pickers</th>\n      <th>Break Reasons</th>\n      <th>Missing Products</th>\n      <th>Kitting Line</th>\n      <th>Timestamp and Date</th>\n    </tr>\n  </thead>\n  <tbody>\n    <tr>\n      <th>56</th>\n      <td>Production Start</td>\n      <td>NaN</td>\n      <td>NaN</td>\n      <td>06:11:33</td>\n      <td>2021-02-18</td>\n      <td>NaN</td>\n      <td>NaN</td>\n      <td>iXUsr_Strzeletz(6101)</td>\n      <td>NaN</td>\n      <td>iXUsr_Napia(9234)iXUsr_Li(6826)iXUsr_Escalona(...</td>\n      <td>NaN</td>\n      <td>NaN</td>\n      <td>KL1</td>\n      <td>2021-02-18 06:11:33</td>\n    </tr>\n    <tr>\n      <th>57</th>\n      <td>New Recipe Start</td>\n      <td>NaN</td>\n      <td>NaN</td>\n      <td>06:11:41</td>\n      <td>2021-02-18</td>\n      <td>NaN</td>\n      <td>NaN</td>\n      <td>iXUsr_Strzeletz(6101)</td>\n      <td>NaN</td>\n      <td>iXUsr_Napia(9234)iXUsr_Li(6826)iXUsr_Escalona(...</td>\n      <td>NaN</td>\n      <td>NaN</td>\n      <td>KL1</td>\n      <td>2021-02-18 06:11:41</td>\n    </tr>\n    <tr>\n      <th>58</th>\n      <td>808A4$$$$$$$$0001002001</td>\n      <td>8.0</td>\n      <td>A4</td>\n      <td>06:15:13</td>\n      <td>2021-02-18</td>\n      <td>0001 of 0020</td>\n      <td>8.0</td>\n      <td>iXUsr_Strzeletz(6101)</td>\n      <td>NaN</td>\n      <td>iXUsr_Napia(9234)iXUsr_Li(6826)iXUsr_Escalona(...</td>\n      <td>NaN</td>\n      <td>NaN</td>\n      <td>KL1</td>\n      <td>2021-02-18 06:15:13</td>\n    </tr>\n    <tr>\n      <th>59</th>\n      <td>Break Start</td>\n      <td>NaN</td>\n      <td>NaN</td>\n      <td>06:17:28</td>\n      <td>2021-02-18</td>\n      <td>NaN</td>\n      <td>NaN</td>\n      <td>iXUsr_Strzeletz(6101)</td>\n      <td>NaN</td>\n      <td>iXUsr_Napia(9234)iXUsr_Li(6826)iXUsr_Escalona(...</td>\n      <td>missing products</td>\n      <td>Mint, 10g</td>\n      <td>KL1</td>\n      <td>2021-02-18 06:17:28</td>\n    </tr>\n    <tr>\n      <th>60</th>\n      <td>Break End</td>\n      <td>NaN</td>\n      <td>NaN</td>\n      <td>06:18:48</td>\n      <td>2021-02-18</td>\n      <td>NaN</td>\n      <td>NaN</td>\n      <td>iXUsr_Strzeletz(6101)</td>\n      <td>NaN</td>\n      <td>iXUsr_Napia(9234)iXUsr_Li(6826)iXUsr_Escalona(...</td>\n      <td>NaN</td>\n      <td>NaN</td>\n      <td>KL1</td>\n      <td>2021-02-18 06:18:48</td>\n    </tr>\n  </tbody>\n</table>\n</div>"
     },
     "metadata": {},
     "execution_count": 12
    }
   ],
   "source": [
    "df.head()"
   ]
  },
  {
   "cell_type": "code",
   "execution_count": 13,
   "metadata": {},
   "outputs": [],
   "source": [
    "df.to_csv(r'C:\\Users\\Peiran Quan\\Desktop\\python_data_preparation\\staged.csv',index=False)"
   ]
  }
 ],
 "metadata": {
  "kernelspec": {
   "name": "Python 3.8.6 64-bit ('PythonStatistics': pipenv)",
   "display_name": "Python 3.8.6 64-bit ('PythonStatistics': pipenv)",
   "metadata": {
    "interpreter": {
     "hash": "d480ddc8238e40dbb5d94e64b0d91a2aef341716c181c1b2b5d5721874f29a7e"
    }
   }
  },
  "language_info": {
   "codemirror_mode": {
    "name": "ipython",
    "version": 3
   },
   "file_extension": ".py",
   "mimetype": "text/x-python",
   "name": "python",
   "nbconvert_exporter": "python",
   "pygments_lexer": "ipython3",
   "version": "3.8.6-final"
  }
 },
 "nbformat": 4,
 "nbformat_minor": 4
}