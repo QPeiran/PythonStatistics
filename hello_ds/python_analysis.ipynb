{
 "cells": [
  {
   "cell_type": "code",
   "execution_count": 1,
   "metadata": {},
   "outputs": [],
   "source": [
    "import pandas as pd\n",
    "import numpy as np\n",
    "import seaborn as sb"
   ]
  },
  {
   "cell_type": "code",
   "execution_count": 2,
   "metadata": {},
   "outputs": [
    {
     "output_type": "execute_result",
     "data": {
      "text/plain": "       A  B\n0    one  0\n1    one  1\n2    two  2\n3  three  3\n4  three  4\n5    one  5",
      "text/html": "<div>\n<style scoped>\n    .dataframe tbody tr th:only-of-type {\n        vertical-align: middle;\n    }\n\n    .dataframe tbody tr th {\n        vertical-align: top;\n    }\n\n    .dataframe thead th {\n        text-align: right;\n    }\n</style>\n<table border=\"1\" class=\"dataframe\">\n  <thead>\n    <tr style=\"text-align: right;\">\n      <th></th>\n      <th>A</th>\n      <th>B</th>\n    </tr>\n  </thead>\n  <tbody>\n    <tr>\n      <td>0</td>\n      <td>one</td>\n      <td>0</td>\n    </tr>\n    <tr>\n      <td>1</td>\n      <td>one</td>\n      <td>1</td>\n    </tr>\n    <tr>\n      <td>2</td>\n      <td>two</td>\n      <td>2</td>\n    </tr>\n    <tr>\n      <td>3</td>\n      <td>three</td>\n      <td>3</td>\n    </tr>\n    <tr>\n      <td>4</td>\n      <td>three</td>\n      <td>4</td>\n    </tr>\n    <tr>\n      <td>5</td>\n      <td>one</td>\n      <td>5</td>\n    </tr>\n  </tbody>\n</table>\n</div>"
     },
     "metadata": {},
     "execution_count": 2
    }
   ],
   "source": [
    "df = pd.DataFrame({'A': ['one', 'one', 'two', 'three', 'three', 'one'], 'B': range(6)})\n",
    "df"
   ]
  },
  {
   "cell_type": "code",
   "execution_count": 3,
   "metadata": {},
   "outputs": [
    {
     "output_type": "stream",
     "name": "stdout",
     "text": "A  B\n0  one  0\n1  one  1\n5  one  5\n       A  B\n3  three  3\n4  three  4\n     A  B\n2  two  2\n"
    },
    {
     "output_type": "execute_result",
     "data": {
      "text/plain": "Empty DataFrame\nColumns: []\nIndex: []",
      "text/html": "<div>\n<style scoped>\n    .dataframe tbody tr th:only-of-type {\n        vertical-align: middle;\n    }\n\n    .dataframe tbody tr th {\n        vertical-align: top;\n    }\n\n    .dataframe thead th {\n        text-align: right;\n    }\n</style>\n<table border=\"1\" class=\"dataframe\">\n  <thead>\n    <tr style=\"text-align: right;\">\n      <th></th>\n    </tr>\n  </thead>\n  <tbody>\n  </tbody>\n</table>\n</div>"
     },
     "metadata": {},
     "execution_count": 3
    }
   ],
   "source": [
    "df.groupby('A').apply(print)"
   ]
  },
  {
   "cell_type": "code",
   "execution_count": 4,
   "metadata": {},
   "outputs": [],
   "source": [
    "df1 = pd.DataFrame({'lkey': ['foo', 'bar', 'baz', 'foo'],\n",
    "                    'value': [1, 2, 3, 5]})\n",
    "df2 = pd.DataFrame({'rkey': ['foo', 'bar', 'baz', 'foo'],\n",
    "                    'value': [5, 6, 7, 8]})"
   ]
  },
  {
   "cell_type": "code",
   "execution_count": 5,
   "metadata": {},
   "outputs": [
    {
     "output_type": "execute_result",
     "data": {
      "text/plain": "  lkey  value\n0  foo      1\n1  bar      2\n2  baz      3\n3  foo      5",
      "text/html": "<div>\n<style scoped>\n    .dataframe tbody tr th:only-of-type {\n        vertical-align: middle;\n    }\n\n    .dataframe tbody tr th {\n        vertical-align: top;\n    }\n\n    .dataframe thead th {\n        text-align: right;\n    }\n</style>\n<table border=\"1\" class=\"dataframe\">\n  <thead>\n    <tr style=\"text-align: right;\">\n      <th></th>\n      <th>lkey</th>\n      <th>value</th>\n    </tr>\n  </thead>\n  <tbody>\n    <tr>\n      <td>0</td>\n      <td>foo</td>\n      <td>1</td>\n    </tr>\n    <tr>\n      <td>1</td>\n      <td>bar</td>\n      <td>2</td>\n    </tr>\n    <tr>\n      <td>2</td>\n      <td>baz</td>\n      <td>3</td>\n    </tr>\n    <tr>\n      <td>3</td>\n      <td>foo</td>\n      <td>5</td>\n    </tr>\n  </tbody>\n</table>\n</div>"
     },
     "metadata": {},
     "execution_count": 5
    }
   ],
   "source": [
    "df1"
   ]
  },
  {
   "cell_type": "code",
   "execution_count": 6,
   "metadata": {},
   "outputs": [
    {
     "output_type": "execute_result",
     "data": {
      "text/plain": "  rkey  value\n0  foo      5\n1  bar      6\n2  baz      7\n3  foo      8",
      "text/html": "<div>\n<style scoped>\n    .dataframe tbody tr th:only-of-type {\n        vertical-align: middle;\n    }\n\n    .dataframe tbody tr th {\n        vertical-align: top;\n    }\n\n    .dataframe thead th {\n        text-align: right;\n    }\n</style>\n<table border=\"1\" class=\"dataframe\">\n  <thead>\n    <tr style=\"text-align: right;\">\n      <th></th>\n      <th>rkey</th>\n      <th>value</th>\n    </tr>\n  </thead>\n  <tbody>\n    <tr>\n      <td>0</td>\n      <td>foo</td>\n      <td>5</td>\n    </tr>\n    <tr>\n      <td>1</td>\n      <td>bar</td>\n      <td>6</td>\n    </tr>\n    <tr>\n      <td>2</td>\n      <td>baz</td>\n      <td>7</td>\n    </tr>\n    <tr>\n      <td>3</td>\n      <td>foo</td>\n      <td>8</td>\n    </tr>\n  </tbody>\n</table>\n</div>"
     },
     "metadata": {},
     "execution_count": 6
    }
   ],
   "source": [
    "df2"
   ]
  },
  {
   "cell_type": "code",
   "execution_count": 7,
   "metadata": {},
   "outputs": [
    {
     "output_type": "execute_result",
     "data": {
      "text/plain": "  lkey  value_x rkey  value_y\n0  foo        1  foo        5\n1  foo        1  foo        8\n2  foo        5  foo        5\n3  foo        5  foo        8\n4  bar        2  bar        6\n5  baz        3  baz        7",
      "text/html": "<div>\n<style scoped>\n    .dataframe tbody tr th:only-of-type {\n        vertical-align: middle;\n    }\n\n    .dataframe tbody tr th {\n        vertical-align: top;\n    }\n\n    .dataframe thead th {\n        text-align: right;\n    }\n</style>\n<table border=\"1\" class=\"dataframe\">\n  <thead>\n    <tr style=\"text-align: right;\">\n      <th></th>\n      <th>lkey</th>\n      <th>value_x</th>\n      <th>rkey</th>\n      <th>value_y</th>\n    </tr>\n  </thead>\n  <tbody>\n    <tr>\n      <td>0</td>\n      <td>foo</td>\n      <td>1</td>\n      <td>foo</td>\n      <td>5</td>\n    </tr>\n    <tr>\n      <td>1</td>\n      <td>foo</td>\n      <td>1</td>\n      <td>foo</td>\n      <td>8</td>\n    </tr>\n    <tr>\n      <td>2</td>\n      <td>foo</td>\n      <td>5</td>\n      <td>foo</td>\n      <td>5</td>\n    </tr>\n    <tr>\n      <td>3</td>\n      <td>foo</td>\n      <td>5</td>\n      <td>foo</td>\n      <td>8</td>\n    </tr>\n    <tr>\n      <td>4</td>\n      <td>bar</td>\n      <td>2</td>\n      <td>bar</td>\n      <td>6</td>\n    </tr>\n    <tr>\n      <td>5</td>\n      <td>baz</td>\n      <td>3</td>\n      <td>baz</td>\n      <td>7</td>\n    </tr>\n  </tbody>\n</table>\n</div>"
     },
     "metadata": {},
     "execution_count": 7
    }
   ],
   "source": [
    "df1.merge(df2, left_on='lkey', right_on='rkey')"
   ]
  },
  {
   "cell_type": "code",
   "execution_count": 8,
   "metadata": {},
   "outputs": [
    {
     "output_type": "execute_result",
     "data": {
      "text/plain": "  lkey  value rkey\n0  foo      5  foo",
      "text/html": "<div>\n<style scoped>\n    .dataframe tbody tr th:only-of-type {\n        vertical-align: middle;\n    }\n\n    .dataframe tbody tr th {\n        vertical-align: top;\n    }\n\n    .dataframe thead th {\n        text-align: right;\n    }\n</style>\n<table border=\"1\" class=\"dataframe\">\n  <thead>\n    <tr style=\"text-align: right;\">\n      <th></th>\n      <th>lkey</th>\n      <th>value</th>\n      <th>rkey</th>\n    </tr>\n  </thead>\n  <tbody>\n    <tr>\n      <td>0</td>\n      <td>foo</td>\n      <td>5</td>\n      <td>foo</td>\n    </tr>\n  </tbody>\n</table>\n</div>"
     },
     "metadata": {},
     "execution_count": 8
    }
   ],
   "source": [
    "df1.merge(df2, how = 'inner', on = \"value\")"
   ]
  },
  {
   "cell_type": "code",
   "execution_count": 9,
   "metadata": {},
   "outputs": [
    {
     "output_type": "execute_result",
     "data": {
      "text/plain": "  lkey  value rkey\n0  foo      1  NaN\n1  bar      2  NaN\n2  baz      3  NaN\n3  foo      5  foo",
      "text/html": "<div>\n<style scoped>\n    .dataframe tbody tr th:only-of-type {\n        vertical-align: middle;\n    }\n\n    .dataframe tbody tr th {\n        vertical-align: top;\n    }\n\n    .dataframe thead th {\n        text-align: right;\n    }\n</style>\n<table border=\"1\" class=\"dataframe\">\n  <thead>\n    <tr style=\"text-align: right;\">\n      <th></th>\n      <th>lkey</th>\n      <th>value</th>\n      <th>rkey</th>\n    </tr>\n  </thead>\n  <tbody>\n    <tr>\n      <td>0</td>\n      <td>foo</td>\n      <td>1</td>\n      <td>NaN</td>\n    </tr>\n    <tr>\n      <td>1</td>\n      <td>bar</td>\n      <td>2</td>\n      <td>NaN</td>\n    </tr>\n    <tr>\n      <td>2</td>\n      <td>baz</td>\n      <td>3</td>\n      <td>NaN</td>\n    </tr>\n    <tr>\n      <td>3</td>\n      <td>foo</td>\n      <td>5</td>\n      <td>foo</td>\n    </tr>\n  </tbody>\n</table>\n</div>"
     },
     "metadata": {},
     "execution_count": 9
    }
   ],
   "source": [
    "df1.merge(df2, how = 'left', on = \"value\")\n"
   ]
  },
  {
   "cell_type": "code",
   "execution_count": 10,
   "metadata": {},
   "outputs": [
    {
     "output_type": "execute_result",
     "data": {
      "text/plain": "  lkey  value rkey\n0  foo      1  NaN\n1  bar      2  NaN\n2  baz      3  NaN\n3  foo      5  foo\n4  NaN      6  bar\n5  NaN      7  baz\n6  NaN      8  foo",
      "text/html": "<div>\n<style scoped>\n    .dataframe tbody tr th:only-of-type {\n        vertical-align: middle;\n    }\n\n    .dataframe tbody tr th {\n        vertical-align: top;\n    }\n\n    .dataframe thead th {\n        text-align: right;\n    }\n</style>\n<table border=\"1\" class=\"dataframe\">\n  <thead>\n    <tr style=\"text-align: right;\">\n      <th></th>\n      <th>lkey</th>\n      <th>value</th>\n      <th>rkey</th>\n    </tr>\n  </thead>\n  <tbody>\n    <tr>\n      <td>0</td>\n      <td>foo</td>\n      <td>1</td>\n      <td>NaN</td>\n    </tr>\n    <tr>\n      <td>1</td>\n      <td>bar</td>\n      <td>2</td>\n      <td>NaN</td>\n    </tr>\n    <tr>\n      <td>2</td>\n      <td>baz</td>\n      <td>3</td>\n      <td>NaN</td>\n    </tr>\n    <tr>\n      <td>3</td>\n      <td>foo</td>\n      <td>5</td>\n      <td>foo</td>\n    </tr>\n    <tr>\n      <td>4</td>\n      <td>NaN</td>\n      <td>6</td>\n      <td>bar</td>\n    </tr>\n    <tr>\n      <td>5</td>\n      <td>NaN</td>\n      <td>7</td>\n      <td>baz</td>\n    </tr>\n    <tr>\n      <td>6</td>\n      <td>NaN</td>\n      <td>8</td>\n      <td>foo</td>\n    </tr>\n  </tbody>\n</table>\n</div>"
     },
     "metadata": {},
     "execution_count": 10
    }
   ],
   "source": [
    "df1.merge(df2, how = 'outer')"
   ]
  },
  {
   "cell_type": "code",
   "execution_count": 11,
   "metadata": {},
   "outputs": [
    {
     "output_type": "execute_result",
     "data": {
      "text/plain": "datetime.date(2009, 9, 1)"
     },
     "metadata": {},
     "execution_count": 11
    }
   ],
   "source": [
    "datetime = pd.to_datetime('20090901 10:20:30', format='%Y%m%d %H:%M:%S', errors='ignore')\n",
    "datetime.date()"
   ]
  },
  {
   "cell_type": "code",
   "execution_count": 12,
   "metadata": {},
   "outputs": [
    {
     "output_type": "execute_result",
     "data": {
      "text/plain": "DatetimeIndex(['2009-09-01 10:20:30', '2009-09-01 10:21:30',\n               '2009-09-01 10:22:30', '2009-09-01 10:23:30',\n               '2009-09-01 10:24:30', '2009-09-01 10:25:30',\n               '2009-09-01 10:26:30', '2009-09-01 10:27:30',\n               '2009-09-01 10:28:30', '2009-09-01 10:29:30',\n               '2009-09-01 10:30:30', '2009-09-01 10:31:30',\n               '2009-09-01 10:32:30', '2009-09-01 10:33:30',\n               '2009-09-01 10:34:30', '2009-09-01 10:35:30',\n               '2009-09-01 10:36:30', '2009-09-01 10:37:30',\n               '2009-09-01 10:38:30', '2009-09-01 10:39:30',\n               '2009-09-01 10:40:30', '2009-09-01 10:41:30',\n               '2009-09-01 10:42:30', '2009-09-01 10:43:30',\n               '2009-09-01 10:44:30', '2009-09-01 10:45:30',\n               '2009-09-01 10:46:30', '2009-09-01 10:47:30',\n               '2009-09-01 10:48:30', '2009-09-01 10:49:30',\n               '2009-09-01 10:50:30', '2009-09-01 10:51:30',\n               '2009-09-01 10:52:30', '2009-09-01 10:53:30',\n               '2009-09-01 10:54:30', '2009-09-01 10:55:30',\n               '2009-09-01 10:56:30', '2009-09-01 10:57:30',\n               '2009-09-01 10:58:30', '2009-09-01 10:59:30',\n               '2009-09-01 11:00:30', '2009-09-01 11:01:30',\n               '2009-09-01 11:02:30', '2009-09-01 11:03:30',\n               '2009-09-01 11:04:30', '2009-09-01 11:05:30',\n               '2009-09-01 11:06:30', '2009-09-01 11:07:30',\n               '2009-09-01 11:08:30', '2009-09-01 11:09:30',\n               '2009-09-01 11:10:30', '2009-09-01 11:11:30',\n               '2009-09-01 11:12:30', '2009-09-01 11:13:30',\n               '2009-09-01 11:14:30', '2009-09-01 11:15:30',\n               '2009-09-01 11:16:30', '2009-09-01 11:17:30',\n               '2009-09-01 11:18:30', '2009-09-01 11:19:30'],\n              dtype='datetime64[ns]', freq='T')"
     },
     "metadata": {},
     "execution_count": 12
    }
   ],
   "source": [
    "times = pd.date_range(datetime, periods=60, freq='min')\n",
    "times"
   ]
  },
  {
   "cell_type": "code",
   "execution_count": 13,
   "metadata": {},
   "outputs": [
    {
     "output_type": "execute_result",
     "data": {
      "text/plain": "0    2009-09-01 10:20:30\n1    2009-09-01 10:21:30\n2    2009-09-01 10:22:30\n3    2009-09-01 10:23:30\n4    2009-09-01 10:24:30\n5    2009-09-01 10:25:30\n6    2009-09-01 10:26:30\n7    2009-09-01 10:27:30\n8    2009-09-01 10:28:30\n9    2009-09-01 10:29:30\n10   2009-09-01 10:30:30\n11   2009-09-01 10:31:30\n12   2009-09-01 10:32:30\n13   2009-09-01 10:33:30\n14   2009-09-01 10:34:30\n15   2009-09-01 10:35:30\n16   2009-09-01 10:36:30\n17   2009-09-01 10:37:30\n18   2009-09-01 10:38:30\n19   2009-09-01 10:39:30\n20   2009-09-01 10:40:30\n21   2009-09-01 10:41:30\n22   2009-09-01 10:42:30\n23   2009-09-01 10:43:30\n24   2009-09-01 10:44:30\n25   2009-09-01 10:45:30\n26   2009-09-01 10:46:30\n27   2009-09-01 10:47:30\n28   2009-09-01 10:48:30\n29   2009-09-01 10:49:30\n30   2009-09-01 10:50:30\n31   2009-09-01 10:51:30\n32   2009-09-01 10:52:30\n33   2009-09-01 10:53:30\n34   2009-09-01 10:54:30\n35   2009-09-01 10:55:30\n36   2009-09-01 10:56:30\n37   2009-09-01 10:57:30\n38   2009-09-01 10:58:30\n39   2009-09-01 10:59:30\n40   2009-09-01 11:00:30\n41   2009-09-01 11:01:30\n42   2009-09-01 11:02:30\n43   2009-09-01 11:03:30\n44   2009-09-01 11:04:30\n45   2009-09-01 11:05:30\n46   2009-09-01 11:06:30\n47   2009-09-01 11:07:30\n48   2009-09-01 11:08:30\n49   2009-09-01 11:09:30\n50   2009-09-01 11:10:30\n51   2009-09-01 11:11:30\n52   2009-09-01 11:12:30\n53   2009-09-01 11:13:30\n54   2009-09-01 11:14:30\n55   2009-09-01 11:15:30\n56   2009-09-01 11:16:30\n57   2009-09-01 11:17:30\n58   2009-09-01 11:18:30\n59   2009-09-01 11:19:30\ndtype: datetime64[ns]"
     },
     "metadata": {},
     "execution_count": 13
    }
   ],
   "source": [
    "ts = pd.Series(data = times)\n",
    "ts"
   ]
  },
  {
   "cell_type": "code",
   "execution_count": 14,
   "metadata": {},
   "outputs": [],
   "source": [
    "count = pd.Series(data = range(len(times)) , index = times)"
   ]
  },
  {
   "cell_type": "code",
   "execution_count": 15,
   "metadata": {},
   "outputs": [
    {
     "output_type": "execute_result",
     "data": {
      "text/plain": "0      0\n1      1\n2      2\n3      3\n4      4\n5      5\n6      6\n7      7\n8      8\n9      9\n10    10\n11    11\n12    12\n13    13\n14    14\n15    15\n16    16\n17    17\n18    18\n19    19\n20    20\n21    21\n22    22\n23    23\n24    24\n25    25\n26    26\n27    27\n28    28\n29    29\n30    30\n31    31\n32    32\n33    33\n34    34\n35    35\n36    36\n37    37\n38    38\n39    39\n40    40\n41    41\n42    42\n43    43\n44    44\n45    45\n46    46\n47    47\n48    48\n49    49\n50    50\n51    51\n52    52\n53    53\n54    54\n55    55\n56    56\n57    57\n58    58\n59    59\ndtype: int64"
     },
     "metadata": {},
     "execution_count": 15
    }
   ],
   "source": [
    "pd.Series(data = range(len(times)))"
   ]
  },
  {
   "cell_type": "code",
   "execution_count": 16,
   "metadata": {},
   "outputs": [
    {
     "output_type": "execute_result",
     "data": {
      "text/plain": "                      0\n2009-09-01 10:20:30   0\n2009-09-01 10:21:30   1\n2009-09-01 10:22:30   2\n2009-09-01 10:23:30   3\n2009-09-01 10:24:30   4\n2009-09-01 10:25:30   5\n2009-09-01 10:26:30   6\n2009-09-01 10:27:30   7\n2009-09-01 10:28:30   8\n2009-09-01 10:29:30   9\n2009-09-01 10:30:30  10\n2009-09-01 10:31:30  11\n2009-09-01 10:32:30  12\n2009-09-01 10:33:30  13\n2009-09-01 10:34:30  14\n2009-09-01 10:35:30  15\n2009-09-01 10:36:30  16\n2009-09-01 10:37:30  17\n2009-09-01 10:38:30  18\n2009-09-01 10:39:30  19\n2009-09-01 10:40:30  20\n2009-09-01 10:41:30  21\n2009-09-01 10:42:30  22\n2009-09-01 10:43:30  23\n2009-09-01 10:44:30  24\n2009-09-01 10:45:30  25\n2009-09-01 10:46:30  26\n2009-09-01 10:47:30  27\n2009-09-01 10:48:30  28\n2009-09-01 10:49:30  29\n2009-09-01 10:50:30  30\n2009-09-01 10:51:30  31\n2009-09-01 10:52:30  32\n2009-09-01 10:53:30  33\n2009-09-01 10:54:30  34\n2009-09-01 10:55:30  35\n2009-09-01 10:56:30  36\n2009-09-01 10:57:30  37\n2009-09-01 10:58:30  38\n2009-09-01 10:59:30  39\n2009-09-01 11:00:30  40\n2009-09-01 11:01:30  41\n2009-09-01 11:02:30  42\n2009-09-01 11:03:30  43\n2009-09-01 11:04:30  44\n2009-09-01 11:05:30  45\n2009-09-01 11:06:30  46\n2009-09-01 11:07:30  47\n2009-09-01 11:08:30  48\n2009-09-01 11:09:30  49\n2009-09-01 11:10:30  50\n2009-09-01 11:11:30  51\n2009-09-01 11:12:30  52\n2009-09-01 11:13:30  53\n2009-09-01 11:14:30  54\n2009-09-01 11:15:30  55\n2009-09-01 11:16:30  56\n2009-09-01 11:17:30  57\n2009-09-01 11:18:30  58\n2009-09-01 11:19:30  59",
      "text/html": "<div>\n<style scoped>\n    .dataframe tbody tr th:only-of-type {\n        vertical-align: middle;\n    }\n\n    .dataframe tbody tr th {\n        vertical-align: top;\n    }\n\n    .dataframe thead th {\n        text-align: right;\n    }\n</style>\n<table border=\"1\" class=\"dataframe\">\n  <thead>\n    <tr style=\"text-align: right;\">\n      <th></th>\n      <th>0</th>\n    </tr>\n  </thead>\n  <tbody>\n    <tr>\n      <td>2009-09-01 10:20:30</td>\n      <td>0</td>\n    </tr>\n    <tr>\n      <td>2009-09-01 10:21:30</td>\n      <td>1</td>\n    </tr>\n    <tr>\n      <td>2009-09-01 10:22:30</td>\n      <td>2</td>\n    </tr>\n    <tr>\n      <td>2009-09-01 10:23:30</td>\n      <td>3</td>\n    </tr>\n    <tr>\n      <td>2009-09-01 10:24:30</td>\n      <td>4</td>\n    </tr>\n    <tr>\n      <td>2009-09-01 10:25:30</td>\n      <td>5</td>\n    </tr>\n    <tr>\n      <td>2009-09-01 10:26:30</td>\n      <td>6</td>\n    </tr>\n    <tr>\n      <td>2009-09-01 10:27:30</td>\n      <td>7</td>\n    </tr>\n    <tr>\n      <td>2009-09-01 10:28:30</td>\n      <td>8</td>\n    </tr>\n    <tr>\n      <td>2009-09-01 10:29:30</td>\n      <td>9</td>\n    </tr>\n    <tr>\n      <td>2009-09-01 10:30:30</td>\n      <td>10</td>\n    </tr>\n    <tr>\n      <td>2009-09-01 10:31:30</td>\n      <td>11</td>\n    </tr>\n    <tr>\n      <td>2009-09-01 10:32:30</td>\n      <td>12</td>\n    </tr>\n    <tr>\n      <td>2009-09-01 10:33:30</td>\n      <td>13</td>\n    </tr>\n    <tr>\n      <td>2009-09-01 10:34:30</td>\n      <td>14</td>\n    </tr>\n    <tr>\n      <td>2009-09-01 10:35:30</td>\n      <td>15</td>\n    </tr>\n    <tr>\n      <td>2009-09-01 10:36:30</td>\n      <td>16</td>\n    </tr>\n    <tr>\n      <td>2009-09-01 10:37:30</td>\n      <td>17</td>\n    </tr>\n    <tr>\n      <td>2009-09-01 10:38:30</td>\n      <td>18</td>\n    </tr>\n    <tr>\n      <td>2009-09-01 10:39:30</td>\n      <td>19</td>\n    </tr>\n    <tr>\n      <td>2009-09-01 10:40:30</td>\n      <td>20</td>\n    </tr>\n    <tr>\n      <td>2009-09-01 10:41:30</td>\n      <td>21</td>\n    </tr>\n    <tr>\n      <td>2009-09-01 10:42:30</td>\n      <td>22</td>\n    </tr>\n    <tr>\n      <td>2009-09-01 10:43:30</td>\n      <td>23</td>\n    </tr>\n    <tr>\n      <td>2009-09-01 10:44:30</td>\n      <td>24</td>\n    </tr>\n    <tr>\n      <td>2009-09-01 10:45:30</td>\n      <td>25</td>\n    </tr>\n    <tr>\n      <td>2009-09-01 10:46:30</td>\n      <td>26</td>\n    </tr>\n    <tr>\n      <td>2009-09-01 10:47:30</td>\n      <td>27</td>\n    </tr>\n    <tr>\n      <td>2009-09-01 10:48:30</td>\n      <td>28</td>\n    </tr>\n    <tr>\n      <td>2009-09-01 10:49:30</td>\n      <td>29</td>\n    </tr>\n    <tr>\n      <td>2009-09-01 10:50:30</td>\n      <td>30</td>\n    </tr>\n    <tr>\n      <td>2009-09-01 10:51:30</td>\n      <td>31</td>\n    </tr>\n    <tr>\n      <td>2009-09-01 10:52:30</td>\n      <td>32</td>\n    </tr>\n    <tr>\n      <td>2009-09-01 10:53:30</td>\n      <td>33</td>\n    </tr>\n    <tr>\n      <td>2009-09-01 10:54:30</td>\n      <td>34</td>\n    </tr>\n    <tr>\n      <td>2009-09-01 10:55:30</td>\n      <td>35</td>\n    </tr>\n    <tr>\n      <td>2009-09-01 10:56:30</td>\n      <td>36</td>\n    </tr>\n    <tr>\n      <td>2009-09-01 10:57:30</td>\n      <td>37</td>\n    </tr>\n    <tr>\n      <td>2009-09-01 10:58:30</td>\n      <td>38</td>\n    </tr>\n    <tr>\n      <td>2009-09-01 10:59:30</td>\n      <td>39</td>\n    </tr>\n    <tr>\n      <td>2009-09-01 11:00:30</td>\n      <td>40</td>\n    </tr>\n    <tr>\n      <td>2009-09-01 11:01:30</td>\n      <td>41</td>\n    </tr>\n    <tr>\n      <td>2009-09-01 11:02:30</td>\n      <td>42</td>\n    </tr>\n    <tr>\n      <td>2009-09-01 11:03:30</td>\n      <td>43</td>\n    </tr>\n    <tr>\n      <td>2009-09-01 11:04:30</td>\n      <td>44</td>\n    </tr>\n    <tr>\n      <td>2009-09-01 11:05:30</td>\n      <td>45</td>\n    </tr>\n    <tr>\n      <td>2009-09-01 11:06:30</td>\n      <td>46</td>\n    </tr>\n    <tr>\n      <td>2009-09-01 11:07:30</td>\n      <td>47</td>\n    </tr>\n    <tr>\n      <td>2009-09-01 11:08:30</td>\n      <td>48</td>\n    </tr>\n    <tr>\n      <td>2009-09-01 11:09:30</td>\n      <td>49</td>\n    </tr>\n    <tr>\n      <td>2009-09-01 11:10:30</td>\n      <td>50</td>\n    </tr>\n    <tr>\n      <td>2009-09-01 11:11:30</td>\n      <td>51</td>\n    </tr>\n    <tr>\n      <td>2009-09-01 11:12:30</td>\n      <td>52</td>\n    </tr>\n    <tr>\n      <td>2009-09-01 11:13:30</td>\n      <td>53</td>\n    </tr>\n    <tr>\n      <td>2009-09-01 11:14:30</td>\n      <td>54</td>\n    </tr>\n    <tr>\n      <td>2009-09-01 11:15:30</td>\n      <td>55</td>\n    </tr>\n    <tr>\n      <td>2009-09-01 11:16:30</td>\n      <td>56</td>\n    </tr>\n    <tr>\n      <td>2009-09-01 11:17:30</td>\n      <td>57</td>\n    </tr>\n    <tr>\n      <td>2009-09-01 11:18:30</td>\n      <td>58</td>\n    </tr>\n    <tr>\n      <td>2009-09-01 11:19:30</td>\n      <td>59</td>\n    </tr>\n  </tbody>\n</table>\n</div>"
     },
     "metadata": {},
     "execution_count": 16
    }
   ],
   "source": [
    "pd.DataFrame(data=count, index=ts)"
   ]
  },
  {
   "cell_type": "code",
   "execution_count": 17,
   "metadata": {},
   "outputs": [],
   "source": [
    "rev = pd.Series(data = range(len(times))).iloc[::-1]"
   ]
  },
  {
   "cell_type": "code",
   "execution_count": 20,
   "metadata": {},
   "outputs": [],
   "source": [
    "df = pd.DataFrame(data=dict(count = count, rev_count = rev.index), index=ts)"
   ]
  },
  {
   "cell_type": "code",
   "execution_count": 21,
   "metadata": {},
   "outputs": [
    {
     "output_type": "execute_result",
     "data": {
      "text/plain": "                     count  rev_count\n2009-09-01 10:20:30      0         59\n2009-09-01 10:21:30      1         58\n2009-09-01 10:22:30      2         57\n2009-09-01 10:23:30      3         56\n2009-09-01 10:24:30      4         55",
      "text/html": "<div>\n<style scoped>\n    .dataframe tbody tr th:only-of-type {\n        vertical-align: middle;\n    }\n\n    .dataframe tbody tr th {\n        vertical-align: top;\n    }\n\n    .dataframe thead th {\n        text-align: right;\n    }\n</style>\n<table border=\"1\" class=\"dataframe\">\n  <thead>\n    <tr style=\"text-align: right;\">\n      <th></th>\n      <th>count</th>\n      <th>rev_count</th>\n    </tr>\n  </thead>\n  <tbody>\n    <tr>\n      <td>2009-09-01 10:20:30</td>\n      <td>0</td>\n      <td>59</td>\n    </tr>\n    <tr>\n      <td>2009-09-01 10:21:30</td>\n      <td>1</td>\n      <td>58</td>\n    </tr>\n    <tr>\n      <td>2009-09-01 10:22:30</td>\n      <td>2</td>\n      <td>57</td>\n    </tr>\n    <tr>\n      <td>2009-09-01 10:23:30</td>\n      <td>3</td>\n      <td>56</td>\n    </tr>\n    <tr>\n      <td>2009-09-01 10:24:30</td>\n      <td>4</td>\n      <td>55</td>\n    </tr>\n  </tbody>\n</table>\n</div>"
     },
     "metadata": {},
     "execution_count": 21
    }
   ],
   "source": [
    "df.head()"
   ]
  },
  {
   "cell_type": "code",
   "execution_count": 30,
   "metadata": {},
   "outputs": [
    {
     "output_type": "execute_result",
     "data": {
      "text/plain": "                     count  rev_count\n2009-09-01 10:20:00      2         57\n2009-09-01 10:25:00      7         52\n2009-09-01 10:30:00     12         47\n2009-09-01 10:35:00     17         42\n2009-09-01 10:40:00     22         37\n2009-09-01 10:45:00     27         32\n2009-09-01 10:50:00     32         27\n2009-09-01 10:55:00     37         22\n2009-09-01 11:00:00     42         17\n2009-09-01 11:05:00     47         12\n2009-09-01 11:10:00     52          7\n2009-09-01 11:15:00     57          2",
      "text/html": "<div>\n<style scoped>\n    .dataframe tbody tr th:only-of-type {\n        vertical-align: middle;\n    }\n\n    .dataframe tbody tr th {\n        vertical-align: top;\n    }\n\n    .dataframe thead th {\n        text-align: right;\n    }\n</style>\n<table border=\"1\" class=\"dataframe\">\n  <thead>\n    <tr style=\"text-align: right;\">\n      <th></th>\n      <th>count</th>\n      <th>rev_count</th>\n    </tr>\n  </thead>\n  <tbody>\n    <tr>\n      <td>2009-09-01 10:20:00</td>\n      <td>2</td>\n      <td>57</td>\n    </tr>\n    <tr>\n      <td>2009-09-01 10:25:00</td>\n      <td>7</td>\n      <td>52</td>\n    </tr>\n    <tr>\n      <td>2009-09-01 10:30:00</td>\n      <td>12</td>\n      <td>47</td>\n    </tr>\n    <tr>\n      <td>2009-09-01 10:35:00</td>\n      <td>17</td>\n      <td>42</td>\n    </tr>\n    <tr>\n      <td>2009-09-01 10:40:00</td>\n      <td>22</td>\n      <td>37</td>\n    </tr>\n    <tr>\n      <td>2009-09-01 10:45:00</td>\n      <td>27</td>\n      <td>32</td>\n    </tr>\n    <tr>\n      <td>2009-09-01 10:50:00</td>\n      <td>32</td>\n      <td>27</td>\n    </tr>\n    <tr>\n      <td>2009-09-01 10:55:00</td>\n      <td>37</td>\n      <td>22</td>\n    </tr>\n    <tr>\n      <td>2009-09-01 11:00:00</td>\n      <td>42</td>\n      <td>17</td>\n    </tr>\n    <tr>\n      <td>2009-09-01 11:05:00</td>\n      <td>47</td>\n      <td>12</td>\n    </tr>\n    <tr>\n      <td>2009-09-01 11:10:00</td>\n      <td>52</td>\n      <td>7</td>\n    </tr>\n    <tr>\n      <td>2009-09-01 11:15:00</td>\n      <td>57</td>\n      <td>2</td>\n    </tr>\n  </tbody>\n</table>\n</div>"
     },
     "metadata": {},
     "execution_count": 30
    }
   ],
   "source": [
    "df.resample('5T').mean()"
   ]
  },
  {
   "cell_type": "code",
   "execution_count": 37,
   "metadata": {},
   "outputs": [
    {
     "output_type": "execute_result",
     "data": {
      "text/plain": "         count  rev_count\nstd  17.464249  17.464249",
      "text/html": "<div>\n<style scoped>\n    .dataframe tbody tr th:only-of-type {\n        vertical-align: middle;\n    }\n\n    .dataframe tbody tr th {\n        vertical-align: top;\n    }\n\n    .dataframe thead th {\n        text-align: right;\n    }\n</style>\n<table border=\"1\" class=\"dataframe\">\n  <thead>\n    <tr style=\"text-align: right;\">\n      <th></th>\n      <th>count</th>\n      <th>rev_count</th>\n    </tr>\n  </thead>\n  <tbody>\n    <tr>\n      <td>std</td>\n      <td>17.464249</td>\n      <td>17.464249</td>\n    </tr>\n  </tbody>\n</table>\n</div>"
     },
     "metadata": {},
     "execution_count": 37
    }
   ],
   "source": [
    "df.aggregate(['std'])"
   ]
  },
  {
   "cell_type": "code",
   "execution_count": 40,
   "metadata": {},
   "outputs": [
    {
     "output_type": "execute_result",
     "data": {
      "text/plain": "pandas._libs.tslibs.timestamps.Timestamp"
     },
     "metadata": {},
     "execution_count": 40
    }
   ],
   "source": [
    "type(df.index[0])"
   ]
  },
  {
   "cell_type": "code",
   "execution_count": 48,
   "metadata": {},
   "outputs": [
    {
     "output_type": "execute_result",
     "data": {
      "text/plain": "pandas.core.indexes.datetimes.DatetimeIndex"
     },
     "metadata": {},
     "execution_count": 48
    }
   ],
   "source": [
    "type(df.index)"
   ]
  },
  {
   "cell_type": "code",
   "execution_count": 50,
   "metadata": {},
   "outputs": [
    {
     "output_type": "execute_result",
     "data": {
      "text/plain": "pandas._libs.tslibs.period.Period"
     },
     "metadata": {},
     "execution_count": 50
    }
   ],
   "source": [
    "type(pd.Period('2012-05', freq='D'))"
   ]
  },
  {
   "cell_type": "code",
   "execution_count": null,
   "metadata": {},
   "outputs": [],
   "source": []
  }
 ],
 "metadata": {
  "language_info": {
   "name": "python",
   "codemirror_mode": {
    "name": "ipython",
    "version": 3
   },
   "version": "3.7.4-final"
  },
  "orig_nbformat": 2,
  "file_extension": ".py",
  "mimetype": "text/x-python",
  "name": "python",
  "npconvert_exporter": "python",
  "pygments_lexer": "ipython3",
  "version": 3,
  "kernelspec": {
   "name": "python3",
   "display_name": "Python 3"
  }
 },
 "nbformat": 4,
 "nbformat_minor": 2
}