{
 "cells": [
  {
   "cell_type": "code",
   "execution_count": 1,
   "metadata": {},
   "outputs": [],
   "source": [
    "import pandas as pd\n",
    "import datetime as dt\n",
    "import re as re"
   ]
  },
  {
   "cell_type": "code",
   "execution_count": 2,
   "metadata": {},
   "outputs": [],
   "source": [
    "#the event is depending on the barcode scanned afterwoards\n",
    "\n",
    "def activity_dependency(barcode):\n",
    "    switcher = {\n",
    "        'Production Start': 'Factory Closed',\n",
    "        'New Recipe Start': 'Preparation/Changeover',\n",
    "        'Break End': 'Break',\n",
    "        'Production Finish': 'TBD'\n",
    "    }\n",
    "    return switcher.get(barcode, 'Production')"
   ]
  },
  {
   "cell_type": "code",
   "execution_count": 3,
   "metadata": {},
   "outputs": [],
   "source": [
    "# 7 days of Assembly\n",
    "\n",
    "def batchcode_dependency(batchcoded):\n",
    "    switcher = {\n",
    "        1: 'Friday Assembly',\n",
    "        2: 'Saturday Assembly',\n",
    "        3: 'Sunday Assembly',\n",
    "        4: 'Monday Assembly',\n",
    "        5: 'Tuesday Assembly',\n",
    "        6: 'Wednesday Assembly',\n",
    "        7: 'Thursday Assembly'\n",
    "    }\n",
    "    return switcher.get(batchcoded, '')"
   ]
  },
  {
   "cell_type": "code",
   "execution_count": 4,
   "metadata": {},
   "outputs": [],
   "source": [
    "# morning shift -- 5:00 to 14:00\n",
    "# afternoon shift -- 14:00 to 23:00\n",
    "# Error -- Events compeleted in other time periods\n",
    "\n",
    "def categorize_event_shift(timestamp):\n",
    "    weekday_index = pd.Timestamp(timestamp).weekday()\n",
    "    switcher = {\n",
    "        0: 'Monday',\n",
    "        1: 'Tuesday',\n",
    "        2: 'Wednesday',\n",
    "        3: 'Thursday',\n",
    "        4: 'Friday',\n",
    "        5: 'Saturday',\n",
    "        6: 'Sunday'\n",
    "    }\n",
    "    weekday = switcher.get(weekday_index,'')\n",
    "    hour = pd.Timestamp(timestamp).hour\n",
    "    if hour in range(5,14):\n",
    "        shift = 'Morning'\n",
    "    elif hour in range(14,23):\n",
    "        shift = 'Afternoon'\n",
    "    else:\n",
    "        shift = 'Error'\n",
    "    return weekday +' '+ shift"
   ]
  },
  {
   "cell_type": "code",
   "execution_count": 5,
   "metadata": {},
   "outputs": [],
   "source": [
    "#calculting time cost to sec\n",
    "\n",
    "def time_consumption(timestamp1,timestamp2):\n",
    "    t1 = pd.to_datetime(timestamp1)\n",
    "    t2 = pd.to_datetime(timestamp2)\n",
    "    InMin = pd.Timedelta(t2-t1).seconds/60.0\n",
    "    return format(InMin, '.2f')\n"
   ]
  },
  {
   "cell_type": "code",
   "execution_count": 6,
   "metadata": {},
   "outputs": [],
   "source": [
    "# count how many pickers for ever events (+2 to get the total amount of people on this kitting line)\n",
    "\n",
    "def count_pickers(picker):\n",
    "    pattern = re.compile(r';|_|,')  ## <- temporary solutions overhere, may change according to the labels printed\n",
    "    picker_array = pattern.findall(picker)  \n",
    "    return len(picker_array)"
   ]
  },
  {
   "cell_type": "code",
   "execution_count": 7,
   "metadata": {},
   "outputs": [
    {
     "output_type": "execute_result",
     "data": {
      "text/plain": [
       "                   Barcode  Production Batch Recipe and P Timestamp  \\\n",
       "0         Production Start               NaN          NaN  06:18:07   \n",
       "1         New Recipe Start               NaN          NaN  06:18:16   \n",
       "2  602D4$$$$$$$$0001000801               6.0           D4  06:18:27   \n",
       "3  602D4$$$$$$$$0002000801               6.0           D4  06:23:22   \n",
       "4  602D4$$$$$$$$0003000801               6.0           D4  06:29:24   \n",
       "\n",
       "                  Date      Seq Code  Week  Team Leader Replenisher  \\\n",
       "0  2021-01-07 00:00:00           NaN   NaN  LEON JOKOM;         NaN   \n",
       "1  2021-01-07 00:00:00           NaN   NaN  LEON JOKOM;         NaN   \n",
       "2  2021-01-07 00:00:00  0001 of 0008   2.0  LEON JOKOM;         NaN   \n",
       "3  2021-01-07 00:00:00  0002 of 0008   2.0  LEON JOKOM;         NaN   \n",
       "4  2021-01-07 00:00:00  0003 of 0008   2.0  LEON JOKOM;         NaN   \n",
       "\n",
       "                                Pickers Break Reasons Missing Products  \\\n",
       "0  iXUsr_Namsaraeva(9934)iXUsr_Yu(9503)           NaN              NaN   \n",
       "1  iXUsr_Namsaraeva(9934)iXUsr_Yu(9503)           NaN              NaN   \n",
       "2  iXUsr_Namsaraeva(9934)iXUsr_Yu(9503)           NaN              NaN   \n",
       "3  iXUsr_Namsaraeva(9934)iXUsr_Yu(9503)           NaN              NaN   \n",
       "4  iXUsr_Namsaraeva(9934)iXUsr_Yu(9503)           NaN              NaN   \n",
       "\n",
       "  Kitting Line   Timestamp and Date  \n",
       "0          KL1  2021-01-07 06:18:07  \n",
       "1          KL1  2021-01-07 06:18:16  \n",
       "2          KL1  2021-01-07 06:18:27  \n",
       "3          KL1  2021-01-07 06:23:22  \n",
       "4          KL1  2021-01-07 06:29:24  "
      ],
      "text/html": "<div>\n<style scoped>\n    .dataframe tbody tr th:only-of-type {\n        vertical-align: middle;\n    }\n\n    .dataframe tbody tr th {\n        vertical-align: top;\n    }\n\n    .dataframe thead th {\n        text-align: right;\n    }\n</style>\n<table border=\"1\" class=\"dataframe\">\n  <thead>\n    <tr style=\"text-align: right;\">\n      <th></th>\n      <th>Barcode</th>\n      <th>Production Batch</th>\n      <th>Recipe and P</th>\n      <th>Timestamp</th>\n      <th>Date</th>\n      <th>Seq Code</th>\n      <th>Week</th>\n      <th>Team Leader</th>\n      <th>Replenisher</th>\n      <th>Pickers</th>\n      <th>Break Reasons</th>\n      <th>Missing Products</th>\n      <th>Kitting Line</th>\n      <th>Timestamp and Date</th>\n    </tr>\n  </thead>\n  <tbody>\n    <tr>\n      <th>0</th>\n      <td>Production Start</td>\n      <td>NaN</td>\n      <td>NaN</td>\n      <td>06:18:07</td>\n      <td>2021-01-07 00:00:00</td>\n      <td>NaN</td>\n      <td>NaN</td>\n      <td>LEON JOKOM;</td>\n      <td>NaN</td>\n      <td>iXUsr_Namsaraeva(9934)iXUsr_Yu(9503)</td>\n      <td>NaN</td>\n      <td>NaN</td>\n      <td>KL1</td>\n      <td>2021-01-07 06:18:07</td>\n    </tr>\n    <tr>\n      <th>1</th>\n      <td>New Recipe Start</td>\n      <td>NaN</td>\n      <td>NaN</td>\n      <td>06:18:16</td>\n      <td>2021-01-07 00:00:00</td>\n      <td>NaN</td>\n      <td>NaN</td>\n      <td>LEON JOKOM;</td>\n      <td>NaN</td>\n      <td>iXUsr_Namsaraeva(9934)iXUsr_Yu(9503)</td>\n      <td>NaN</td>\n      <td>NaN</td>\n      <td>KL1</td>\n      <td>2021-01-07 06:18:16</td>\n    </tr>\n    <tr>\n      <th>2</th>\n      <td>602D4$$$$$$$$0001000801</td>\n      <td>6.0</td>\n      <td>D4</td>\n      <td>06:18:27</td>\n      <td>2021-01-07 00:00:00</td>\n      <td>0001 of 0008</td>\n      <td>2.0</td>\n      <td>LEON JOKOM;</td>\n      <td>NaN</td>\n      <td>iXUsr_Namsaraeva(9934)iXUsr_Yu(9503)</td>\n      <td>NaN</td>\n      <td>NaN</td>\n      <td>KL1</td>\n      <td>2021-01-07 06:18:27</td>\n    </tr>\n    <tr>\n      <th>3</th>\n      <td>602D4$$$$$$$$0002000801</td>\n      <td>6.0</td>\n      <td>D4</td>\n      <td>06:23:22</td>\n      <td>2021-01-07 00:00:00</td>\n      <td>0002 of 0008</td>\n      <td>2.0</td>\n      <td>LEON JOKOM;</td>\n      <td>NaN</td>\n      <td>iXUsr_Namsaraeva(9934)iXUsr_Yu(9503)</td>\n      <td>NaN</td>\n      <td>NaN</td>\n      <td>KL1</td>\n      <td>2021-01-07 06:23:22</td>\n    </tr>\n    <tr>\n      <th>4</th>\n      <td>602D4$$$$$$$$0003000801</td>\n      <td>6.0</td>\n      <td>D4</td>\n      <td>06:29:24</td>\n      <td>2021-01-07 00:00:00</td>\n      <td>0003 of 0008</td>\n      <td>2.0</td>\n      <td>LEON JOKOM;</td>\n      <td>NaN</td>\n      <td>iXUsr_Namsaraeva(9934)iXUsr_Yu(9503)</td>\n      <td>NaN</td>\n      <td>NaN</td>\n      <td>KL1</td>\n      <td>2021-01-07 06:29:24</td>\n    </tr>\n  </tbody>\n</table>\n</div>"
     },
     "metadata": {},
     "execution_count": 7
    }
   ],
   "source": [
    "staged_df = pd.read_csv(r'C:\\Users\\Peiran Quan\\Desktop\\python_data_preparation\\staged.csv')  # Can change file path here\n",
    "staged_df.head()"
   ]
  },
  {
   "cell_type": "code",
   "execution_count": 8,
   "metadata": {},
   "outputs": [],
   "source": [
    "# copy raw df\n",
    "df_final = pd.DataFrame(data=None) #df is the event data frame"
   ]
  },
  {
   "cell_type": "code",
   "execution_count": 9,
   "metadata": {},
   "outputs": [],
   "source": [
    "def main(df_temp_raw):\n",
    "    df_temp_event = pd.DataFrame(columns=('Start Time', 'Finish Time', 'Activity', 'Seq Code' ,'Recipe Name', 'Break Reasons', 'Missing Ingredients', 'Kitting Line', 'Assembly Batch', 'Event Shift', 'Team Leader', 'Pickers Count', 'Time Consumption'))\n",
    "    index_align = df_temp_raw.first_valid_index() # pandas is using the df_temp_raw's frame index whenever df_temp_raw is called\n",
    "    df_temp_event['Finish Time'] = df_temp_raw['Timestamp and Date']\n",
    "    df_temp_event['Seq Code'] = df_temp_raw['Seq Code']\n",
    "    df_temp_event['Start Time'].loc[index_align] = '2019-1-1 00:00:00'\n",
    "    #df_temp_event['Recipe Name'][1] = df_temp_raw['Recipe and P'].loc[df_temp_raw['Recipe and P'].first_valid_index()]\n",
    "    #print(df_temp_event)\n",
    "    df_temp_raw.loc[index_align, 'Recipe and P'] = df_temp_raw['Recipe and P'].loc[df_temp_raw['Recipe and P'].first_valid_index()] #ignore the warning -- data type is not changing, the return is in VIEW\n",
    "\n",
    "    for i in range (len(df_temp_raw)):\n",
    "        df_temp_event['Start Time'].loc[index_align+i+1] = df_temp_raw['Timestamp and Date'].loc[index_align+i]\n",
    "        df_temp_event['Activity'].loc[index_align+i] = activity_dependency(df_temp_raw['Barcode'].loc[index_align+i])\n",
    "        df_temp_event['Break Reasons'].loc[index_align+i+1] = df_temp_raw['Break Reasons'].loc[index_align+i]\n",
    "        df_temp_event['Missing Ingredients'].loc[index_align+i+1] = df_temp_raw['Missing Products'].loc[index_align+i]\n",
    "        df_temp_event['Kitting Line'].loc[index_align+i+1] = df_temp_raw['Kitting Line'].loc[index_align+i]\n",
    "        df_temp_event['Assembly Batch'].loc[index_align+i] = batchcode_dependency(df_temp_raw['Production Batch'].loc[index_align+i])\n",
    "        df_temp_event['Time Consumption'].loc[index_align+i] = time_consumption(df_temp_event['Start Time'].loc[index_align+i], df_temp_event['Finish Time'].loc[index_align+i])\n",
    "        df_temp_event['Event Shift'].loc[index_align+i] = categorize_event_shift(df_temp_event['Finish Time'].loc[index_align+i])\n",
    "        df_temp_event['Team Leader'].loc[index_align+i] = df_temp_raw['Team Leader'].loc[index_align+i]\n",
    "        df_temp_event['Pickers Count'].loc[index_align+i] = count_pickers(df_temp_raw['Pickers'].loc[index_align+i])\n",
    "        #print(df_temp_event)\n",
    "        \"\"\"\n",
    "        for j in range (len(df_temp_raw)):  #############################################\n",
    "            print(df_temp_raw['Recipe and P'][::-1].loc[(index_align + j):])\n",
    "            reversed_index = df_temp_raw['Recipe and P'][::-1].loc[(index_align + j):].first_valid_index()\n",
    "        \"\"\"\n",
    "        #df_temp_raw['Recipe and P'][index_align] = df_temp_raw['Recipe and P'].loc[df_temp_raw['Recipe and P'].first_valid_index()]\n",
    "        recipe_index = df_temp_raw['Recipe and P'].loc[0:index_align+i].last_valid_index()\n",
    "        #print(recipe_index)\n",
    "        df_temp_event['Recipe Name'].loc[index_align+i] = df_temp_raw['Recipe and P'].loc[recipe_index]\n",
    "        #print(df_temp_raw['Recipe and P'].loc[recipe_index])\n",
    "    #print(df_temp_event)\n",
    "    return df_temp_event"
   ]
  },
  {
   "cell_type": "code",
   "execution_count": 10,
   "metadata": {
    "tags": []
   },
   "outputs": [
    {
     "output_type": "stream",
     "name": "stdout",
     "text": [
      "Kitting Line 1 Completed!\n",
      "Kitting Line 2 Completed!\n",
      "Kitting Line 3 Completed!\n",
      "Kitting Line 4 Completed!\n",
      "Kitting Line 5 Completed!\n",
      "Kitting Line 6 Completed!\n",
      "Kitting Line 7 Completed!\n",
      "Kitting Line 8 Completed!\n",
      "Kitting Line 9 Completed!\n",
      "Kitting Line 10 Completed!\n",
      "Kitting Line 11 Completed!\n",
      "Kitting Line 12 Completed!\n",
      "Kitting Line 13 Completed!\n",
      "Kitting Line 14 Completed!\n",
      "Kitting Line 15 Completed!\n",
      "Kitting Line 16 Completed!\n",
      "Kitting Line 17 Completed!\n",
      "Kitting Line 18 Completed!\n",
      "Kitting Line 19 Completed!\n",
      "Kitting Line 20 Completed!\n"
     ]
    }
   ],
   "source": [
    "for kl in range(1,21):\n",
    "    df_temp_raw = staged_df.loc[staged_df['Kitting Line'] == 'KL%s'%kl]\n",
    "    if df_temp_raw.empty:\n",
    "        print(\"Kitting Line %r is not included!\" %(kl))  # if data frame is empty\n",
    "    #print(df_temp_raw)\n",
    "    else:\n",
    "        seg = main(df_temp_raw)\n",
    "        #print(seg)\n",
    "        df_final = pd.concat([df_final, seg], sort = False)\n",
    "        print(\"Kitting Line %r Completed!\" %(kl))\n"
   ]
  },
  {
   "cell_type": "code",
   "execution_count": 11,
   "metadata": {},
   "outputs": [
    {
     "output_type": "execute_result",
     "data": {
      "text/plain": [
       "               Start Time          Finish Time                Activity  \\\n",
       "4647  2021-01-10 21:05:46  2021-01-10 21:06:01              Production   \n",
       "4648  2021-01-10 21:06:01  2021-01-10 21:11:23  Preparation/Changeover   \n",
       "4649  2021-01-10 21:11:23  2021-01-10 21:14:19              Production   \n",
       "4650  2021-01-10 21:14:19  2021-01-10 21:16:57              Production   \n",
       "4651  2021-01-10 21:16:57  2021-01-10 21:18:06                     TBD   \n",
       "\n",
       "          Seq Code Recipe Name Break Reasons Missing Ingredients Kitting Line  \\\n",
       "4647  0002 of 0002          O4           NaN                 NaN         KL20   \n",
       "4648           NaN          O4           NaN                 NaN         KL20   \n",
       "4649  0001 of 0002          O2           NaN                 NaN         KL20   \n",
       "4650  0002 of 0002          O2           NaN                 NaN         KL20   \n",
       "4651           NaN          O2           NaN                 NaN         KL20   \n",
       "\n",
       "        Assembly Batch       Event Shift        Team Leader Pickers Count  \\\n",
       "4647  Tuesday Assembly  Sunday Afternoon  iXUsr_Erwin(7089)             2   \n",
       "4648                    Sunday Afternoon  iXUsr_Erwin(7089)             2   \n",
       "4649  Tuesday Assembly  Sunday Afternoon  iXUsr_Erwin(7089)             2   \n",
       "4650  Tuesday Assembly  Sunday Afternoon  iXUsr_Erwin(7089)             2   \n",
       "4651                    Sunday Afternoon  iXUsr_Erwin(7089)             2   \n",
       "\n",
       "     Time Consumption     Week  \n",
       "4647             0.25  2021-02  \n",
       "4648             5.37  2021-02  \n",
       "4649             2.93  2021-02  \n",
       "4650             2.63  2021-02  \n",
       "4651             1.15  2021-02  "
      ],
      "text/html": "<div>\n<style scoped>\n    .dataframe tbody tr th:only-of-type {\n        vertical-align: middle;\n    }\n\n    .dataframe tbody tr th {\n        vertical-align: top;\n    }\n\n    .dataframe thead th {\n        text-align: right;\n    }\n</style>\n<table border=\"1\" class=\"dataframe\">\n  <thead>\n    <tr style=\"text-align: right;\">\n      <th></th>\n      <th>Start Time</th>\n      <th>Finish Time</th>\n      <th>Activity</th>\n      <th>Seq Code</th>\n      <th>Recipe Name</th>\n      <th>Break Reasons</th>\n      <th>Missing Ingredients</th>\n      <th>Kitting Line</th>\n      <th>Assembly Batch</th>\n      <th>Event Shift</th>\n      <th>Team Leader</th>\n      <th>Pickers Count</th>\n      <th>Time Consumption</th>\n      <th>Week</th>\n    </tr>\n  </thead>\n  <tbody>\n    <tr>\n      <th>4647</th>\n      <td>2021-01-10 21:05:46</td>\n      <td>2021-01-10 21:06:01</td>\n      <td>Production</td>\n      <td>0002 of 0002</td>\n      <td>O4</td>\n      <td>NaN</td>\n      <td>NaN</td>\n      <td>KL20</td>\n      <td>Tuesday Assembly</td>\n      <td>Sunday Afternoon</td>\n      <td>iXUsr_Erwin(7089)</td>\n      <td>2</td>\n      <td>0.25</td>\n      <td>2021-02</td>\n    </tr>\n    <tr>\n      <th>4648</th>\n      <td>2021-01-10 21:06:01</td>\n      <td>2021-01-10 21:11:23</td>\n      <td>Preparation/Changeover</td>\n      <td>NaN</td>\n      <td>O4</td>\n      <td>NaN</td>\n      <td>NaN</td>\n      <td>KL20</td>\n      <td></td>\n      <td>Sunday Afternoon</td>\n      <td>iXUsr_Erwin(7089)</td>\n      <td>2</td>\n      <td>5.37</td>\n      <td>2021-02</td>\n    </tr>\n    <tr>\n      <th>4649</th>\n      <td>2021-01-10 21:11:23</td>\n      <td>2021-01-10 21:14:19</td>\n      <td>Production</td>\n      <td>0001 of 0002</td>\n      <td>O2</td>\n      <td>NaN</td>\n      <td>NaN</td>\n      <td>KL20</td>\n      <td>Tuesday Assembly</td>\n      <td>Sunday Afternoon</td>\n      <td>iXUsr_Erwin(7089)</td>\n      <td>2</td>\n      <td>2.93</td>\n      <td>2021-02</td>\n    </tr>\n    <tr>\n      <th>4650</th>\n      <td>2021-01-10 21:14:19</td>\n      <td>2021-01-10 21:16:57</td>\n      <td>Production</td>\n      <td>0002 of 0002</td>\n      <td>O2</td>\n      <td>NaN</td>\n      <td>NaN</td>\n      <td>KL20</td>\n      <td>Tuesday Assembly</td>\n      <td>Sunday Afternoon</td>\n      <td>iXUsr_Erwin(7089)</td>\n      <td>2</td>\n      <td>2.63</td>\n      <td>2021-02</td>\n    </tr>\n    <tr>\n      <th>4651</th>\n      <td>2021-01-10 21:16:57</td>\n      <td>2021-01-10 21:18:06</td>\n      <td>TBD</td>\n      <td>NaN</td>\n      <td>O2</td>\n      <td>NaN</td>\n      <td>NaN</td>\n      <td>KL20</td>\n      <td></td>\n      <td>Sunday Afternoon</td>\n      <td>iXUsr_Erwin(7089)</td>\n      <td>2</td>\n      <td>1.15</td>\n      <td>2021-02</td>\n    </tr>\n  </tbody>\n</table>\n</div>"
     },
     "metadata": {},
     "execution_count": 11
    }
   ],
   "source": [
    "## Attach a column to identify the Week\n",
    "## Update weekly\n",
    "df_final['Week'] = '2021-02'\n",
    "df_final.tail()"
   ]
  },
  {
   "cell_type": "code",
   "execution_count": 12,
   "metadata": {},
   "outputs": [],
   "source": [
    "df_final.to_csv(r'C:\\Users\\Peiran Quan\\Desktop\\python_data_preparation\\prepared.csv', index = False) # Can change file path here"
   ]
  }
 ],
 "metadata": {
  "kernelspec": {
   "display_name": "Python 3",
   "language": "python",
   "name": "python3"
  },
  "language_info": {
   "codemirror_mode": {
    "name": "ipython",
    "version": 3
   },
   "file_extension": ".py",
   "mimetype": "text/x-python",
   "name": "python",
   "nbconvert_exporter": "python",
   "pygments_lexer": "ipython3",
   "version": "3.8.6-final"
  }
 },
 "nbformat": 4,
 "nbformat_minor": 4
}