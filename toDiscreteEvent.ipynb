{
 "cells": [
  {
   "cell_type": "code",
   "execution_count": 1,
   "metadata": {},
   "outputs": [],
   "source": [
    "import pandas as pd\n",
    "import datetime as dt\n",
    "import re as re"
   ]
  },
  {
   "cell_type": "code",
   "execution_count": 2,
   "metadata": {},
   "outputs": [],
   "source": [
    "#the event is depending on the barcode scanned afterwoards\n",
    "\n",
    "def activity_dependency(barcode):\n",
    "    switcher = {\n",
    "        'Production Start': 'Factory Closed',\n",
    "        'New Recipe Start': 'Preparation/Changeover',\n",
    "        'Break End': 'Break',\n",
    "        'Production Finish': 'TBD'\n",
    "    }\n",
    "    return switcher.get(barcode, 'Production')"
   ]
  },
  {
   "cell_type": "code",
   "execution_count": 3,
   "metadata": {},
   "outputs": [],
   "source": [
    "# 7 days of Assembly\n",
    "\n",
    "def batchcode_dependency(batchcoded):\n",
    "    switcher = {\n",
    "        1: 'Friday Assembly',\n",
    "        2: 'Saturday Assembly',\n",
    "        3: 'Sunday Assembly',\n",
    "        4: 'Monday Assembly',\n",
    "        5: 'Tuesday Assembly',\n",
    "        6: 'Wednesday Assembly',\n",
    "        7: 'Thursday Assembly'\n",
    "    }\n",
    "    return switcher.get(batchcoded, '')"
   ]
  },
  {
   "cell_type": "code",
   "execution_count": 4,
   "metadata": {},
   "outputs": [],
   "source": [
    "# morning shift -- 5:00 to 14:00\n",
    "# afternoon shift -- 14:00 to 23:00\n",
    "# Error -- Events compeleted in other time periods\n",
    "\n",
    "def categorize_event_shift(timestamp):\n",
    "    weekday_index = pd.Timestamp(timestamp).weekday()\n",
    "    switcher = {\n",
    "        0: 'Monday',\n",
    "        1: 'Tuesday',\n",
    "        2: 'Wednesday',\n",
    "        3: 'Thursday',\n",
    "        4: 'Friday',\n",
    "        5: 'Saturday',\n",
    "        6: 'Sunday'\n",
    "    }\n",
    "    weekday = switcher.get(weekday_index,'')\n",
    "    hour = pd.Timestamp(timestamp).hour\n",
    "    if hour in range(5,14):\n",
    "        shift = 'Morning'\n",
    "    elif hour in range(14,23):\n",
    "        shift = 'Afternoon'\n",
    "    else:\n",
    "        shift = 'Error'\n",
    "    return weekday +' '+ shift"
   ]
  },
  {
   "cell_type": "code",
   "execution_count": 5,
   "metadata": {},
   "outputs": [],
   "source": [
    "#calculting time cost to sec\n",
    "\n",
    "def time_consumption(timestamp1,timestamp2):\n",
    "    t1 = pd.to_datetime(timestamp1)\n",
    "    t2 = pd.to_datetime(timestamp2)\n",
    "    InMin = pd.Timedelta(t2-t1).seconds/60.0\n",
    "    return format(InMin, '.2f')\n"
   ]
  },
  {
   "cell_type": "code",
   "execution_count": 6,
   "metadata": {},
   "outputs": [],
   "source": [
    "# count how many pickers for ever events (+2 to get the total amount of people on this kitting line)\n",
    "\n",
    "def count_pickers(picker):\n",
    "    pattern = re.compile(r';|_|,')  ## <- temporary solutions overhere, may change according to the labels printed\n",
    "    picker_array = pattern.findall(picker)  \n",
    "    return len(picker_array)"
   ]
  },
  {
   "cell_type": "code",
   "execution_count": 7,
   "metadata": {},
   "outputs": [
    {
     "output_type": "execute_result",
     "data": {
      "text/plain": "                   Barcode  Production Batch Recipe and P Timestamp  \\\n0         Production Start               NaN          NaN  06:23:16   \n1         New Recipe Start               NaN          NaN  06:23:33   \n2              Break Start               NaN          NaN  06:31:31   \n3                Break End               NaN          NaN  06:42:12   \n4  643Q4$$$$$$$$0001001201               6.0           Q4  06:42:30   \n\n                  Date      Seq Code  Week         Team Leader  \\\n0  2020-10-15 00:00:00           NaN   NaN  iXUsr_Mithun(7321)   \n1  2020-10-15 00:00:00           NaN   NaN  iXUsr_Mithun(7321)   \n2  2020-10-15 00:00:00           NaN   NaN  iXUsr_Mithun(7321)   \n3  2020-10-15 00:00:00           NaN   NaN  iXUsr_Mithun(7321)   \n4  2020-10-15 00:00:00  0001 of 0012  43.0  iXUsr_Mithun(7321)   \n\n        Replenisher           Pickers        Break Reasons Missing Products  \\\n0  iXUsr_Yang(7418)  iXUsr_Liu(10040)                  NaN              NaN   \n1  iXUsr_Yang(7418)  iXUsr_Liu(10040)                  NaN              NaN   \n2  iXUsr_Yang(7418)  iXUsr_Liu(10040)  rework previous mks              NaN   \n3  iXUsr_Yang(7418)  iXUsr_Liu(10040)                  NaN              NaN   \n4  iXUsr_Yang(7418)  iXUsr_Liu(10040)                  NaN              NaN   \n\n  Kitting Line   Timestamp and Date  \n0          KL1  2020-10-15 06:23:16  \n1          KL1  2020-10-15 06:23:33  \n2          KL1  2020-10-15 06:31:31  \n3          KL1  2020-10-15 06:42:12  \n4          KL1  2020-10-15 06:42:30  ",
      "text/html": "<div>\n<style scoped>\n    .dataframe tbody tr th:only-of-type {\n        vertical-align: middle;\n    }\n\n    .dataframe tbody tr th {\n        vertical-align: top;\n    }\n\n    .dataframe thead th {\n        text-align: right;\n    }\n</style>\n<table border=\"1\" class=\"dataframe\">\n  <thead>\n    <tr style=\"text-align: right;\">\n      <th></th>\n      <th>Barcode</th>\n      <th>Production Batch</th>\n      <th>Recipe and P</th>\n      <th>Timestamp</th>\n      <th>Date</th>\n      <th>Seq Code</th>\n      <th>Week</th>\n      <th>Team Leader</th>\n      <th>Replenisher</th>\n      <th>Pickers</th>\n      <th>Break Reasons</th>\n      <th>Missing Products</th>\n      <th>Kitting Line</th>\n      <th>Timestamp and Date</th>\n    </tr>\n  </thead>\n  <tbody>\n    <tr>\n      <th>0</th>\n      <td>Production Start</td>\n      <td>NaN</td>\n      <td>NaN</td>\n      <td>06:23:16</td>\n      <td>2020-10-15 00:00:00</td>\n      <td>NaN</td>\n      <td>NaN</td>\n      <td>iXUsr_Mithun(7321)</td>\n      <td>iXUsr_Yang(7418)</td>\n      <td>iXUsr_Liu(10040)</td>\n      <td>NaN</td>\n      <td>NaN</td>\n      <td>KL1</td>\n      <td>2020-10-15 06:23:16</td>\n    </tr>\n    <tr>\n      <th>1</th>\n      <td>New Recipe Start</td>\n      <td>NaN</td>\n      <td>NaN</td>\n      <td>06:23:33</td>\n      <td>2020-10-15 00:00:00</td>\n      <td>NaN</td>\n      <td>NaN</td>\n      <td>iXUsr_Mithun(7321)</td>\n      <td>iXUsr_Yang(7418)</td>\n      <td>iXUsr_Liu(10040)</td>\n      <td>NaN</td>\n      <td>NaN</td>\n      <td>KL1</td>\n      <td>2020-10-15 06:23:33</td>\n    </tr>\n    <tr>\n      <th>2</th>\n      <td>Break Start</td>\n      <td>NaN</td>\n      <td>NaN</td>\n      <td>06:31:31</td>\n      <td>2020-10-15 00:00:00</td>\n      <td>NaN</td>\n      <td>NaN</td>\n      <td>iXUsr_Mithun(7321)</td>\n      <td>iXUsr_Yang(7418)</td>\n      <td>iXUsr_Liu(10040)</td>\n      <td>rework previous mks</td>\n      <td>NaN</td>\n      <td>KL1</td>\n      <td>2020-10-15 06:31:31</td>\n    </tr>\n    <tr>\n      <th>3</th>\n      <td>Break End</td>\n      <td>NaN</td>\n      <td>NaN</td>\n      <td>06:42:12</td>\n      <td>2020-10-15 00:00:00</td>\n      <td>NaN</td>\n      <td>NaN</td>\n      <td>iXUsr_Mithun(7321)</td>\n      <td>iXUsr_Yang(7418)</td>\n      <td>iXUsr_Liu(10040)</td>\n      <td>NaN</td>\n      <td>NaN</td>\n      <td>KL1</td>\n      <td>2020-10-15 06:42:12</td>\n    </tr>\n    <tr>\n      <th>4</th>\n      <td>643Q4$$$$$$$$0001001201</td>\n      <td>6.0</td>\n      <td>Q4</td>\n      <td>06:42:30</td>\n      <td>2020-10-15 00:00:00</td>\n      <td>0001 of 0012</td>\n      <td>43.0</td>\n      <td>iXUsr_Mithun(7321)</td>\n      <td>iXUsr_Yang(7418)</td>\n      <td>iXUsr_Liu(10040)</td>\n      <td>NaN</td>\n      <td>NaN</td>\n      <td>KL1</td>\n      <td>2020-10-15 06:42:30</td>\n    </tr>\n  </tbody>\n</table>\n</div>"
     },
     "metadata": {},
     "execution_count": 7
    }
   ],
   "source": [
    "staged_df = pd.read_csv(r'C:\\Users\\Peiran Quan\\Desktop\\python_data_preparation\\staged.csv')  # Can change file path here\n",
    "staged_df.head()"
   ]
  },
  {
   "cell_type": "code",
   "execution_count": 8,
   "metadata": {},
   "outputs": [],
   "source": [
    "# copy raw df\n",
    "df_final = pd.DataFrame(data=None) #df is the event data frame"
   ]
  },
  {
   "cell_type": "code",
   "execution_count": 9,
   "metadata": {},
   "outputs": [],
   "source": [
    "def main(df_temp_raw):\n",
    "    df_temp_event = pd.DataFrame(columns=('Start Time', 'Finish Time', 'Activity', 'Seq Code' ,'Recipe Name', 'Break Reasons', 'Missing Ingredients', 'Kitting Line', 'Assembly Batch', 'Event Shift', 'Team Leader', 'Pickers Count', 'Time Consumption'))\n",
    "    index_align = df_temp_raw.first_valid_index() # pandas is using the df_temp_raw's frame index whenever df_temp_raw is called\n",
    "    df_temp_event['Finish Time'] = df_temp_raw['Timestamp and Date']\n",
    "    df_temp_event['Seq Code'] = df_temp_raw['Seq Code']\n",
    "    df_temp_event['Start Time'].loc[index_align] = '2019-1-1 00:00:00'\n",
    "    #df_temp_event['Recipe Name'][1] = df_temp_raw['Recipe and P'].loc[df_temp_raw['Recipe and P'].first_valid_index()]\n",
    "    #print(df_temp_event)\n",
    "    df_temp_raw.loc[index_align, 'Recipe and P'] = df_temp_raw['Recipe and P'].loc[df_temp_raw['Recipe and P'].first_valid_index()] #ignore the warning -- data type is not changing, the return is in VIEW\n",
    "\n",
    "    for i in range (len(df_temp_raw)):\n",
    "        df_temp_event['Start Time'].loc[index_align+i+1] = df_temp_raw['Timestamp and Date'].loc[index_align+i]\n",
    "        df_temp_event['Activity'].loc[index_align+i] = activity_dependency(df_temp_raw['Barcode'].loc[index_align+i])\n",
    "        df_temp_event['Break Reasons'].loc[index_align+i+1] = df_temp_raw['Break Reasons'].loc[index_align+i]\n",
    "        df_temp_event['Missing Ingredients'].loc[index_align+i+1] = df_temp_raw['Missing Products'].loc[index_align+i]\n",
    "        df_temp_event['Kitting Line'].loc[index_align+i+1] = df_temp_raw['Kitting Line'].loc[index_align+i]\n",
    "        df_temp_event['Assembly Batch'].loc[index_align+i] = batchcode_dependency(df_temp_raw['Production Batch'].loc[index_align+i])\n",
    "        df_temp_event['Time Consumption'].loc[index_align+i] = time_consumption(df_temp_event['Start Time'].loc[index_align+i], df_temp_event['Finish Time'].loc[index_align+i])\n",
    "        df_temp_event['Event Shift'].loc[index_align+i] = categorize_event_shift(df_temp_event['Finish Time'].loc[index_align+i])\n",
    "        df_temp_event['Team Leader'].loc[index_align+i] = df_temp_raw['Team Leader'].loc[index_align+i]\n",
    "        df_temp_event['Pickers Count'].loc[index_align+i] = count_pickers(df_temp_raw['Pickers'].loc[index_align+i])\n",
    "        #print(df_temp_event)\n",
    "        \"\"\"\n",
    "        for j in range (len(df_temp_raw)):  #############################################\n",
    "            print(df_temp_raw['Recipe and P'][::-1].loc[(index_align + j):])\n",
    "            reversed_index = df_temp_raw['Recipe and P'][::-1].loc[(index_align + j):].first_valid_index()\n",
    "        \"\"\"\n",
    "        #df_temp_raw['Recipe and P'][index_align] = df_temp_raw['Recipe and P'].loc[df_temp_raw['Recipe and P'].first_valid_index()]\n",
    "        recipe_index = df_temp_raw['Recipe and P'].loc[0:index_align+i].last_valid_index()\n",
    "        #print(recipe_index)\n",
    "        df_temp_event['Recipe Name'].loc[index_align+i] = df_temp_raw['Recipe and P'].loc[recipe_index]\n",
    "        #print(df_temp_raw['Recipe and P'].loc[recipe_index])\n",
    "    #print(df_temp_event)\n",
    "    return df_temp_event"
   ]
  },
  {
   "cell_type": "code",
   "execution_count": 10,
   "metadata": {
    "tags": [
     "outputPrepend"
    ]
   },
   "outputs": [
    {
     "output_type": "stream",
     "name": "stdout",
     "text": "                    Monday Morning  iXUsr_Tutai(7335)   \n6590         KL14    Tuesday Assembly    Monday Morning  iXUsr_Tutai(7335)   \n6591         KL14                        Monday Morning  iXUsr_Tutai(7335)   \n\n     Pickers Count Time Consumption  \n6104             3           368.65  \n6105             3             0.20  \n6106             3             7.05  \n6107             3             3.98  \n6108             3             3.92  \n...            ...              ...  \n6587             3             3.77  \n6588             3             1.72  \n6589             3            17.90  \n6590             3             1.92  \n6591             3             0.22  \n\n[488 rows x 13 columns]\nKitting Line 14 Completed!\n               Start Time          Finish Time                Activity  \\\n6592    2019-1-1 00:00:00  2020-10-15 06:18:56          Factory Closed   \n6593  2020-10-15 06:18:56  2020-10-15 06:19:11  Preparation/Changeover   \n6594  2020-10-15 06:19:11  2020-10-15 06:19:22              Production   \n6595  2020-10-15 06:19:22  2020-10-15 06:19:48              Production   \n6596  2020-10-15 06:19:48  2020-10-15 06:48:44                   Break   \n...                   ...                  ...                     ...   \n6901  2020-10-19 10:43:57  2020-10-19 10:46:15              Production   \n6902  2020-10-19 10:46:15  2020-10-19 10:50:23              Production   \n6903  2020-10-19 10:50:23  2020-10-19 10:52:43              Production   \n6904  2020-10-19 10:52:43  2020-10-19 10:55:17              Production   \n6905  2020-10-19 10:55:17  2020-10-19 10:57:13                     TBD   \n\n          Seq Code Recipe Name      Break Reasons Missing Ingredients  \\\n6592           NaN          SG                NaN                 NaN   \n6593           NaN          SG                NaN                 NaN   \n6594  0001 of 0001          SG                NaN                 NaN   \n6595           NaN          SG                NaN                 NaN   \n6596           NaN          SG  shortage of staff                 NaN   \n...            ...         ...                ...                 ...   \n6901  0005 of 0008          H4                NaN                 NaN   \n6902  0006 of 0008          H4                NaN                 NaN   \n6903  0007 of 0008          H4                NaN                 NaN   \n6904  0008 of 0008          H4                NaN                 NaN   \n6905           NaN          H4                NaN                 NaN   \n\n     Kitting Line      Assembly Batch       Event Shift         Team Leader  \\\n6592          NaN                      Thursday Morning    iXUsr_Mafi(7185)   \n6593         KL15                      Thursday Morning    iXUsr_Mafi(7185)   \n6594         KL15  Wednesday Assembly  Thursday Morning    iXUsr_Mafi(7185)   \n6595         KL15                      Thursday Morning    iXUsr_Mafi(7185)   \n6596         KL15                      Thursday Morning    iXUsr_Mafi(7185)   \n...           ...                 ...               ...                 ...   \n6901         KL15    Tuesday Assembly    Monday Morning  iXUsr_Normie(7460)   \n6902         KL15    Tuesday Assembly    Monday Morning  iXUsr_Normie(7460)   \n6903         KL15    Tuesday Assembly    Monday Morning  iXUsr_Normie(7460)   \n6904         KL15    Tuesday Assembly    Monday Morning  iXUsr_Normie(7460)   \n6905         KL15                        Monday Morning  iXUsr_Normie(7460)   \n\n     Pickers Count Time Consumption  \n6592             3           378.93  \n6593             3             0.25  \n6594             3             0.18  \n6595             3             0.43  \n6596             3            28.93  \n...            ...              ...  \n6901             3             2.30  \n6902             3             4.13  \n6903             3             2.33  \n6904             3             2.57  \n6905             3             1.93  \n\n[314 rows x 13 columns]\nKitting Line 15 Completed!\n               Start Time          Finish Time                Activity  \\\n6906    2019-1-1 00:00:00  2020-10-15 06:17:00          Factory Closed   \n6907  2020-10-15 06:17:00  2020-10-15 06:17:10  Preparation/Changeover   \n6908  2020-10-15 06:17:10  2020-10-15 06:17:20              Production   \n6909  2020-10-15 06:17:20  2020-10-15 06:38:35  Preparation/Changeover   \n6910  2020-10-15 06:38:35  2020-10-15 06:38:46              Production   \n...                   ...                  ...                     ...   \n7049  2020-10-17 20:31:19  2020-10-17 20:32:06              Production   \n7050  2020-10-17 20:32:06  2020-10-17 20:59:10                   Break   \n7051  2020-10-17 20:59:10  2020-10-17 20:59:34  Preparation/Changeover   \n7052  2020-10-17 20:59:34  2020-10-17 20:59:40              Production   \n7053  2020-10-17 20:59:40  2020-10-17 21:03:43              Production   \n\n          Seq Code Recipe Name       Break Reasons Missing Ingredients  \\\n6906           NaN          SE                 NaN                 NaN   \n6907           NaN          SE                 NaN                 NaN   \n6908  0001 of 0001          SE                 NaN                 NaN   \n6909           NaN          SE                 NaN                 NaN   \n6910  0001 of 0003          P4                 NaN                 NaN   \n...            ...         ...                 ...                 ...   \n7049           NaN          P4                 NaN                 NaN   \n7050           NaN          P4  move to other line                 NaN   \n7051           NaN          P4                 NaN                 NaN   \n7052  0001 of 0002          P2                 NaN                 NaN   \n7053  0002 of 0002          P2                 NaN                 NaN   \n\n     Kitting Line      Assembly Batch         Event Shift       Team Leader  \\\n6906          NaN                        Thursday Morning  iXUsr_Gwen(7292)   \n6907         KL16                        Thursday Morning  iXUsr_Gwen(7292)   \n6908         KL16  Wednesday Assembly    Thursday Morning  iXUsr_Gwen(7292)   \n6909         KL16                        Thursday Morning  iXUsr_Gwen(7292)   \n6910         KL16  Wednesday Assembly    Thursday Morning  iXUsr_Gwen(7292)   \n...           ...                 ...                 ...               ...   \n7049         KL16                      Saturday Afternoon  iXUsr_Good(8522)   \n7050         KL16                      Saturday Afternoon  iXUsr_Good(8522)   \n7051         KL16                      Saturday Afternoon  iXUsr_Good(8522)   \n7052         KL16   Thursday Assembly  Saturday Afternoon  iXUsr_Good(8522)   \n7053         KL16   Thursday Assembly  Saturday Afternoon  iXUsr_Good(8522)   \n\n     Pickers Count Time Consumption  \n6906             1           377.00  \n6907             1             0.17  \n6908             1             0.17  \n6909             1            21.25  \n6910             1             0.18  \n...            ...              ...  \n7049             4             0.78  \n7050             4            27.07  \n7051             4             0.40  \n7052             4             0.10  \n7053             4             4.05  \n\n[148 rows x 13 columns]\nKitting Line 16 Completed!\n               Start Time          Finish Time                Activity  \\\n7054    2019-1-1 00:00:00  2020-10-15 06:08:19          Factory Closed   \n7055  2020-10-15 06:08:19  2020-10-15 06:08:30  Preparation/Changeover   \n7056  2020-10-15 06:08:30  2020-10-15 06:12:06              Production   \n7057  2020-10-15 06:12:06  2020-10-15 06:13:49                   Break   \n7058  2020-10-15 06:13:49  2020-10-15 06:14:53              Production   \n...                   ...                  ...                     ...   \n7335  2020-10-19 11:48:58  2020-10-19 11:49:06              Production   \n7336  2020-10-19 11:49:06  2020-10-19 11:51:39              Production   \n7337  2020-10-19 11:51:39  2020-10-19 11:53:44              Production   \n7338  2020-10-19 11:53:44  2020-10-19 11:53:50              Production   \n7339  2020-10-19 11:53:50  2020-10-19 16:36:50                     TBD   \n\n          Seq Code Recipe Name Break Reasons Missing Ingredients Kitting Line  \\\n7054           NaN          R4           NaN                 NaN          NaN   \n7055           NaN          R4           NaN                 NaN         KL17   \n7056           NaN          R4           NaN                 NaN         KL17   \n7057           NaN          R4    Unselected                 NaN         KL17   \n7058  0001 of 0010          R4           NaN                 NaN         KL17   \n...            ...         ...           ...                 ...          ...   \n7335  0011 of 0014          R4           NaN                 NaN         KL17   \n7336  0012 of 0014          R4           NaN                 NaN         KL17   \n7337  0013 of 0014          R4           NaN                 NaN         KL17   \n7338  0014 of 0014          R4           NaN                 NaN         KL17   \n7339           NaN          R4           NaN                 NaN         KL17   \n\n          Assembly Batch       Event Shift              Team Leader  \\\n7054                      Thursday Morning        iXUsr_Holly(8837)   \n7055                      Thursday Morning        iXUsr_Holly(8837)   \n7056                      Thursday Morning        iXUsr_Holly(8837)   \n7057                      Thursday Morning        iXUsr_Holly(8837)   \n7058  Wednesday Assembly  Thursday Morning        iXUsr_Holly(8837)   \n...                  ...               ...                      ...   \n7335    Tuesday Assembly    Monday Morning  iXUsr_Agus-Alfian(6894)   \n7336    Tuesday Assembly    Monday Morning  iXUsr_Agus-Alfian(6894)   \n7337    Tuesday Assembly    Monday Morning  iXUsr_Agus-Alfian(6894)   \n7338    Tuesday Assembly    Monday Morning  iXUsr_Agus-Alfian(6894)   \n7339                      Monday Afternoon  iXUsr_Agus-Alfian(6894)   \n\n     Pickers Count Time Consumption  \n7054             1           368.32  \n7055             1             0.18  \n7056             1             3.60  \n7057             1             1.72  \n7058             1             1.07  \n...            ...              ...  \n7335             3             0.13  \n7336             3             2.55  \n7337             3             2.08  \n7338             3             0.10  \n7339             3           283.00  \n\n[286 rows x 13 columns]\nKitting Line 17 Completed!\n               Start Time          Finish Time                Activity  \\\n7340    2019-1-1 00:00:00  2020-10-15 06:10:51          Factory Closed   \n7341  2020-10-15 06:10:51  2020-10-15 06:11:21  Preparation/Changeover   \n7342  2020-10-15 06:11:21  2020-10-15 06:11:59              Production   \n7343  2020-10-15 06:11:59  2020-10-15 06:15:36              Production   \n7344  2020-10-15 06:15:36  2020-10-15 06:21:16              Production   \n...                   ...                  ...                     ...   \n7554  2020-10-19 15:08:47  2020-10-19 15:10:32              Production   \n7555  2020-10-19 15:10:32  2020-10-19 15:14:25                   Break   \n7556  2020-10-19 15:14:25  2020-10-19 15:15:01              Production   \n7557  2020-10-19 15:15:01  2020-10-19 15:19:12              Production   \n7558  2020-10-19 15:19:12  2020-10-19 15:20:02                     TBD   \n\n          Seq Code Recipe Name     Break Reasons Missing Ingredients  \\\n7340           NaN          S4               NaN                 NaN   \n7341           NaN          S4               NaN                 NaN   \n7342  0001 of 0007          S4               NaN                 NaN   \n7343  0002 of 0007          S4               NaN                 NaN   \n7344  0003 of 0007          S4               NaN                 NaN   \n...            ...         ...               ...                 ...   \n7554           NaN          S4               NaN                 NaN   \n7555           NaN          S4  missing products      Coriander, 10g   \n7556  0007 of 0008          S4               NaN                 NaN   \n7557  0008 of 0008          S4               NaN                 NaN   \n7558           NaN          S4               NaN                 NaN   \n\n     Kitting Line      Assembly Batch       Event Shift         Team Leader  \\\n7340          NaN                      Thursday Morning         LEON JOKOM;   \n7341         KL18                      Thursday Morning         LEON JOKOM;   \n7342         KL18  Wednesday Assembly  Thursday Morning         LEON JOKOM;   \n7343         KL18  Wednesday Assembly  Thursday Morning         LEON JOKOM;   \n7344         KL18  Wednesday Assembly  Thursday Morning         LEON JOKOM;   \n...           ...                 ...               ...                 ...   \n7554         KL18                      Monday Afternoon  iXUsr_Kurnia(6899)   \n7555         KL18                      Monday Afternoon  iXUsr_Kurnia(6899)   \n7556         KL18    Tuesday Assembly  Monday Afternoon  iXUsr_Kurnia(6899)   \n7557         KL18    Tuesday Assembly  Monday Afternoon  iXUsr_Kurnia(6899)   \n7558         KL18                      Monday Afternoon  iXUsr_Kurnia(6899)   \n\n     Pickers Count Time Consumption  \n7340             3           370.85  \n7341             3             0.50  \n7342             3             0.63  \n7343             3             3.62  \n7344             3             5.67  \n...            ...              ...  \n7554             3             1.75  \n7555             3             3.88  \n7556             3             0.60  \n7557             3             4.18  \n7558             3             0.83  \n\n[219 rows x 13 columns]\nKitting Line 18 Completed!\n               Start Time          Finish Time                Activity  \\\n7559    2019-1-1 00:00:00  2020-10-15 06:49:37          Factory Closed   \n7560  2020-10-15 06:49:37  2020-10-15 06:53:16  Preparation/Changeover   \n7561  2020-10-15 06:53:16  2020-10-15 06:53:38              Production   \n7562  2020-10-15 06:53:38  2020-10-15 06:56:40              Production   \n7563  2020-10-15 06:56:40  2020-10-15 07:00:37              Production   \n...                   ...                  ...                     ...   \n7824  2020-10-17 19:42:05  2020-10-17 19:42:23  Preparation/Changeover   \n7825  2020-10-17 19:42:23  2020-10-17 19:50:50              Production   \n7826  2020-10-17 19:50:50  2020-10-17 19:51:01              Production   \n7827  2020-10-17 19:51:01  2020-10-17 19:53:37              Production   \n7828  2020-10-17 19:53:37  2020-10-17 19:54:52              Production   \n\n          Seq Code Recipe Name Break Reasons Missing Ingredients Kitting Line  \\\n7559           NaN          T4           NaN                 NaN          NaN   \n7560           NaN          T4           NaN                 NaN         KL19   \n7561  0001 of 0007          T4           NaN                 NaN         KL19   \n7562  0002 of 0007          T4           NaN                 NaN         KL19   \n7563  0003 of 0007          T4           NaN                 NaN         KL19   \n...            ...         ...           ...                 ...          ...   \n7824           NaN          T4           NaN                 NaN         KL19   \n7825  0001 of 0004          T2           NaN                 NaN         KL19   \n7826  0002 of 0004          T2           NaN                 NaN         KL19   \n7827  0003 of 0004          T2           NaN                 NaN         KL19   \n7828  0004 of 0004          T2           NaN                 NaN         KL19   \n\n          Assembly Batch         Event Shift            Team Leader  \\\n7559                        Thursday Morning            LEON JOKOM;   \n7560                        Thursday Morning            LEON JOKOM;   \n7561  Wednesday Assembly    Thursday Morning            LEON JOKOM;   \n7562  Wednesday Assembly    Thursday Morning            LEON JOKOM;   \n7563  Wednesday Assembly    Thursday Morning            LEON JOKOM;   \n...                  ...                 ...                    ...   \n7824                      Saturday Afternoon  iXUsr_Ye'Rafael(8520)   \n7825   Thursday Assembly  Saturday Afternoon  iXUsr_Ye'Rafael(8520)   \n7826   Thursday Assembly  Saturday Afternoon  iXUsr_Ye'Rafael(8520)   \n7827   Thursday Assembly  Saturday Afternoon  iXUsr_Ye'Rafael(8520)   \n7828   Thursday Assembly  Saturday Afternoon  iXUsr_Ye'Rafael(8520)   \n\n     Pickers Count Time Consumption  \n7559             3           409.62  \n7560             3             3.65  \n7561             3             0.37  \n7562             3             3.03  \n7563             3             3.95  \n...            ...              ...  \n7824             3             0.30  \n7825             3             8.45  \n7826             3             0.18  \n7827             3             2.60  \n7828             3             1.25  \n\n[270 rows x 13 columns]\nKitting Line 19 Completed!\n               Start Time          Finish Time                Activity  \\\n7829    2019-1-1 00:00:00  2020-10-15 06:14:08          Factory Closed   \n7830  2020-10-15 06:14:08  2020-10-15 06:14:17  Preparation/Changeover   \n7831  2020-10-15 06:14:17  2020-10-15 06:14:26              Production   \n7832  2020-10-15 06:14:26  2020-10-15 06:22:06              Production   \n7833  2020-10-15 06:22:06  2020-10-15 06:26:10              Production   \n...                   ...                  ...                     ...   \n7969  2020-10-10 07:52:15  2020-10-10 07:56:29              Production   \n7970  2020-10-10 07:56:29  2020-10-10 08:01:52              Production   \n7971  2020-10-10 08:01:52  2020-10-10 08:06:58              Production   \n7972  2020-10-10 08:06:58  2020-10-10 08:11:58              Production   \n7973  2020-10-10 08:11:58  2020-10-10 08:13:06              Production   \n\n          Seq Code Recipe Name Break Reasons Missing Ingredients Kitting Line  \\\n7829           NaN          O4           NaN                 NaN          NaN   \n7830           NaN          O4           NaN                 NaN         KL20   \n7831  0001 of 0003          O4           NaN                 NaN         KL20   \n7832  0002 of 0003          O4           NaN                 NaN         KL20   \n7833  0003 of 0003          O4           NaN                 NaN         KL20   \n...            ...         ...           ...                 ...          ...   \n7969  0003 of 0007          G4           NaN                 NaN         KL20   \n7970  0004 of 0007          G4           NaN                 NaN         KL20   \n7971  0005 of 0007          G4           NaN                 NaN         KL20   \n7972  0006 of 0007          G4           NaN                 NaN         KL20   \n7973  0007 of 0007          G4           NaN                 NaN         KL20   \n\n          Assembly Batch       Event Shift         Team Leader Pickers Count  \\\n7829                      Thursday Morning  iXUsr_Joanne(6854)             4   \n7830                      Thursday Morning  iXUsr_Joanne(6854)             4   \n7831  Wednesday Assembly  Thursday Morning  iXUsr_Joanne(6854)             4   \n7832  Wednesday Assembly  Thursday Morning  iXUsr_Joanne(6854)             4   \n7833  Wednesday Assembly  Thursday Morning  iXUsr_Joanne(6854)             4   \n...                  ...               ...                 ...           ...   \n7969     Sunday Assembly  Saturday Morning    iXUsr_Gael(7447)             2   \n7970     Sunday Assembly  Saturday Morning    iXUsr_Gael(7447)             2   \n7971     Sunday Assembly  Saturday Morning    iXUsr_Gael(7447)             2   \n7972     Sunday Assembly  Saturday Morning    iXUsr_Gael(7447)             2   \n7973     Sunday Assembly  Saturday Morning    iXUsr_Gael(7447)             2   \n\n     Time Consumption  \n7829           374.13  \n7830             0.15  \n7831             0.15  \n7832             7.67  \n7833             4.07  \n...               ...  \n7969             4.23  \n7970             5.38  \n7971             5.10  \n7972             5.00  \n7973             1.13  \n\n[145 rows x 13 columns]\nKitting Line 20 Completed!\n"
    }
   ],
   "source": [
    "for kl in range(1,21):\n",
    "    df_temp_raw = staged_df.loc[staged_df['Kitting Line'] == 'KL%s'%kl]\n",
    "    if df_temp_raw.empty:\n",
    "        print(\"Kitting Line %r is not included!\" %(kl))  # if data frame is empty\n",
    "    #print(df_temp_raw)\n",
    "    else:\n",
    "        seg = main(df_temp_raw)\n",
    "        #print(seg)\n",
    "        df_final = pd.concat([df_final, seg], sort = False)\n",
    "        print(\"Kitting Line %r Completed!\" %(kl))\n"
   ]
  },
  {
   "cell_type": "code",
   "execution_count": 11,
   "metadata": {},
   "outputs": [
    {
     "output_type": "execute_result",
     "data": {
      "text/plain": "               Start Time          Finish Time    Activity      Seq Code  \\\n7969  2020-10-10 07:52:15  2020-10-10 07:56:29  Production  0003 of 0007   \n7970  2020-10-10 07:56:29  2020-10-10 08:01:52  Production  0004 of 0007   \n7971  2020-10-10 08:01:52  2020-10-10 08:06:58  Production  0005 of 0007   \n7972  2020-10-10 08:06:58  2020-10-10 08:11:58  Production  0006 of 0007   \n7973  2020-10-10 08:11:58  2020-10-10 08:13:06  Production  0007 of 0007   \n\n     Recipe Name Break Reasons Missing Ingredients Kitting Line  \\\n7969          G4           NaN                 NaN         KL20   \n7970          G4           NaN                 NaN         KL20   \n7971          G4           NaN                 NaN         KL20   \n7972          G4           NaN                 NaN         KL20   \n7973          G4           NaN                 NaN         KL20   \n\n       Assembly Batch       Event Shift       Team Leader Pickers Count  \\\n7969  Sunday Assembly  Saturday Morning  iXUsr_Gael(7447)             2   \n7970  Sunday Assembly  Saturday Morning  iXUsr_Gael(7447)             2   \n7971  Sunday Assembly  Saturday Morning  iXUsr_Gael(7447)             2   \n7972  Sunday Assembly  Saturday Morning  iXUsr_Gael(7447)             2   \n7973  Sunday Assembly  Saturday Morning  iXUsr_Gael(7447)             2   \n\n     Time Consumption     Week  \n7969             4.23  2020-43  \n7970             5.38  2020-43  \n7971             5.10  2020-43  \n7972             5.00  2020-43  \n7973             1.13  2020-43  ",
      "text/html": "<div>\n<style scoped>\n    .dataframe tbody tr th:only-of-type {\n        vertical-align: middle;\n    }\n\n    .dataframe tbody tr th {\n        vertical-align: top;\n    }\n\n    .dataframe thead th {\n        text-align: right;\n    }\n</style>\n<table border=\"1\" class=\"dataframe\">\n  <thead>\n    <tr style=\"text-align: right;\">\n      <th></th>\n      <th>Start Time</th>\n      <th>Finish Time</th>\n      <th>Activity</th>\n      <th>Seq Code</th>\n      <th>Recipe Name</th>\n      <th>Break Reasons</th>\n      <th>Missing Ingredients</th>\n      <th>Kitting Line</th>\n      <th>Assembly Batch</th>\n      <th>Event Shift</th>\n      <th>Team Leader</th>\n      <th>Pickers Count</th>\n      <th>Time Consumption</th>\n      <th>Week</th>\n    </tr>\n  </thead>\n  <tbody>\n    <tr>\n      <th>7969</th>\n      <td>2020-10-10 07:52:15</td>\n      <td>2020-10-10 07:56:29</td>\n      <td>Production</td>\n      <td>0003 of 0007</td>\n      <td>G4</td>\n      <td>NaN</td>\n      <td>NaN</td>\n      <td>KL20</td>\n      <td>Sunday Assembly</td>\n      <td>Saturday Morning</td>\n      <td>iXUsr_Gael(7447)</td>\n      <td>2</td>\n      <td>4.23</td>\n      <td>2020-43</td>\n    </tr>\n    <tr>\n      <th>7970</th>\n      <td>2020-10-10 07:56:29</td>\n      <td>2020-10-10 08:01:52</td>\n      <td>Production</td>\n      <td>0004 of 0007</td>\n      <td>G4</td>\n      <td>NaN</td>\n      <td>NaN</td>\n      <td>KL20</td>\n      <td>Sunday Assembly</td>\n      <td>Saturday Morning</td>\n      <td>iXUsr_Gael(7447)</td>\n      <td>2</td>\n      <td>5.38</td>\n      <td>2020-43</td>\n    </tr>\n    <tr>\n      <th>7971</th>\n      <td>2020-10-10 08:01:52</td>\n      <td>2020-10-10 08:06:58</td>\n      <td>Production</td>\n      <td>0005 of 0007</td>\n      <td>G4</td>\n      <td>NaN</td>\n      <td>NaN</td>\n      <td>KL20</td>\n      <td>Sunday Assembly</td>\n      <td>Saturday Morning</td>\n      <td>iXUsr_Gael(7447)</td>\n      <td>2</td>\n      <td>5.10</td>\n      <td>2020-43</td>\n    </tr>\n    <tr>\n      <th>7972</th>\n      <td>2020-10-10 08:06:58</td>\n      <td>2020-10-10 08:11:58</td>\n      <td>Production</td>\n      <td>0006 of 0007</td>\n      <td>G4</td>\n      <td>NaN</td>\n      <td>NaN</td>\n      <td>KL20</td>\n      <td>Sunday Assembly</td>\n      <td>Saturday Morning</td>\n      <td>iXUsr_Gael(7447)</td>\n      <td>2</td>\n      <td>5.00</td>\n      <td>2020-43</td>\n    </tr>\n    <tr>\n      <th>7973</th>\n      <td>2020-10-10 08:11:58</td>\n      <td>2020-10-10 08:13:06</td>\n      <td>Production</td>\n      <td>0007 of 0007</td>\n      <td>G4</td>\n      <td>NaN</td>\n      <td>NaN</td>\n      <td>KL20</td>\n      <td>Sunday Assembly</td>\n      <td>Saturday Morning</td>\n      <td>iXUsr_Gael(7447)</td>\n      <td>2</td>\n      <td>1.13</td>\n      <td>2020-43</td>\n    </tr>\n  </tbody>\n</table>\n</div>"
     },
     "metadata": {},
     "execution_count": 11
    }
   ],
   "source": [
    "## Attach a column to identify the Week\n",
    "## Update weekly\n",
    "df_final['Week'] = '2020-43'\n",
    "df_final.tail()"
   ]
  },
  {
   "cell_type": "code",
   "execution_count": 12,
   "metadata": {},
   "outputs": [],
   "source": [
    "df_final.to_csv(r'C:\\Users\\Peiran Quan\\Desktop\\python_data_preparation\\prepared.csv', index = False) # Can change file path here"
   ]
  }
 ],
 "metadata": {
  "kernelspec": {
   "display_name": "Python 3",
   "language": "python",
   "name": "python3"
  },
  "language_info": {
   "codemirror_mode": {
    "name": "ipython",
    "version": 3
   },
   "file_extension": ".py",
   "mimetype": "text/x-python",
   "name": "python",
   "nbconvert_exporter": "python",
   "pygments_lexer": "ipython3",
   "version": "3.8.6-final"
  }
 },
 "nbformat": 4,
 "nbformat_minor": 4
}