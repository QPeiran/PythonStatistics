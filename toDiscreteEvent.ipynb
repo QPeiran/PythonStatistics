{
 "cells": [
  {
   "cell_type": "code",
   "execution_count": 1,
   "metadata": {},
   "outputs": [],
   "source": [
    "import pandas as pd\n",
    "import datetime as dt\n",
    "import re as re"
   ]
  },
  {
   "cell_type": "code",
   "execution_count": 2,
   "metadata": {},
   "outputs": [],
   "source": [
    "#the event is depending on the barcode scanned afterwoards\n",
    "\n",
    "def activity_dependency(barcode):\n",
    "    switcher = {\n",
    "        'Production Start': 'Factory Closed',\n",
    "        'New Recipe Start': 'Preparation/Changeover',\n",
    "        'Break End': 'Break',\n",
    "        'Production Finish': 'TBD'\n",
    "    }\n",
    "    return switcher.get(barcode, 'Production')"
   ]
  },
  {
   "cell_type": "code",
   "execution_count": 3,
   "metadata": {},
   "outputs": [],
   "source": [
    "# 7 days of Assembly\n",
    "\n",
    "def batchcode_dependency(batchcoded):\n",
    "    switcher = {\n",
    "        1: 'Friday Assembly',\n",
    "        2: 'Saturday Assembly',\n",
    "        3: 'Sunday Assembly',\n",
    "        4: 'Monday Assembly',\n",
    "        5: 'Tuesday Assembly',\n",
    "        6: 'Wednesday Assembly',\n",
    "        7: 'Thursday Assembly'\n",
    "    }\n",
    "    return switcher.get(batchcoded, '')"
   ]
  },
  {
   "cell_type": "code",
   "execution_count": 4,
   "metadata": {},
   "outputs": [],
   "source": [
    "# morning shift -- 5:00 to 14:00\n",
    "# afternoon shift -- 14:00 to 23:00\n",
    "# Error -- Events compeleted in other time periods\n",
    "\n",
    "def categorize_event_shift(timestamp):\n",
    "    weekday_index = pd.Timestamp(timestamp).weekday()\n",
    "    switcher = {\n",
    "        0: 'Monday',\n",
    "        1: 'Tuesday',\n",
    "        2: 'Wednesday',\n",
    "        3: 'Thursday',\n",
    "        4: 'Friday',\n",
    "        5: 'Saturday',\n",
    "        6: 'Sunday'\n",
    "    }\n",
    "    weekday = switcher.get(weekday_index,'')\n",
    "    hour = pd.Timestamp(timestamp).hour\n",
    "    if hour in range(5,14):\n",
    "        shift = 'Morning'\n",
    "    elif hour in range(14,23):\n",
    "        shift = 'Afternoon'\n",
    "    else:\n",
    "        shift = 'Error'\n",
    "    return weekday +' '+ shift"
   ]
  },
  {
   "cell_type": "code",
   "execution_count": 5,
   "metadata": {},
   "outputs": [],
   "source": [
    "#calculting time cost to sec\n",
    "\n",
    "def time_consumption(timestamp1,timestamp2):\n",
    "    t1 = pd.to_datetime(timestamp1)\n",
    "    t2 = pd.to_datetime(timestamp2)\n",
    "    InMin = pd.Timedelta(t2-t1).seconds/60.0\n",
    "    return format(InMin, '.2f')\n"
   ]
  },
  {
   "cell_type": "code",
   "execution_count": 6,
   "metadata": {},
   "outputs": [],
   "source": [
    "# count how many pickers for ever events (+2 to get the total amount of people on this kitting line)\n",
    "\n",
    "def count_pickers(picker):\n",
    "    pattern = re.compile(r';|_|,')  ## <- temporary solutions overhere, may change according to the labels printed\n",
    "    picker_array = pattern.findall(picker)  \n",
    "    return len(picker_array)"
   ]
  },
  {
   "cell_type": "code",
   "execution_count": 7,
   "metadata": {},
   "outputs": [
    {
     "output_type": "execute_result",
     "data": {
      "text/plain": [
       "                   Barcode  Production Batch Recipe and P Timestamp  \\\n",
       "0         Production Start               NaN          NaN  06:05:04   \n",
       "1         New Recipe Start               NaN          NaN  06:08:41   \n",
       "2  652I4$$$$$$$$0001000501               6.0           I4  06:12:30   \n",
       "3  652I4$$$$$$$$0002000501               6.0           I4  06:17:15   \n",
       "4  652I4$$$$$$$$0003000501               6.0           I4  06:21:39   \n",
       "\n",
       "                  Date      Seq Code  Week            Team Leader  \\\n",
       "0  2020-12-17 00:00:00           NaN   NaN  iXUsr_Strzeletz(6101)   \n",
       "1  2020-12-17 00:00:00           NaN   NaN  iXUsr_Strzeletz(6101)   \n",
       "2  2020-12-17 00:00:00  0001 of 0005  52.0  iXUsr_Strzeletz(6101)   \n",
       "3  2020-12-17 00:00:00  0002 of 0005  52.0  iXUsr_Strzeletz(6101)   \n",
       "4  2020-12-17 00:00:00  0003 of 0005  52.0  iXUsr_Strzeletz(6101)   \n",
       "\n",
       "           Replenisher                                            Pickers  \\\n",
       "0  iXUsr_DeGreat(9213)  iXUsr_TEAMOKE(8365)iXUsr_Goei(9836)iXUsr_Steyn...   \n",
       "1  iXUsr_DeGreat(9213)  iXUsr_TEAMOKE(8365)iXUsr_Goei(9836)iXUsr_Steyn...   \n",
       "2  iXUsr_DeGreat(9213)  iXUsr_TEAMOKE(8365)iXUsr_Goei(9836)iXUsr_Steyn...   \n",
       "3  iXUsr_DeGreat(9213)  iXUsr_TEAMOKE(8365)iXUsr_Goei(9836)iXUsr_Steyn...   \n",
       "4  iXUsr_DeGreat(9213)  iXUsr_TEAMOKE(8365)iXUsr_Goei(9836)iXUsr_Steyn...   \n",
       "\n",
       "  Break Reasons Missing Products Kitting Line   Timestamp and Date  \n",
       "0           NaN              NaN          KL1  2020-12-17 06:05:04  \n",
       "1           NaN              NaN          KL1  2020-12-17 06:08:41  \n",
       "2           NaN              NaN          KL1  2020-12-17 06:12:30  \n",
       "3           NaN              NaN          KL1  2020-12-17 06:17:15  \n",
       "4           NaN              NaN          KL1  2020-12-17 06:21:39  "
      ],
      "text/html": "<div>\n<style scoped>\n    .dataframe tbody tr th:only-of-type {\n        vertical-align: middle;\n    }\n\n    .dataframe tbody tr th {\n        vertical-align: top;\n    }\n\n    .dataframe thead th {\n        text-align: right;\n    }\n</style>\n<table border=\"1\" class=\"dataframe\">\n  <thead>\n    <tr style=\"text-align: right;\">\n      <th></th>\n      <th>Barcode</th>\n      <th>Production Batch</th>\n      <th>Recipe and P</th>\n      <th>Timestamp</th>\n      <th>Date</th>\n      <th>Seq Code</th>\n      <th>Week</th>\n      <th>Team Leader</th>\n      <th>Replenisher</th>\n      <th>Pickers</th>\n      <th>Break Reasons</th>\n      <th>Missing Products</th>\n      <th>Kitting Line</th>\n      <th>Timestamp and Date</th>\n    </tr>\n  </thead>\n  <tbody>\n    <tr>\n      <th>0</th>\n      <td>Production Start</td>\n      <td>NaN</td>\n      <td>NaN</td>\n      <td>06:05:04</td>\n      <td>2020-12-17 00:00:00</td>\n      <td>NaN</td>\n      <td>NaN</td>\n      <td>iXUsr_Strzeletz(6101)</td>\n      <td>iXUsr_DeGreat(9213)</td>\n      <td>iXUsr_TEAMOKE(8365)iXUsr_Goei(9836)iXUsr_Steyn...</td>\n      <td>NaN</td>\n      <td>NaN</td>\n      <td>KL1</td>\n      <td>2020-12-17 06:05:04</td>\n    </tr>\n    <tr>\n      <th>1</th>\n      <td>New Recipe Start</td>\n      <td>NaN</td>\n      <td>NaN</td>\n      <td>06:08:41</td>\n      <td>2020-12-17 00:00:00</td>\n      <td>NaN</td>\n      <td>NaN</td>\n      <td>iXUsr_Strzeletz(6101)</td>\n      <td>iXUsr_DeGreat(9213)</td>\n      <td>iXUsr_TEAMOKE(8365)iXUsr_Goei(9836)iXUsr_Steyn...</td>\n      <td>NaN</td>\n      <td>NaN</td>\n      <td>KL1</td>\n      <td>2020-12-17 06:08:41</td>\n    </tr>\n    <tr>\n      <th>2</th>\n      <td>652I4$$$$$$$$0001000501</td>\n      <td>6.0</td>\n      <td>I4</td>\n      <td>06:12:30</td>\n      <td>2020-12-17 00:00:00</td>\n      <td>0001 of 0005</td>\n      <td>52.0</td>\n      <td>iXUsr_Strzeletz(6101)</td>\n      <td>iXUsr_DeGreat(9213)</td>\n      <td>iXUsr_TEAMOKE(8365)iXUsr_Goei(9836)iXUsr_Steyn...</td>\n      <td>NaN</td>\n      <td>NaN</td>\n      <td>KL1</td>\n      <td>2020-12-17 06:12:30</td>\n    </tr>\n    <tr>\n      <th>3</th>\n      <td>652I4$$$$$$$$0002000501</td>\n      <td>6.0</td>\n      <td>I4</td>\n      <td>06:17:15</td>\n      <td>2020-12-17 00:00:00</td>\n      <td>0002 of 0005</td>\n      <td>52.0</td>\n      <td>iXUsr_Strzeletz(6101)</td>\n      <td>iXUsr_DeGreat(9213)</td>\n      <td>iXUsr_TEAMOKE(8365)iXUsr_Goei(9836)iXUsr_Steyn...</td>\n      <td>NaN</td>\n      <td>NaN</td>\n      <td>KL1</td>\n      <td>2020-12-17 06:17:15</td>\n    </tr>\n    <tr>\n      <th>4</th>\n      <td>652I4$$$$$$$$0003000501</td>\n      <td>6.0</td>\n      <td>I4</td>\n      <td>06:21:39</td>\n      <td>2020-12-17 00:00:00</td>\n      <td>0003 of 0005</td>\n      <td>52.0</td>\n      <td>iXUsr_Strzeletz(6101)</td>\n      <td>iXUsr_DeGreat(9213)</td>\n      <td>iXUsr_TEAMOKE(8365)iXUsr_Goei(9836)iXUsr_Steyn...</td>\n      <td>NaN</td>\n      <td>NaN</td>\n      <td>KL1</td>\n      <td>2020-12-17 06:21:39</td>\n    </tr>\n  </tbody>\n</table>\n</div>"
     },
     "metadata": {},
     "execution_count": 7
    }
   ],
   "source": [
    "staged_df = pd.read_csv(r'C:\\Users\\Peiran Quan\\Desktop\\python_data_preparation\\staged.csv')  # Can change file path here\n",
    "staged_df.head()"
   ]
  },
  {
   "cell_type": "code",
   "execution_count": 8,
   "metadata": {},
   "outputs": [],
   "source": [
    "# copy raw df\n",
    "df_final = pd.DataFrame(data=None) #df is the event data frame"
   ]
  },
  {
   "cell_type": "code",
   "execution_count": 9,
   "metadata": {},
   "outputs": [],
   "source": [
    "def main(df_temp_raw):\n",
    "    df_temp_event = pd.DataFrame(columns=('Start Time', 'Finish Time', 'Activity', 'Seq Code' ,'Recipe Name', 'Break Reasons', 'Missing Ingredients', 'Kitting Line', 'Assembly Batch', 'Event Shift', 'Team Leader', 'Pickers Count', 'Time Consumption'))\n",
    "    index_align = df_temp_raw.first_valid_index() # pandas is using the df_temp_raw's frame index whenever df_temp_raw is called\n",
    "    df_temp_event['Finish Time'] = df_temp_raw['Timestamp and Date']\n",
    "    df_temp_event['Seq Code'] = df_temp_raw['Seq Code']\n",
    "    df_temp_event['Start Time'].loc[index_align] = '2019-1-1 00:00:00'\n",
    "    #df_temp_event['Recipe Name'][1] = df_temp_raw['Recipe and P'].loc[df_temp_raw['Recipe and P'].first_valid_index()]\n",
    "    #print(df_temp_event)\n",
    "    df_temp_raw.loc[index_align, 'Recipe and P'] = df_temp_raw['Recipe and P'].loc[df_temp_raw['Recipe and P'].first_valid_index()] #ignore the warning -- data type is not changing, the return is in VIEW\n",
    "\n",
    "    for i in range (len(df_temp_raw)):\n",
    "        df_temp_event['Start Time'].loc[index_align+i+1] = df_temp_raw['Timestamp and Date'].loc[index_align+i]\n",
    "        df_temp_event['Activity'].loc[index_align+i] = activity_dependency(df_temp_raw['Barcode'].loc[index_align+i])\n",
    "        df_temp_event['Break Reasons'].loc[index_align+i+1] = df_temp_raw['Break Reasons'].loc[index_align+i]\n",
    "        df_temp_event['Missing Ingredients'].loc[index_align+i+1] = df_temp_raw['Missing Products'].loc[index_align+i]\n",
    "        df_temp_event['Kitting Line'].loc[index_align+i+1] = df_temp_raw['Kitting Line'].loc[index_align+i]\n",
    "        df_temp_event['Assembly Batch'].loc[index_align+i] = batchcode_dependency(df_temp_raw['Production Batch'].loc[index_align+i])\n",
    "        df_temp_event['Time Consumption'].loc[index_align+i] = time_consumption(df_temp_event['Start Time'].loc[index_align+i], df_temp_event['Finish Time'].loc[index_align+i])\n",
    "        df_temp_event['Event Shift'].loc[index_align+i] = categorize_event_shift(df_temp_event['Finish Time'].loc[index_align+i])\n",
    "        df_temp_event['Team Leader'].loc[index_align+i] = df_temp_raw['Team Leader'].loc[index_align+i]\n",
    "        df_temp_event['Pickers Count'].loc[index_align+i] = count_pickers(df_temp_raw['Pickers'].loc[index_align+i])\n",
    "        #print(df_temp_event)\n",
    "        \"\"\"\n",
    "        for j in range (len(df_temp_raw)):  #############################################\n",
    "            print(df_temp_raw['Recipe and P'][::-1].loc[(index_align + j):])\n",
    "            reversed_index = df_temp_raw['Recipe and P'][::-1].loc[(index_align + j):].first_valid_index()\n",
    "        \"\"\"\n",
    "        #df_temp_raw['Recipe and P'][index_align] = df_temp_raw['Recipe and P'].loc[df_temp_raw['Recipe and P'].first_valid_index()]\n",
    "        recipe_index = df_temp_raw['Recipe and P'].loc[0:index_align+i].last_valid_index()\n",
    "        #print(recipe_index)\n",
    "        df_temp_event['Recipe Name'].loc[index_align+i] = df_temp_raw['Recipe and P'].loc[recipe_index]\n",
    "        #print(df_temp_raw['Recipe and P'].loc[recipe_index])\n",
    "    #print(df_temp_event)\n",
    "    return df_temp_event"
   ]
  },
  {
   "cell_type": "code",
   "execution_count": 10,
   "metadata": {
    "tags": []
   },
   "outputs": [
    {
     "output_type": "stream",
     "name": "stdout",
     "text": [
      "Kitting Line 1 Completed!\n",
      "Kitting Line 2 Completed!\n",
      "Kitting Line 3 Completed!\n",
      "Kitting Line 4 Completed!\n",
      "Kitting Line 5 Completed!\n",
      "Kitting Line 6 Completed!\n",
      "Kitting Line 7 Completed!\n",
      "Kitting Line 8 Completed!\n",
      "Kitting Line 9 Completed!\n",
      "Kitting Line 10 Completed!\n",
      "Kitting Line 11 Completed!\n",
      "Kitting Line 12 Completed!\n",
      "Kitting Line 13 Completed!\n",
      "Kitting Line 14 Completed!\n",
      "Kitting Line 15 Completed!\n",
      "Kitting Line 16 Completed!\n",
      "Kitting Line 17 Completed!\n",
      "Kitting Line 18 Completed!\n",
      "Kitting Line 19 Completed!\n",
      "Kitting Line 20 Completed!\n"
     ]
    }
   ],
   "source": [
    "for kl in range(1,21):\n",
    "    df_temp_raw = staged_df.loc[staged_df['Kitting Line'] == 'KL%s'%kl]\n",
    "    if df_temp_raw.empty:\n",
    "        print(\"Kitting Line %r is not included!\" %(kl))  # if data frame is empty\n",
    "    #print(df_temp_raw)\n",
    "    else:\n",
    "        seg = main(df_temp_raw)\n",
    "        #print(seg)\n",
    "        df_final = pd.concat([df_final, seg], sort = False)\n",
    "        print(\"Kitting Line %r Completed!\" %(kl))\n"
   ]
  },
  {
   "cell_type": "code",
   "execution_count": 11,
   "metadata": {},
   "outputs": [
    {
     "output_type": "execute_result",
     "data": {
      "text/plain": [
       "               Start Time          Finish Time                Activity  \\\n",
       "3814  2020-12-21 06:20:46  2020-12-21 07:41:57                   Break   \n",
       "3815  2020-12-21 07:41:57  2020-12-21 07:42:08  Preparation/Changeover   \n",
       "3816  2020-12-21 07:42:08  2020-12-21 07:43:43              Production   \n",
       "3817  2020-12-21 07:43:43  2020-12-21 07:51:58              Production   \n",
       "3818  2020-12-21 07:51:58  2020-12-21 09:47:34                     TBD   \n",
       "\n",
       "          Seq Code Recipe Name       Break Reasons Missing Ingredients  \\\n",
       "3814           NaN          R4  move to other line                 NaN   \n",
       "3815           NaN          R4                 NaN                 NaN   \n",
       "3816  0001 of 0002          R2                 NaN                 NaN   \n",
       "3817  0002 of 0002          R2                 NaN                 NaN   \n",
       "3818           NaN          R2                 NaN                 NaN   \n",
       "\n",
       "     Kitting Line    Assembly Batch     Event Shift         Team Leader  \\\n",
       "3814         KL20                    Monday Morning  iXUsr_Ushida(8909)   \n",
       "3815         KL20                    Monday Morning  iXUsr_Ushida(8909)   \n",
       "3816         KL20  Tuesday Assembly  Monday Morning  iXUsr_Ushida(8909)   \n",
       "3817         KL20  Tuesday Assembly  Monday Morning  iXUsr_Ushida(8909)   \n",
       "3818         KL20                    Monday Morning  iXUsr_Ushida(8909)   \n",
       "\n",
       "     Pickers Count Time Consumption     Week  \n",
       "3814             1            81.18  2020-52  \n",
       "3815             1             0.18  2020-52  \n",
       "3816             1             1.58  2020-52  \n",
       "3817             1             8.25  2020-52  \n",
       "3818             1           115.60  2020-52  "
      ],
      "text/html": "<div>\n<style scoped>\n    .dataframe tbody tr th:only-of-type {\n        vertical-align: middle;\n    }\n\n    .dataframe tbody tr th {\n        vertical-align: top;\n    }\n\n    .dataframe thead th {\n        text-align: right;\n    }\n</style>\n<table border=\"1\" class=\"dataframe\">\n  <thead>\n    <tr style=\"text-align: right;\">\n      <th></th>\n      <th>Start Time</th>\n      <th>Finish Time</th>\n      <th>Activity</th>\n      <th>Seq Code</th>\n      <th>Recipe Name</th>\n      <th>Break Reasons</th>\n      <th>Missing Ingredients</th>\n      <th>Kitting Line</th>\n      <th>Assembly Batch</th>\n      <th>Event Shift</th>\n      <th>Team Leader</th>\n      <th>Pickers Count</th>\n      <th>Time Consumption</th>\n      <th>Week</th>\n    </tr>\n  </thead>\n  <tbody>\n    <tr>\n      <th>3814</th>\n      <td>2020-12-21 06:20:46</td>\n      <td>2020-12-21 07:41:57</td>\n      <td>Break</td>\n      <td>NaN</td>\n      <td>R4</td>\n      <td>move to other line</td>\n      <td>NaN</td>\n      <td>KL20</td>\n      <td></td>\n      <td>Monday Morning</td>\n      <td>iXUsr_Ushida(8909)</td>\n      <td>1</td>\n      <td>81.18</td>\n      <td>2020-52</td>\n    </tr>\n    <tr>\n      <th>3815</th>\n      <td>2020-12-21 07:41:57</td>\n      <td>2020-12-21 07:42:08</td>\n      <td>Preparation/Changeover</td>\n      <td>NaN</td>\n      <td>R4</td>\n      <td>NaN</td>\n      <td>NaN</td>\n      <td>KL20</td>\n      <td></td>\n      <td>Monday Morning</td>\n      <td>iXUsr_Ushida(8909)</td>\n      <td>1</td>\n      <td>0.18</td>\n      <td>2020-52</td>\n    </tr>\n    <tr>\n      <th>3816</th>\n      <td>2020-12-21 07:42:08</td>\n      <td>2020-12-21 07:43:43</td>\n      <td>Production</td>\n      <td>0001 of 0002</td>\n      <td>R2</td>\n      <td>NaN</td>\n      <td>NaN</td>\n      <td>KL20</td>\n      <td>Tuesday Assembly</td>\n      <td>Monday Morning</td>\n      <td>iXUsr_Ushida(8909)</td>\n      <td>1</td>\n      <td>1.58</td>\n      <td>2020-52</td>\n    </tr>\n    <tr>\n      <th>3817</th>\n      <td>2020-12-21 07:43:43</td>\n      <td>2020-12-21 07:51:58</td>\n      <td>Production</td>\n      <td>0002 of 0002</td>\n      <td>R2</td>\n      <td>NaN</td>\n      <td>NaN</td>\n      <td>KL20</td>\n      <td>Tuesday Assembly</td>\n      <td>Monday Morning</td>\n      <td>iXUsr_Ushida(8909)</td>\n      <td>1</td>\n      <td>8.25</td>\n      <td>2020-52</td>\n    </tr>\n    <tr>\n      <th>3818</th>\n      <td>2020-12-21 07:51:58</td>\n      <td>2020-12-21 09:47:34</td>\n      <td>TBD</td>\n      <td>NaN</td>\n      <td>R2</td>\n      <td>NaN</td>\n      <td>NaN</td>\n      <td>KL20</td>\n      <td></td>\n      <td>Monday Morning</td>\n      <td>iXUsr_Ushida(8909)</td>\n      <td>1</td>\n      <td>115.60</td>\n      <td>2020-52</td>\n    </tr>\n  </tbody>\n</table>\n</div>"
     },
     "metadata": {},
     "execution_count": 11
    }
   ],
   "source": [
    "## Attach a column to identify the Week\n",
    "## Update weekly\n",
    "df_final['Week'] = '2020-52'\n",
    "df_final.tail()"
   ]
  },
  {
   "cell_type": "code",
   "execution_count": 12,
   "metadata": {},
   "outputs": [],
   "source": [
    "df_final.to_csv(r'C:\\Users\\Peiran Quan\\Desktop\\python_data_preparation\\prepared.csv', index = False) # Can change file path here"
   ]
  }
 ],
 "metadata": {
  "kernelspec": {
   "display_name": "Python 3",
   "language": "python",
   "name": "python3"
  },
  "language_info": {
   "codemirror_mode": {
    "name": "ipython",
    "version": 3
   },
   "file_extension": ".py",
   "mimetype": "text/x-python",
   "name": "python",
   "nbconvert_exporter": "python",
   "pygments_lexer": "ipython3",
   "version": "3.8.6-final"
  }
 },
 "nbformat": 4,
 "nbformat_minor": 4
}