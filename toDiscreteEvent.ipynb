{
 "cells": [
  {
   "cell_type": "code",
   "execution_count": 1,
   "metadata": {},
   "outputs": [],
   "source": [
    "import pandas as pd\n",
    "import datetime as dt\n",
    "import re as re"
   ]
  },
  {
   "cell_type": "code",
   "execution_count": 2,
   "metadata": {},
   "outputs": [],
   "source": [
    "#the event is depending on the barcode scanned afterwards\n",
    "\n",
    "def activity_dependency(barcode):\n",
    "    switcher = {\n",
    "        'Production Start': 'Factory Closed',\n",
    "        'New Recipe Start': 'Preparation/Changeover',\n",
    "        'Break End': 'Break',\n",
    "        'Production Finish': 'TBD'\n",
    "    }\n",
    "    return switcher.get(barcode, 'Production')"
   ]
  },
  {
   "cell_type": "code",
   "execution_count": 3,
   "metadata": {},
   "outputs": [],
   "source": [
    "# 8 days of Delivery/Production Batch -- code 7 \"Fri-NI Delivery\" is not currently in use\n",
    "\n",
    "def batchcode_dependency(batchcoded):\n",
    "    switcher = {\n",
    "        1: 'Sat-NI Delivery',\n",
    "        2: 'Sun-NI Delivery',\n",
    "        3: 'Mon-NI Delivery',\n",
    "        4: 'Tue-NI Delivery',\n",
    "        5: 'Wed-NI Delivery',\n",
    "        6: 'Thu-NI Delivery',\n",
    "        7: 'Fri-NI Delivery',\n",
    "        8: 'Sun-SI Delivery',\n",
    "        9: 'Tue-SI Delivery'\n",
    "    }\n",
    "    return switcher.get(batchcoded, '')"
   ]
  },
  {
   "cell_type": "code",
   "execution_count": 4,
   "metadata": {},
   "outputs": [],
   "source": [
    "# morning shift -- 5:00 to 14:00\n",
    "# afternoon shift -- 14:00 to 23:00\n",
    "# Error -- Events compeleted in other time periods\n",
    "\n",
    "def categorize_event_shift(timestamp):\n",
    "    weekday_index = pd.Timestamp(timestamp).weekday()\n",
    "    switcher = {\n",
    "        0: 'Monday',\n",
    "        1: 'Tuesday',\n",
    "        2: 'Wednesday',\n",
    "        3: 'Thursday',\n",
    "        4: 'Friday',\n",
    "        5: 'Saturday',\n",
    "        6: 'Sunday'\n",
    "    }\n",
    "    weekday = switcher.get(weekday_index,'')\n",
    "    hour = pd.Timestamp(timestamp).hour\n",
    "    if hour in range(5,14):\n",
    "        shift = 'Morning'\n",
    "    elif hour in range(14,23):\n",
    "        shift = 'Afternoon'\n",
    "    else:\n",
    "        shift = 'Error'\n",
    "    return weekday +' '+ shift"
   ]
  },
  {
   "cell_type": "code",
   "execution_count": 5,
   "metadata": {},
   "outputs": [],
   "source": [
    "#calculting time cost, sec as unit\n",
    "\n",
    "def time_consumption(timestamp1,timestamp2):\n",
    "    t1 = pd.to_datetime(timestamp1)\n",
    "    t2 = pd.to_datetime(timestamp2)\n",
    "    InMin = pd.Timedelta(t2-t1).seconds/60.0\n",
    "    return format(InMin, '.2f')\n"
   ]
  },
  {
   "cell_type": "code",
   "execution_count": 6,
   "metadata": {},
   "outputs": [],
   "source": [
    "# count how many pickers for ever events (+2 to get the total amount of people on this kitting line)\n",
    "\n",
    "def count_pickers(picker):\n",
    "    pattern = re.compile(r';|_|,')  ## <- temporary solutions overhere, may change according to the labels printed\n",
    "    picker_array = pattern.findall(picker)  \n",
    "    return len(picker_array)"
   ]
  },
  {
   "cell_type": "code",
   "execution_count": 7,
   "metadata": {},
   "outputs": [
    {
     "output_type": "execute_result",
     "data": {
      "text/plain": [
       "                   Barcode  Production Batch Recipe and P Timestamp  \\\n",
       "0         Production Start               NaN          NaN  06:09:20   \n",
       "1         New Recipe Start               NaN          NaN  06:09:32   \n",
       "2  813U4$$$$$$$$0001000301               8.0           U4  06:13:21   \n",
       "3  813U4$$$$$$$$0002000301               8.0           U4  06:17:47   \n",
       "4  813U4$$$$$$$$0003000301               8.0           U4  06:20:48   \n",
       "\n",
       "                  Date      Seq Code  Week            Team Leader  \\\n",
       "0  2021-03-25 00:00:00           NaN   NaN  iXUsr_Strzeletz(6101)   \n",
       "1  2021-03-25 00:00:00           NaN   NaN  iXUsr_Strzeletz(6101)   \n",
       "2  2021-03-25 00:00:00  0001 of 0003  13.0  iXUsr_Strzeletz(6101)   \n",
       "3  2021-03-25 00:00:00  0002 of 0003  13.0  iXUsr_Strzeletz(6101)   \n",
       "4  2021-03-25 00:00:00  0003 of 0003  13.0  iXUsr_Strzeletz(6101)   \n",
       "\n",
       "        Replenisher                                            Pickers  \\\n",
       "0  iXUsr_Yang(7418)  iXUsr_Julie(6746)iXUsr_Fane(6793)iXUsr_Kaur(67...   \n",
       "1  iXUsr_Yang(7418)  iXUsr_Julie(6746)iXUsr_Fane(6793)iXUsr_Kaur(67...   \n",
       "2  iXUsr_Yang(7418)  iXUsr_Julie(6746)iXUsr_Fane(6793)iXUsr_Kaur(67...   \n",
       "3  iXUsr_Yang(7418)  iXUsr_Julie(6746)iXUsr_Fane(6793)iXUsr_Kaur(67...   \n",
       "4  iXUsr_Yang(7418)  iXUsr_Julie(6746)iXUsr_Fane(6793)iXUsr_Kaur(67...   \n",
       "\n",
       "  Break Reasons Missing Products Kitting Line   Timestamp and Date  \n",
       "0           NaN              NaN          KL1  2021-03-25 06:09:20  \n",
       "1           NaN              NaN          KL1  2021-03-25 06:09:32  \n",
       "2           NaN              NaN          KL1  2021-03-25 06:13:21  \n",
       "3           NaN              NaN          KL1  2021-03-25 06:17:47  \n",
       "4           NaN              NaN          KL1  2021-03-25 06:20:48  "
      ],
      "text/html": "<div>\n<style scoped>\n    .dataframe tbody tr th:only-of-type {\n        vertical-align: middle;\n    }\n\n    .dataframe tbody tr th {\n        vertical-align: top;\n    }\n\n    .dataframe thead th {\n        text-align: right;\n    }\n</style>\n<table border=\"1\" class=\"dataframe\">\n  <thead>\n    <tr style=\"text-align: right;\">\n      <th></th>\n      <th>Barcode</th>\n      <th>Production Batch</th>\n      <th>Recipe and P</th>\n      <th>Timestamp</th>\n      <th>Date</th>\n      <th>Seq Code</th>\n      <th>Week</th>\n      <th>Team Leader</th>\n      <th>Replenisher</th>\n      <th>Pickers</th>\n      <th>Break Reasons</th>\n      <th>Missing Products</th>\n      <th>Kitting Line</th>\n      <th>Timestamp and Date</th>\n    </tr>\n  </thead>\n  <tbody>\n    <tr>\n      <th>0</th>\n      <td>Production Start</td>\n      <td>NaN</td>\n      <td>NaN</td>\n      <td>06:09:20</td>\n      <td>2021-03-25 00:00:00</td>\n      <td>NaN</td>\n      <td>NaN</td>\n      <td>iXUsr_Strzeletz(6101)</td>\n      <td>iXUsr_Yang(7418)</td>\n      <td>iXUsr_Julie(6746)iXUsr_Fane(6793)iXUsr_Kaur(67...</td>\n      <td>NaN</td>\n      <td>NaN</td>\n      <td>KL1</td>\n      <td>2021-03-25 06:09:20</td>\n    </tr>\n    <tr>\n      <th>1</th>\n      <td>New Recipe Start</td>\n      <td>NaN</td>\n      <td>NaN</td>\n      <td>06:09:32</td>\n      <td>2021-03-25 00:00:00</td>\n      <td>NaN</td>\n      <td>NaN</td>\n      <td>iXUsr_Strzeletz(6101)</td>\n      <td>iXUsr_Yang(7418)</td>\n      <td>iXUsr_Julie(6746)iXUsr_Fane(6793)iXUsr_Kaur(67...</td>\n      <td>NaN</td>\n      <td>NaN</td>\n      <td>KL1</td>\n      <td>2021-03-25 06:09:32</td>\n    </tr>\n    <tr>\n      <th>2</th>\n      <td>813U4$$$$$$$$0001000301</td>\n      <td>8.0</td>\n      <td>U4</td>\n      <td>06:13:21</td>\n      <td>2021-03-25 00:00:00</td>\n      <td>0001 of 0003</td>\n      <td>13.0</td>\n      <td>iXUsr_Strzeletz(6101)</td>\n      <td>iXUsr_Yang(7418)</td>\n      <td>iXUsr_Julie(6746)iXUsr_Fane(6793)iXUsr_Kaur(67...</td>\n      <td>NaN</td>\n      <td>NaN</td>\n      <td>KL1</td>\n      <td>2021-03-25 06:13:21</td>\n    </tr>\n    <tr>\n      <th>3</th>\n      <td>813U4$$$$$$$$0002000301</td>\n      <td>8.0</td>\n      <td>U4</td>\n      <td>06:17:47</td>\n      <td>2021-03-25 00:00:00</td>\n      <td>0002 of 0003</td>\n      <td>13.0</td>\n      <td>iXUsr_Strzeletz(6101)</td>\n      <td>iXUsr_Yang(7418)</td>\n      <td>iXUsr_Julie(6746)iXUsr_Fane(6793)iXUsr_Kaur(67...</td>\n      <td>NaN</td>\n      <td>NaN</td>\n      <td>KL1</td>\n      <td>2021-03-25 06:17:47</td>\n    </tr>\n    <tr>\n      <th>4</th>\n      <td>813U4$$$$$$$$0003000301</td>\n      <td>8.0</td>\n      <td>U4</td>\n      <td>06:20:48</td>\n      <td>2021-03-25 00:00:00</td>\n      <td>0003 of 0003</td>\n      <td>13.0</td>\n      <td>iXUsr_Strzeletz(6101)</td>\n      <td>iXUsr_Yang(7418)</td>\n      <td>iXUsr_Julie(6746)iXUsr_Fane(6793)iXUsr_Kaur(67...</td>\n      <td>NaN</td>\n      <td>NaN</td>\n      <td>KL1</td>\n      <td>2021-03-25 06:20:48</td>\n    </tr>\n  </tbody>\n</table>\n</div>"
     },
     "metadata": {},
     "execution_count": 7
    }
   ],
   "source": [
    "staged_df = pd.read_csv(r'C:\\Users\\Peiran Quan\\Desktop\\python_data_preparation\\staged.csv')  # Can change file path here\n",
    "staged_df.head()"
   ]
  },
  {
   "cell_type": "code",
   "execution_count": 8,
   "metadata": {},
   "outputs": [],
   "source": [
    "# copy raw df\n",
    "df_final = pd.DataFrame(data=None) #df is the event data frame"
   ]
  },
  {
   "cell_type": "code",
   "execution_count": 9,
   "metadata": {},
   "outputs": [],
   "source": [
    "def main(df_temp_raw):\n",
    "    df_temp_event = pd.DataFrame(columns=('Start Time', 'Finish Time', 'Activity', 'Seq Code' ,'Recipe Name', 'Break Reasons', 'Missing Ingredients', 'Kitting Line', 'Assembly Batch', 'Event Shift', 'Team Leader', 'Pickers Count', 'Time Consumption'))\n",
    "    index_align = df_temp_raw.first_valid_index() # pandas is using the df_temp_raw's frame index whenever df_temp_raw is called\n",
    "    df_temp_event['Finish Time'] = df_temp_raw['Timestamp and Date']\n",
    "    df_temp_event['Seq Code'] = df_temp_raw['Seq Code']\n",
    "    df_temp_event['Start Time'].loc[index_align] = '2019-1-1 00:00:00'\n",
    "    #df_temp_event['Recipe Name'][1] = df_temp_raw['Recipe and P'].loc[df_temp_raw['Recipe and P'].first_valid_index()]\n",
    "    #print(df_temp_event)\n",
    "    df_temp_raw.loc[index_align, 'Recipe and P'] = df_temp_raw['Recipe and P'].loc[df_temp_raw['Recipe and P'].first_valid_index()] #ignore the warning -- data type is not changing, the return is in VIEW\n",
    "\n",
    "    for i in range (len(df_temp_raw)):\n",
    "        df_temp_event['Start Time'].loc[index_align+i+1] = df_temp_raw['Timestamp and Date'].loc[index_align+i]\n",
    "        df_temp_event['Activity'].loc[index_align+i] = activity_dependency(df_temp_raw['Barcode'].loc[index_align+i])\n",
    "        df_temp_event['Break Reasons'].loc[index_align+i+1] = df_temp_raw['Break Reasons'].loc[index_align+i]\n",
    "        df_temp_event['Missing Ingredients'].loc[index_align+i+1] = df_temp_raw['Missing Products'].loc[index_align+i]\n",
    "        df_temp_event['Kitting Line'].loc[index_align+i+1] = df_temp_raw['Kitting Line'].loc[index_align+i]\n",
    "        df_temp_event['Assembly Batch'].loc[index_align+i] = batchcode_dependency(df_temp_raw['Production Batch'].loc[index_align+i])\n",
    "        df_temp_event['Time Consumption'].loc[index_align+i] = time_consumption(df_temp_event['Start Time'].loc[index_align+i], df_temp_event['Finish Time'].loc[index_align+i])\n",
    "        df_temp_event['Event Shift'].loc[index_align+i] = categorize_event_shift(df_temp_event['Finish Time'].loc[index_align+i])\n",
    "        df_temp_event['Team Leader'].loc[index_align+i] = df_temp_raw['Team Leader'].loc[index_align+i]\n",
    "        df_temp_event['Pickers Count'].loc[index_align+i] = count_pickers(df_temp_raw['Pickers'].loc[index_align+i])\n",
    "        #print(df_temp_event)\n",
    "        \"\"\"\n",
    "        for j in range (len(df_temp_raw)):  ############################################# slow, deprecated\n",
    "            print(df_temp_raw['Recipe and P'][::-1].loc[(index_align + j):])\n",
    "            reversed_index = df_temp_raw['Recipe and P'][::-1].loc[(index_align + j):].first_valid_index()\n",
    "        \"\"\"\n",
    "        #df_temp_raw['Recipe and P'][index_align] = df_temp_raw['Recipe and P'].loc[df_temp_raw['Recipe and P'].first_valid_index()]\n",
    "        recipe_index = df_temp_raw['Recipe and P'].loc[0:index_align+i].last_valid_index()\n",
    "        #print(recipe_index)\n",
    "        df_temp_event['Recipe Name'].loc[index_align+i] = df_temp_raw['Recipe and P'].loc[recipe_index]\n",
    "        #print(df_temp_raw['Recipe and P'].loc[recipe_index])\n",
    "    #print(df_temp_event)\n",
    "    return df_temp_event"
   ]
  },
  {
   "cell_type": "code",
   "execution_count": 10,
   "metadata": {
    "tags": []
   },
   "outputs": [
    {
     "output_type": "stream",
     "name": "stdout",
     "text": [
      "Kitting Line 1 Completed!\n",
      "Kitting Line 2 Completed!\n",
      "Kitting Line 3 Completed!\n",
      "Kitting Line 4 Completed!\n",
      "Kitting Line 5 Completed!\n",
      "Kitting Line 6 Completed!\n",
      "Kitting Line 7 Completed!\n",
      "Kitting Line 8 Completed!\n",
      "Kitting Line 9 Completed!\n",
      "Kitting Line 10 Completed!\n",
      "Kitting Line 11 Completed!\n",
      "Kitting Line 12 Completed!\n",
      "Kitting Line 13 Completed!\n",
      "Kitting Line 14 Completed!\n",
      "Kitting Line 15 Completed!\n",
      "Kitting Line 16 Completed!\n",
      "Kitting Line 17 Completed!\n",
      "Kitting Line 18 Completed!\n",
      "Kitting Line 19 Completed!\n",
      "Kitting Line 20 Completed!\n"
     ]
    }
   ],
   "source": [
    "for kl in range(1,21):\n",
    "    df_temp_raw = staged_df.loc[staged_df['Kitting Line'] == 'KL%s'%kl]\n",
    "    if df_temp_raw.empty:\n",
    "        print(\"Kitting Line %r is not included!\" %(kl))  # if data frame is empty\n",
    "    #print(df_temp_raw)\n",
    "    else:\n",
    "        seg = main(df_temp_raw)\n",
    "        #print(seg)\n",
    "        df_final = pd.concat([df_final, seg], sort = False)\n",
    "        print(\"Kitting Line %r Completed!\" %(kl))\n",
    "# here we have several different ways to validate the logic"
   ]
  },
  {
   "cell_type": "code",
   "execution_count": 11,
   "metadata": {},
   "outputs": [
    {
     "output_type": "execute_result",
     "data": {
      "text/plain": [
       "               Start Time          Finish Time                Activity  \\\n",
       "7064  2021-03-30 07:18:12  2021-03-30 07:20:21              Production   \n",
       "7065  2021-03-30 07:20:21  2021-03-30 07:40:22  Preparation/Changeover   \n",
       "7066  2021-03-30 07:40:22  2021-03-30 07:43:55              Production   \n",
       "7067  2021-03-30 07:43:55  2021-03-30 07:44:41              Production   \n",
       "7068  2021-03-30 07:44:41  2021-03-30 07:45:03                     TBD   \n",
       "\n",
       "          Seq Code Recipe Name Break Reasons Missing Ingredients Kitting Line  \\\n",
       "7064  0005 of 0005          Q2           NaN                 NaN         KL20   \n",
       "7065           NaN          Q2           NaN                 NaN         KL20   \n",
       "7066  0001 of 0002          X2           NaN                 NaN         KL20   \n",
       "7067  0002 of 0002          X2           NaN                 NaN         KL20   \n",
       "7068           NaN          X2           NaN                 NaN         KL20   \n",
       "\n",
       "       Assembly Batch      Event Shift        Team Leader Pickers Count  \\\n",
       "7064  Wed-NI Delivery  Tuesday Morning  iXUsr_Chang(8908)             5   \n",
       "7065                   Tuesday Morning  iXUsr_Chang(8908)             5   \n",
       "7066  Wed-NI Delivery  Tuesday Morning  iXUsr_Chang(8908)             5   \n",
       "7067  Wed-NI Delivery  Tuesday Morning  iXUsr_Chang(8908)             5   \n",
       "7068                   Tuesday Morning  iXUsr_Chang(8908)             5   \n",
       "\n",
       "     Time Consumption     Week  \n",
       "7064             2.15  2021-13  \n",
       "7065            20.02  2021-13  \n",
       "7066             3.55  2021-13  \n",
       "7067             0.77  2021-13  \n",
       "7068             0.37  2021-13  "
      ],
      "text/html": "<div>\n<style scoped>\n    .dataframe tbody tr th:only-of-type {\n        vertical-align: middle;\n    }\n\n    .dataframe tbody tr th {\n        vertical-align: top;\n    }\n\n    .dataframe thead th {\n        text-align: right;\n    }\n</style>\n<table border=\"1\" class=\"dataframe\">\n  <thead>\n    <tr style=\"text-align: right;\">\n      <th></th>\n      <th>Start Time</th>\n      <th>Finish Time</th>\n      <th>Activity</th>\n      <th>Seq Code</th>\n      <th>Recipe Name</th>\n      <th>Break Reasons</th>\n      <th>Missing Ingredients</th>\n      <th>Kitting Line</th>\n      <th>Assembly Batch</th>\n      <th>Event Shift</th>\n      <th>Team Leader</th>\n      <th>Pickers Count</th>\n      <th>Time Consumption</th>\n      <th>Week</th>\n    </tr>\n  </thead>\n  <tbody>\n    <tr>\n      <th>7064</th>\n      <td>2021-03-30 07:18:12</td>\n      <td>2021-03-30 07:20:21</td>\n      <td>Production</td>\n      <td>0005 of 0005</td>\n      <td>Q2</td>\n      <td>NaN</td>\n      <td>NaN</td>\n      <td>KL20</td>\n      <td>Wed-NI Delivery</td>\n      <td>Tuesday Morning</td>\n      <td>iXUsr_Chang(8908)</td>\n      <td>5</td>\n      <td>2.15</td>\n      <td>2021-13</td>\n    </tr>\n    <tr>\n      <th>7065</th>\n      <td>2021-03-30 07:20:21</td>\n      <td>2021-03-30 07:40:22</td>\n      <td>Preparation/Changeover</td>\n      <td>NaN</td>\n      <td>Q2</td>\n      <td>NaN</td>\n      <td>NaN</td>\n      <td>KL20</td>\n      <td></td>\n      <td>Tuesday Morning</td>\n      <td>iXUsr_Chang(8908)</td>\n      <td>5</td>\n      <td>20.02</td>\n      <td>2021-13</td>\n    </tr>\n    <tr>\n      <th>7066</th>\n      <td>2021-03-30 07:40:22</td>\n      <td>2021-03-30 07:43:55</td>\n      <td>Production</td>\n      <td>0001 of 0002</td>\n      <td>X2</td>\n      <td>NaN</td>\n      <td>NaN</td>\n      <td>KL20</td>\n      <td>Wed-NI Delivery</td>\n      <td>Tuesday Morning</td>\n      <td>iXUsr_Chang(8908)</td>\n      <td>5</td>\n      <td>3.55</td>\n      <td>2021-13</td>\n    </tr>\n    <tr>\n      <th>7067</th>\n      <td>2021-03-30 07:43:55</td>\n      <td>2021-03-30 07:44:41</td>\n      <td>Production</td>\n      <td>0002 of 0002</td>\n      <td>X2</td>\n      <td>NaN</td>\n      <td>NaN</td>\n      <td>KL20</td>\n      <td>Wed-NI Delivery</td>\n      <td>Tuesday Morning</td>\n      <td>iXUsr_Chang(8908)</td>\n      <td>5</td>\n      <td>0.77</td>\n      <td>2021-13</td>\n    </tr>\n    <tr>\n      <th>7068</th>\n      <td>2021-03-30 07:44:41</td>\n      <td>2021-03-30 07:45:03</td>\n      <td>TBD</td>\n      <td>NaN</td>\n      <td>X2</td>\n      <td>NaN</td>\n      <td>NaN</td>\n      <td>KL20</td>\n      <td></td>\n      <td>Tuesday Morning</td>\n      <td>iXUsr_Chang(8908)</td>\n      <td>5</td>\n      <td>0.37</td>\n      <td>2021-13</td>\n    </tr>\n  </tbody>\n</table>\n</div>"
     },
     "metadata": {},
     "execution_count": 11
    }
   ],
   "source": [
    "## Attach a column to identify the Week\n",
    "## Update weekly in the format of YYYY-WW \n",
    "df_final['Week'] = '2021-13'\n",
    "df_final.tail()"
   ]
  },
  {
   "cell_type": "code",
   "execution_count": 12,
   "metadata": {},
   "outputs": [],
   "source": [
    "df_final.to_csv(r'C:\\Users\\Peiran Quan\\Desktop\\python_data_preparation\\prepared.csv', index = False) # Can change file path here"
   ]
  },
  {
   "cell_type": "code",
   "execution_count": 13,
   "metadata": {},
   "outputs": [
    {
     "output_type": "execute_result",
     "data": {
      "text/plain": [
       "0      2019-01-01 00:00:00\n",
       "1      2021-03-25 06:09:20\n",
       "2      2021-03-25 06:09:32\n",
       "3      2021-03-25 06:13:21\n",
       "4      2021-03-25 06:17:47\n",
       "               ...        \n",
       "7064   2021-03-30 07:18:12\n",
       "7065   2021-03-30 07:20:21\n",
       "7066   2021-03-30 07:40:22\n",
       "7067   2021-03-30 07:43:55\n",
       "7068   2021-03-30 07:44:41\n",
       "Name: Start Time, Length: 7069, dtype: datetime64[ns]"
      ]
     },
     "metadata": {},
     "execution_count": 13
    }
   ],
   "source": [
    "df_final['Start Time'].astype('datetime64')"
   ]
  },
  {
   "cell_type": "code",
   "execution_count": null,
   "metadata": {},
   "outputs": [],
   "source": []
  }
 ],
 "metadata": {
  "kernelspec": {
   "display_name": "Python 3",
   "language": "python",
   "name": "python3"
  },
  "language_info": {
   "codemirror_mode": {
    "name": "ipython",
    "version": 3
   },
   "file_extension": ".py",
   "mimetype": "text/x-python",
   "name": "python",
   "nbconvert_exporter": "python",
   "pygments_lexer": "ipython3",
   "version": "3.8.6-final"
  }
 },
 "nbformat": 4,
 "nbformat_minor": 4
}