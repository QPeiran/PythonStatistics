{
 "cells": [
  {
   "cell_type": "code",
   "execution_count": 1,
   "metadata": {},
   "outputs": [],
   "source": [
    "import pandas as pd\n",
    "import datetime as dt\n",
    "import re as re"
   ]
  },
  {
   "cell_type": "code",
   "execution_count": 2,
   "metadata": {},
   "outputs": [],
   "source": [
    "#the event is depending on the barcode scanned afterwoards\n",
    "\n",
    "def activity_dependency(barcode):\n",
    "    switcher = {\n",
    "        'Production Start': 'Factory Closed',\n",
    "        'New Recipe Start': 'Preparation/Changeover',\n",
    "        'Break End': 'Break',\n",
    "        'Production Finish': 'TBD'\n",
    "    }\n",
    "    return switcher.get(barcode, 'Production')"
   ]
  },
  {
   "cell_type": "code",
   "execution_count": 3,
   "metadata": {},
   "outputs": [],
   "source": [
    "# 7 days of Assembly\n",
    "\n",
    "def batchcode_dependency(batchcoded):\n",
    "    switcher = {\n",
    "        1: 'Friday Assembly',\n",
    "        2: 'Saturday Assembly',\n",
    "        3: 'Sunday Assembly',\n",
    "        4: 'Monday Assembly',\n",
    "        5: 'Tuesday Assembly',\n",
    "        6: 'Wednesday Assembly',\n",
    "        7: 'Thursday Assembly'\n",
    "    }\n",
    "    return switcher.get(batchcoded, '')"
   ]
  },
  {
   "cell_type": "code",
   "execution_count": 4,
   "metadata": {},
   "outputs": [],
   "source": [
    "# morning shift -- 5:00 to 14:00\n",
    "# afternoon shift -- 14:00 to 23:00\n",
    "# Error -- Events compeleted in other time periods\n",
    "\n",
    "def categorize_event_shift(timestamp):\n",
    "    weekday_index = pd.Timestamp(timestamp).weekday()\n",
    "    switcher = {\n",
    "        0: 'Monday',\n",
    "        1: 'Tuesday',\n",
    "        2: 'Wednesday',\n",
    "        3: 'Thursday',\n",
    "        4: 'Friday',\n",
    "        5: 'Saturday',\n",
    "        6: 'Sunday'\n",
    "    }\n",
    "    weekday = switcher.get(weekday_index,'')\n",
    "    hour = pd.Timestamp(timestamp).hour\n",
    "    if hour in range(5,14):\n",
    "        shift = 'Morning'\n",
    "    elif hour in range(14,23):\n",
    "        shift = 'Afternoon'\n",
    "    else:\n",
    "        shift = 'Error'\n",
    "    return weekday +' '+ shift"
   ]
  },
  {
   "cell_type": "code",
   "execution_count": 5,
   "metadata": {},
   "outputs": [],
   "source": [
    "#calculting time cost to sec\n",
    "\n",
    "def time_consumption(timestamp1,timestamp2):\n",
    "    t1 = pd.to_datetime(timestamp1)\n",
    "    t2 = pd.to_datetime(timestamp2)\n",
    "    InMin = pd.Timedelta(t2-t1).seconds/60.0\n",
    "    return format(InMin, '.2f')\n"
   ]
  },
  {
   "cell_type": "code",
   "execution_count": 6,
   "metadata": {},
   "outputs": [],
   "source": [
    "# count how many pickers for ever events (+2 to get the total amount of people on this kitting line)\n",
    "\n",
    "def count_pickers(picker):\n",
    "    pattern = re.compile(r';|_|,')  ## <- temporary solutions overhere, may change according to the labels printed\n",
    "    picker_array = pattern.findall(picker)  \n",
    "    return len(picker_array)"
   ]
  },
  {
   "cell_type": "code",
   "execution_count": 7,
   "metadata": {},
   "outputs": [
    {
     "output_type": "execute_result",
     "data": {
      "text/plain": "count                  7234\nunique                   45\ntop       iXUsr_Chang(8908)\nfreq                    488\nName: Team Leader, dtype: object"
     },
     "metadata": {},
     "execution_count": 7
    }
   ],
   "source": [
    "staged_df = pd.read_csv(r'C:\\Users\\steve\\Desktop\\PDL\\prepare_data\\staged.csv')  # Can change file path here\n",
    "staged_df['Team Leader'].describe()"
   ]
  },
  {
   "cell_type": "code",
   "execution_count": 8,
   "metadata": {},
   "outputs": [],
   "source": [
    "# copy raw df\n",
    "\n",
    "df_final = pd.DataFrame(data=None) #df is the event data frame"
   ]
  },
  {
   "cell_type": "code",
   "execution_count": 9,
   "metadata": {},
   "outputs": [],
   "source": [
    "def main(df_temp_raw):\n",
    "    df_temp_event = pd.DataFrame(columns=('Start Time', 'Finish Time', 'Activity', 'Seq Code' ,'Recipe Name', 'Break Reasons', 'Missing Ingredients', 'Kitting Line', 'Assembly Batch', 'Event Shift', 'Team Leader', 'Pickers Count', 'Time Consumption'))\n",
    "    index_align = df_temp_raw.first_valid_index() # pandas is using the df_temp_raw's frame index whenever df_temp_raw is called\n",
    "    df_temp_event['Finish Time'] = df_temp_raw['Timestamp and Date']\n",
    "    df_temp_event['Seq Code'] = df_temp_raw['Seq Code']\n",
    "    df_temp_event['Start Time'].loc[index_align] = '2019-1-1 00:00:00'\n",
    "    #df_temp_event['Recipe Name'][1] = df_temp_raw['Recipe and P'].loc[df_temp_raw['Recipe and P'].first_valid_index()]\n",
    "    #print(df_temp_event)\n",
    "    df_temp_raw.loc[index_align, 'Recipe and P'] = df_temp_raw['Recipe and P'].loc[df_temp_raw['Recipe and P'].first_valid_index()] #ignore the waring -- data type is not changing, the return is in VIEW\n",
    "\n",
    "    for i in range (len(df_temp_raw)):\n",
    "        df_temp_event['Start Time'].loc[index_align+i+1] = df_temp_raw['Timestamp and Date'].loc[index_align+i]\n",
    "        df_temp_event['Activity'].loc[index_align+i] = activity_dependency(df_temp_raw['Barcode'].loc[index_align+i])\n",
    "        df_temp_event['Break Reasons'].loc[index_align+i+1] = df_temp_raw['Break Reasons'].loc[index_align+i]\n",
    "        df_temp_event['Missing Ingredients'].loc[index_align+i+1] = df_temp_raw['Missing Products'].loc[index_align+i]\n",
    "        df_temp_event['Kitting Line'].loc[index_align+i+1] = df_temp_raw['Kitting Line'].loc[index_align+i]\n",
    "        df_temp_event['Assembly Batch'].loc[index_align+i] = batchcode_dependency(df_temp_raw['Production Batch'].loc[index_align+i])\n",
    "        df_temp_event['Time Consumption'].loc[index_align+i] = time_consumption(df_temp_event['Start Time'].loc[index_align+i], df_temp_event['Finish Time'].loc[index_align+i])\n",
    "        df_temp_event['Event Shift'].loc[index_align+i] = categorize_event_shift(df_temp_event['Finish Time'].loc[index_align+i])\n",
    "        df_temp_event['Team Leader'].loc[index_align+i] = df_temp_raw['Team Leader'].loc[index_align+i]\n",
    "        df_temp_event['Pickers Count'].loc[index_align+i] = count_pickers(df_temp_raw['Pickers'].loc[index_align+i])\n",
    "        #print(df_temp_event)\n",
    "        \"\"\"\n",
    "        for j in range (len(df_temp_raw)):  #############################################\n",
    "            print(df_temp_raw['Recipe and P'][::-1].loc[(index_align + j):])\n",
    "            reversed_index = df_temp_raw['Recipe and P'][::-1].loc[(index_align + j):].first_valid_index()\n",
    "        \"\"\"\n",
    "        #df_temp_raw['Recipe and P'][index_align] = df_temp_raw['Recipe and P'].loc[df_temp_raw['Recipe and P'].first_valid_index()]\n",
    "        recipe_index = df_temp_raw['Recipe and P'].loc[0:index_align+i].last_valid_index()\n",
    "        #print(recipe_index)\n",
    "        df_temp_event['Recipe Name'].loc[index_align+i] = df_temp_raw['Recipe and P'].loc[recipe_index]\n",
    "        #print(df_temp_raw['Recipe and P'].loc[recipe_index])\n",
    "    #print(df_temp_event)\n",
    "    return df_temp_event"
   ]
  },
  {
   "cell_type": "code",
   "execution_count": 10,
   "metadata": {
    "tags": []
   },
   "outputs": [
    {
     "output_type": "stream",
     "name": "stdout",
     "text": "Kitting Line 1 Completed!\nKitting Line 2 Completed!\nKitting Line 3 Completed!\nKitting Line 4 Completed!\nKitting Line 5 Completed!\nKitting Line 6 Completed!\nKitting Line 7 Completed!\nKitting Line 8 Completed!\nKitting Line 9 Completed!\nKitting Line 10 Completed!\nKitting Line 11 Completed!\nKitting Line 12 Completed!\nKitting Line 13 Completed!\nKitting Line 14 Completed!\nKitting Line 15 Completed!\nKitting Line 16 Completed!\nKitting Line 17 Completed!\nKitting Line 18 Completed!\nKitting Line 19 Completed!\nKitting Line 20 Completed!\n"
    }
   ],
   "source": [
    "for kl in range(1,21):\n",
    "    df_temp_raw = staged_df.loc[staged_df['Kitting Line'] == 'KL%s'%kl]\n",
    "    if df_temp_raw.empty:\n",
    "        print(\"Kitting Line %r is not included!\" %(kl))  # if data frame is empty\n",
    "    #print(df_temp_raw)\n",
    "    else:\n",
    "        seg = main(df_temp_raw)\n",
    "        #print(seg)\n",
    "        df_final = pd.concat([df_final, seg], sort = False)\n",
    "        print(\"Kitting Line %r Completed!\" %(kl))\n"
   ]
  },
  {
   "cell_type": "code",
   "execution_count": 11,
   "metadata": {},
   "outputs": [
    {
     "output_type": "execute_result",
     "data": {
      "text/plain": "               Start Time          Finish Time                Activity  \\\n0       2019-1-1 00:00:00  2020-08-13 06:31:07          Factory Closed   \n1     2020-08-13 06:31:07  2020-08-13 06:31:18  Preparation/Changeover   \n2     2020-08-13 06:31:18  2020-08-13 06:36:08              Production   \n3     2020-08-13 06:36:08  2020-08-13 06:42:26              Production   \n4     2020-08-13 06:42:26  2020-08-13 06:49:15              Production   \n...                   ...                  ...                     ...   \n7229  2020-08-16 20:08:08  2020-08-16 20:08:16              Production   \n7230  2020-08-16 20:08:16  2020-08-16 20:22:15  Preparation/Changeover   \n7231  2020-08-16 20:22:15  2020-08-16 20:22:26              Production   \n7232  2020-08-16 20:22:26  2020-08-16 20:24:10              Production   \n7233  2020-08-16 20:24:10  2020-08-16 21:05:52                     TBD   \n\n          Seq Code Recipe Name Break Reasons Missing Ingredients Kitting Line  \\\n0              NaN          D4           NaN                 NaN          NaN   \n1              NaN          D4           NaN                 NaN          KL1   \n2     0001 of 0057          D4           NaN                 NaN          KL1   \n3     0002 of 0057          D4           NaN                 NaN          KL1   \n4     0003 of 0057          D4           NaN                 NaN          KL1   \n...            ...         ...           ...                 ...          ...   \n7229  0001 of 0001          T4           NaN                 NaN         KL20   \n7230           NaN          T4           NaN                 NaN         KL20   \n7231  0001 of 0002          T2           NaN                 NaN         KL20   \n7232  0002 of 0002          T2           NaN                 NaN         KL20   \n7233           NaN          T2           NaN                 NaN         KL20   \n\n        Assembly Batch       Event Shift        Team Leader Pickers Count  \\\n0                       Thursday Morning  iXUsr_Julie(6746)             2   \n1                       Thursday Morning  iXUsr_Julie(6746)             2   \n2      Friday Assembly  Thursday Morning  iXUsr_Julie(6746)             2   \n3      Friday Assembly  Thursday Morning  iXUsr_Julie(6746)             2   \n4      Friday Assembly  Thursday Morning  iXUsr_Julie(6746)             2   \n...                ...               ...                ...           ...   \n7229  Tuesday Assembly  Sunday Afternoon   iXUsr_Good(8522)             4   \n7230                    Sunday Afternoon   iXUsr_Good(8522)             4   \n7231  Tuesday Assembly  Sunday Afternoon   iXUsr_Good(8522)             4   \n7232  Tuesday Assembly  Sunday Afternoon   iXUsr_Good(8522)             4   \n7233                    Sunday Afternoon   iXUsr_Good(8522)             4   \n\n     Time Consumption     Week  \n0              391.12  2020-34  \n1                0.18  2020-34  \n2                4.83  2020-34  \n3                6.30  2020-34  \n4                6.82  2020-34  \n...               ...      ...  \n7229             0.13  2020-34  \n7230            13.98  2020-34  \n7231             0.18  2020-34  \n7232             1.73  2020-34  \n7233            41.70  2020-34  \n\n[7234 rows x 14 columns]",
      "text/html": "<div>\n<style scoped>\n    .dataframe tbody tr th:only-of-type {\n        vertical-align: middle;\n    }\n\n    .dataframe tbody tr th {\n        vertical-align: top;\n    }\n\n    .dataframe thead th {\n        text-align: right;\n    }\n</style>\n<table border=\"1\" class=\"dataframe\">\n  <thead>\n    <tr style=\"text-align: right;\">\n      <th></th>\n      <th>Start Time</th>\n      <th>Finish Time</th>\n      <th>Activity</th>\n      <th>Seq Code</th>\n      <th>Recipe Name</th>\n      <th>Break Reasons</th>\n      <th>Missing Ingredients</th>\n      <th>Kitting Line</th>\n      <th>Assembly Batch</th>\n      <th>Event Shift</th>\n      <th>Team Leader</th>\n      <th>Pickers Count</th>\n      <th>Time Consumption</th>\n      <th>Week</th>\n    </tr>\n  </thead>\n  <tbody>\n    <tr>\n      <th>0</th>\n      <td>2019-1-1 00:00:00</td>\n      <td>2020-08-13 06:31:07</td>\n      <td>Factory Closed</td>\n      <td>NaN</td>\n      <td>D4</td>\n      <td>NaN</td>\n      <td>NaN</td>\n      <td>NaN</td>\n      <td></td>\n      <td>Thursday Morning</td>\n      <td>iXUsr_Julie(6746)</td>\n      <td>2</td>\n      <td>391.12</td>\n      <td>2020-34</td>\n    </tr>\n    <tr>\n      <th>1</th>\n      <td>2020-08-13 06:31:07</td>\n      <td>2020-08-13 06:31:18</td>\n      <td>Preparation/Changeover</td>\n      <td>NaN</td>\n      <td>D4</td>\n      <td>NaN</td>\n      <td>NaN</td>\n      <td>KL1</td>\n      <td></td>\n      <td>Thursday Morning</td>\n      <td>iXUsr_Julie(6746)</td>\n      <td>2</td>\n      <td>0.18</td>\n      <td>2020-34</td>\n    </tr>\n    <tr>\n      <th>2</th>\n      <td>2020-08-13 06:31:18</td>\n      <td>2020-08-13 06:36:08</td>\n      <td>Production</td>\n      <td>0001 of 0057</td>\n      <td>D4</td>\n      <td>NaN</td>\n      <td>NaN</td>\n      <td>KL1</td>\n      <td>Friday Assembly</td>\n      <td>Thursday Morning</td>\n      <td>iXUsr_Julie(6746)</td>\n      <td>2</td>\n      <td>4.83</td>\n      <td>2020-34</td>\n    </tr>\n    <tr>\n      <th>3</th>\n      <td>2020-08-13 06:36:08</td>\n      <td>2020-08-13 06:42:26</td>\n      <td>Production</td>\n      <td>0002 of 0057</td>\n      <td>D4</td>\n      <td>NaN</td>\n      <td>NaN</td>\n      <td>KL1</td>\n      <td>Friday Assembly</td>\n      <td>Thursday Morning</td>\n      <td>iXUsr_Julie(6746)</td>\n      <td>2</td>\n      <td>6.30</td>\n      <td>2020-34</td>\n    </tr>\n    <tr>\n      <th>4</th>\n      <td>2020-08-13 06:42:26</td>\n      <td>2020-08-13 06:49:15</td>\n      <td>Production</td>\n      <td>0003 of 0057</td>\n      <td>D4</td>\n      <td>NaN</td>\n      <td>NaN</td>\n      <td>KL1</td>\n      <td>Friday Assembly</td>\n      <td>Thursday Morning</td>\n      <td>iXUsr_Julie(6746)</td>\n      <td>2</td>\n      <td>6.82</td>\n      <td>2020-34</td>\n    </tr>\n    <tr>\n      <th>...</th>\n      <td>...</td>\n      <td>...</td>\n      <td>...</td>\n      <td>...</td>\n      <td>...</td>\n      <td>...</td>\n      <td>...</td>\n      <td>...</td>\n      <td>...</td>\n      <td>...</td>\n      <td>...</td>\n      <td>...</td>\n      <td>...</td>\n      <td>...</td>\n    </tr>\n    <tr>\n      <th>7229</th>\n      <td>2020-08-16 20:08:08</td>\n      <td>2020-08-16 20:08:16</td>\n      <td>Production</td>\n      <td>0001 of 0001</td>\n      <td>T4</td>\n      <td>NaN</td>\n      <td>NaN</td>\n      <td>KL20</td>\n      <td>Tuesday Assembly</td>\n      <td>Sunday Afternoon</td>\n      <td>iXUsr_Good(8522)</td>\n      <td>4</td>\n      <td>0.13</td>\n      <td>2020-34</td>\n    </tr>\n    <tr>\n      <th>7230</th>\n      <td>2020-08-16 20:08:16</td>\n      <td>2020-08-16 20:22:15</td>\n      <td>Preparation/Changeover</td>\n      <td>NaN</td>\n      <td>T4</td>\n      <td>NaN</td>\n      <td>NaN</td>\n      <td>KL20</td>\n      <td></td>\n      <td>Sunday Afternoon</td>\n      <td>iXUsr_Good(8522)</td>\n      <td>4</td>\n      <td>13.98</td>\n      <td>2020-34</td>\n    </tr>\n    <tr>\n      <th>7231</th>\n      <td>2020-08-16 20:22:15</td>\n      <td>2020-08-16 20:22:26</td>\n      <td>Production</td>\n      <td>0001 of 0002</td>\n      <td>T2</td>\n      <td>NaN</td>\n      <td>NaN</td>\n      <td>KL20</td>\n      <td>Tuesday Assembly</td>\n      <td>Sunday Afternoon</td>\n      <td>iXUsr_Good(8522)</td>\n      <td>4</td>\n      <td>0.18</td>\n      <td>2020-34</td>\n    </tr>\n    <tr>\n      <th>7232</th>\n      <td>2020-08-16 20:22:26</td>\n      <td>2020-08-16 20:24:10</td>\n      <td>Production</td>\n      <td>0002 of 0002</td>\n      <td>T2</td>\n      <td>NaN</td>\n      <td>NaN</td>\n      <td>KL20</td>\n      <td>Tuesday Assembly</td>\n      <td>Sunday Afternoon</td>\n      <td>iXUsr_Good(8522)</td>\n      <td>4</td>\n      <td>1.73</td>\n      <td>2020-34</td>\n    </tr>\n    <tr>\n      <th>7233</th>\n      <td>2020-08-16 20:24:10</td>\n      <td>2020-08-16 21:05:52</td>\n      <td>TBD</td>\n      <td>NaN</td>\n      <td>T2</td>\n      <td>NaN</td>\n      <td>NaN</td>\n      <td>KL20</td>\n      <td></td>\n      <td>Sunday Afternoon</td>\n      <td>iXUsr_Good(8522)</td>\n      <td>4</td>\n      <td>41.70</td>\n      <td>2020-34</td>\n    </tr>\n  </tbody>\n</table>\n<p>7234 rows × 14 columns</p>\n</div>"
     },
     "metadata": {},
     "execution_count": 11
    }
   ],
   "source": [
    "## Attach a column to identify the Week\n",
    "## change week by week\n",
    "df_final['Week'] = '2020-34'\n",
    "df_final"
   ]
  },
  {
   "cell_type": "code",
   "execution_count": 12,
   "metadata": {},
   "outputs": [],
   "source": [
    "df_final.to_csv(r'C:\\Users\\steve\\Desktop\\PDL\\prepare_data\\prepared.csv', index = False) # Can change file path here"
   ]
  }
 ],
 "metadata": {
  "language_info": {
   "codemirror_mode": {
    "name": "ipython",
    "version": 3
   },
   "file_extension": ".py",
   "mimetype": "text/x-python",
   "name": "python",
   "nbconvert_exporter": "python",
   "pygments_lexer": "ipython3",
   "version": "3.8.2-final"
  },
  "orig_nbformat": 2,
  "kernelspec": {
   "name": "python3",
   "display_name": "Python 3"
  }
 },
 "nbformat": 4,
 "nbformat_minor": 2
}