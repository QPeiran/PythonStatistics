{
 "cells": [
  {
   "cell_type": "code",
   "execution_count": 1,
   "metadata": {},
   "outputs": [],
   "source": [
    "import pandas as pd\n",
    "import datetime as dt\n",
    "import re as re"
   ]
  },
  {
   "cell_type": "code",
   "execution_count": 2,
   "metadata": {},
   "outputs": [],
   "source": [
    "def activity_dependency(barcode):\n",
    "    switcher = {\n",
    "        'Production Start': 'Factory Closed',\n",
    "        'New Recipe Start': 'Preparation/Changeover',\n",
    "        'Break End': 'Break',\n",
    "        'Production Finish': 'TBD'\n",
    "    }\n",
    "    return switcher.get(barcode, 'Production')"
   ]
  },
  {
   "cell_type": "code",
   "execution_count": 3,
   "metadata": {},
   "outputs": [],
   "source": [
    "def batchcode_dependency(batchcoded):\n",
    "    switcher = {\n",
    "        1: 'Friday Assembly',\n",
    "        2: 'Saturday Assembly',\n",
    "        3: 'Sunday Assembly',\n",
    "        4: 'Monday Assembly',\n",
    "        5: 'Tuesday Assembly',\n",
    "        6: 'Wednesday Assembly',\n",
    "        7: 'Thursday Assembly'\n",
    "    }\n",
    "    return switcher.get(batchcoded, '')"
   ]
  },
  {
   "cell_type": "code",
   "execution_count": 4,
   "metadata": {},
   "outputs": [],
   "source": [
    "def categorize_event_shift(timestamp):\n",
    "    weekday_index = pd.Timestamp(timestamp).weekday()\n",
    "    switcher = {\n",
    "        0: 'Monday',\n",
    "        1: 'Tuesday',\n",
    "        2: 'Wednesday',\n",
    "        3: 'Thursday',\n",
    "        4: 'Friday',\n",
    "        5: 'Saturday',\n",
    "        6: 'Sunday'\n",
    "    }\n",
    "    weekday = switcher.get(weekday_index,'')\n",
    "    hour = pd.Timestamp(timestamp).hour\n",
    "    if hour in range(6,13):\n",
    "        shift = 'Morning'\n",
    "    elif hour in range(13,22):\n",
    "        shift = 'Afternoon'\n",
    "    else:\n",
    "        shift = 'Error'\n",
    "    return weekday +' '+ shift"
   ]
  },
  {
   "cell_type": "code",
   "execution_count": 5,
   "metadata": {},
   "outputs": [],
   "source": [
    "def time_consumption(timestamp1,timestamp2):\n",
    "    t1 = pd.to_datetime(timestamp1)\n",
    "    t2 = pd.to_datetime(timestamp2)\n",
    "    InMin = pd.Timedelta(t2-t1).seconds/60.0\n",
    "    return format(InMin, '.2f')"
   ]
  },
  {
   "cell_type": "code",
   "execution_count": 6,
   "metadata": {},
   "outputs": [],
   "source": [
    "\n",
    "def count_pickers(picker):\n",
    "    pattern = re.compile(r';|_|,')  ## <- temporary solutions overhere, may change according to the labels printed\n",
    "    picker_array = pattern.findall(picker)  ## \n",
    "    counter = 0\n",
    "    for members in picker_array:\n",
    "        counter = counter + 1\n",
    "    return counter"
   ]
  }
 ],
 "metadata": {
  "language_info": {
   "codemirror_mode": {
    "name": "ipython",
    "version": 3
   },
   "file_extension": ".py",
   "mimetype": "text/x-python",
   "name": "python",
   "nbconvert_exporter": "python",
   "pygments_lexer": "ipython3",
   "version": "3.7.4-final"
  },
  "orig_nbformat": 2,
  "kernelspec": {
   "name": "python3",
   "display_name": "Python 3"
  }
 },
 "nbformat": 4,
 "nbformat_minor": 2
}