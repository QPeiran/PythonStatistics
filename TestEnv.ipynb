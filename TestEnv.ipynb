{
 "cells": [
  {
   "cell_type": "code",
   "execution_count": 1,
   "metadata": {},
   "outputs": [],
   "source": [
    "import pandas as pd\n",
    "import numpy as np\n",
    "import matplotlib.pyplot as plt\n",
    "from scipy import stats\n"
   ]
  },
  {
   "cell_type": "code",
   "execution_count": 2,
   "metadata": {},
   "outputs": [],
   "source": [
    "dataFrame = pd.read_csv(r'C:\\Users\\Peiran Quan\\Desktop\\secperpickVSpicks.csv')"
   ]
  },
  {
   "cell_type": "code",
   "execution_count": 3,
   "metadata": {},
   "outputs": [
    {
     "data": {
      "text/html": [
       "<div>\n",
       "<style scoped>\n",
       "    .dataframe tbody tr th:only-of-type {\n",
       "        vertical-align: middle;\n",
       "    }\n",
       "\n",
       "    .dataframe tbody tr th {\n",
       "        vertical-align: top;\n",
       "    }\n",
       "\n",
       "    .dataframe thead th {\n",
       "        text-align: right;\n",
       "    }\n",
       "</style>\n",
       "<table border=\"1\" class=\"dataframe\">\n",
       "  <thead>\n",
       "    <tr style=\"text-align: right;\">\n",
       "      <th></th>\n",
       "      <th>Week/Recipe</th>\n",
       "      <th>Sec per Pick (pure production)</th>\n",
       "      <th>Picks</th>\n",
       "    </tr>\n",
       "  </thead>\n",
       "  <tbody>\n",
       "    <tr>\n",
       "      <td>0</td>\n",
       "      <td>2020-07 B2</td>\n",
       "      <td>6.294643</td>\n",
       "      <td>4</td>\n",
       "    </tr>\n",
       "    <tr>\n",
       "      <td>1</td>\n",
       "      <td>2020-09 H2</td>\n",
       "      <td>5.805081</td>\n",
       "      <td>5</td>\n",
       "    </tr>\n",
       "    <tr>\n",
       "      <td>2</td>\n",
       "      <td>2020-11 C2</td>\n",
       "      <td>6.368316</td>\n",
       "      <td>5</td>\n",
       "    </tr>\n",
       "    <tr>\n",
       "      <td>3</td>\n",
       "      <td>2020-11 M4</td>\n",
       "      <td>5.772031</td>\n",
       "      <td>5</td>\n",
       "    </tr>\n",
       "    <tr>\n",
       "      <td>4</td>\n",
       "      <td>2020-07 B4</td>\n",
       "      <td>5.345696</td>\n",
       "      <td>6</td>\n",
       "    </tr>\n",
       "    <tr>\n",
       "      <td>...</td>\n",
       "      <td>...</td>\n",
       "      <td>...</td>\n",
       "      <td>...</td>\n",
       "    </tr>\n",
       "    <tr>\n",
       "      <td>113</td>\n",
       "      <td>2020-11 G4</td>\n",
       "      <td>4.523529</td>\n",
       "      <td>17</td>\n",
       "    </tr>\n",
       "    <tr>\n",
       "      <td>114</td>\n",
       "      <td>2020-08 I4</td>\n",
       "      <td>3.000594</td>\n",
       "      <td>18</td>\n",
       "    </tr>\n",
       "    <tr>\n",
       "      <td>115</td>\n",
       "      <td>2020-09 J4</td>\n",
       "      <td>3.191643</td>\n",
       "      <td>20</td>\n",
       "    </tr>\n",
       "    <tr>\n",
       "      <td>116</td>\n",
       "      <td>2020-10 J4</td>\n",
       "      <td>4.137465</td>\n",
       "      <td>20</td>\n",
       "    </tr>\n",
       "    <tr>\n",
       "      <td>117</td>\n",
       "      <td>2020-11 I4</td>\n",
       "      <td>3.334966</td>\n",
       "      <td>25</td>\n",
       "    </tr>\n",
       "  </tbody>\n",
       "</table>\n",
       "<p>118 rows × 3 columns</p>\n",
       "</div>"
      ],
      "text/plain": [
       "    Week/Recipe  Sec per Pick (pure production)  Picks\n",
       "0    2020-07 B2                        6.294643      4\n",
       "1    2020-09 H2                        5.805081      5\n",
       "2    2020-11 C2                        6.368316      5\n",
       "3    2020-11 M4                        5.772031      5\n",
       "4    2020-07 B4                        5.345696      6\n",
       "..          ...                             ...    ...\n",
       "113  2020-11 G4                        4.523529     17\n",
       "114  2020-08 I4                        3.000594     18\n",
       "115  2020-09 J4                        3.191643     20\n",
       "116  2020-10 J4                        4.137465     20\n",
       "117  2020-11 I4                        3.334966     25\n",
       "\n",
       "[118 rows x 3 columns]"
      ]
     },
     "execution_count": 3,
     "metadata": {},
     "output_type": "execute_result"
    }
   ],
   "source": [
    "dataFrame"
   ]
  },
  {
   "cell_type": "code",
   "execution_count": 4,
   "metadata": {},
   "outputs": [],
   "source": [
    "sec_per_pick = dataFrame['Sec per Pick (pure production)']\n",
    "picks = dataFrame['Picks']"
   ]
  },
  {
   "cell_type": "code",
   "execution_count": 5,
   "metadata": {},
   "outputs": [
    {
     "data": {
      "text/plain": [
       "(0      6.294643\n",
       " 1      5.805081\n",
       " 2      6.368316\n",
       " 3      5.772031\n",
       " 4      5.345696\n",
       "          ...   \n",
       " 113    4.523529\n",
       " 114    3.000594\n",
       " 115    3.191643\n",
       " 116    4.137465\n",
       " 117    3.334966\n",
       " Name: Sec per Pick (pure production), Length: 118, dtype: float64, 0       4\n",
       " 1       5\n",
       " 2       5\n",
       " 3       5\n",
       " 4       6\n",
       "        ..\n",
       " 113    17\n",
       " 114    18\n",
       " 115    20\n",
       " 116    20\n",
       " 117    25\n",
       " Name: Picks, Length: 118, dtype: int64)"
      ]
     },
     "execution_count": 5,
     "metadata": {},
     "output_type": "execute_result"
    }
   ],
   "source": [
    "sec_per_pick, picks"
   ]
  },
  {
   "cell_type": "code",
   "execution_count": 6,
   "metadata": {},
   "outputs": [
    {
     "name": "stdout",
     "output_type": "stream",
     "text": [
      "slope: -0.142460    intercept: 5.590953 r-value: -0.623106 \n"
     ]
    }
   ],
   "source": [
    "slope, intercept, r_value, p_value, std_err = stats.linregress(picks, sec_per_pick)\n",
    "print(\"slope: %f    intercept: %f r-value: %f \" % (slope, intercept, r_value))"
   ]
  },
  {
   "cell_type": "code",
   "execution_count": 7,
   "metadata": {},
   "outputs": [
    {
     "name": "stdout",
     "output_type": "stream",
     "text": [
      "R-squared: 0.388261 p-value: 0.000000\n"
     ]
    }
   ],
   "source": [
    "print(\"R-squared: %f p-value: %f\" % (r_value**2, p_value) )"
   ]
  },
  {
   "cell_type": "code",
   "execution_count": 8,
   "metadata": {},
   "outputs": [
    {
     "data": {
      "image/png": "[encoded data removed]",
      "text/plain": [
       "<Figure size 432x288 with 1 Axes>"
      ]
     },
     "metadata": {
      "needs_background": "light"
     },
     "output_type": "display_data"
    }
   ],
   "source": [
    "plt.plot(picks, sec_per_pick, 'o', label='original data')\n",
    "plt.plot(picks, intercept + slope*picks, 'r', label='fitted line')\n",
    "plt.legend()\n",
    "plt.show()"
   ]
  },
  {
   "cell_type": "code",
   "execution_count": 9,
   "metadata": {},
   "outputs": [],
   "source": [
    "UniquePicks = dataFrame.Picks.unique()\n",
    "DataFrameDict = {elem : pd.DataFrame for elem in UniquePicks}"
   ]
  },
  {
   "cell_type": "code",
   "execution_count": 10,
   "metadata": {},
   "outputs": [],
   "source": [
    "for key in DataFrameDict.keys():\n",
    "    DataFrameDict[key] = dataFrame[:][dataFrame.Picks == key]\n",
    "    DataFrameDict[key] = DataFrameDict[key].drop(\"Week/Recipe\", axis = 1)"
   ]
  },
  {
   "cell_type": "code",
   "execution_count": 11,
   "metadata": {},
   "outputs": [],
   "source": [
    "DF_by_picks = pd.DataFrame(data=None)"
   ]
  },
  {
   "cell_type": "code",
   "execution_count": 12,
   "metadata": {},
   "outputs": [
    {
     "name": "stdout",
     "output_type": "stream",
     "text": [
      "     Sec per Pick (pure production)  Picks  Sec per Pick (pure production)  \\\n",
      "0                          6.294643    4.0                             NaN   \n",
      "1                               NaN    NaN                        5.805081   \n",
      "2                               NaN    NaN                        6.368316   \n",
      "3                               NaN    NaN                        5.772031   \n",
      "4                               NaN    NaN                             NaN   \n",
      "..                              ...    ...                             ...   \n",
      "113                             NaN    NaN                             NaN   \n",
      "114                             NaN    NaN                             NaN   \n",
      "115                             NaN    NaN                             NaN   \n",
      "116                             NaN    NaN                             NaN   \n",
      "117                             NaN    NaN                             NaN   \n",
      "\n",
      "     Picks  Sec per Pick (pure production)  Picks  \\\n",
      "0      NaN                             NaN    NaN   \n",
      "1      5.0                             NaN    NaN   \n",
      "2      5.0                             NaN    NaN   \n",
      "3      5.0                             NaN    NaN   \n",
      "4      NaN                        5.345696    6.0   \n",
      "..     ...                             ...    ...   \n",
      "113    NaN                             NaN    NaN   \n",
      "114    NaN                             NaN    NaN   \n",
      "115    NaN                             NaN    NaN   \n",
      "116    NaN                             NaN    NaN   \n",
      "117    NaN                             NaN    NaN   \n",
      "\n",
      "     Sec per Pick (pure production)  Picks  Sec per Pick (pure production)  \\\n",
      "0                               NaN    NaN                             NaN   \n",
      "1                               NaN    NaN                             NaN   \n",
      "2                               NaN    NaN                             NaN   \n",
      "3                               NaN    NaN                             NaN   \n",
      "4                               NaN    NaN                             NaN   \n",
      "..                              ...    ...                             ...   \n",
      "113                             NaN    NaN                             NaN   \n",
      "114                             NaN    NaN                             NaN   \n",
      "115                             NaN    NaN                             NaN   \n",
      "116                             NaN    NaN                             NaN   \n",
      "117                             NaN    NaN                             NaN   \n",
      "\n",
      "     Picks  ...  Sec per Pick (pure production)  Picks  \\\n",
      "0      NaN  ...                             NaN    NaN   \n",
      "1      NaN  ...                             NaN    NaN   \n",
      "2      NaN  ...                             NaN    NaN   \n",
      "3      NaN  ...                             NaN    NaN   \n",
      "4      NaN  ...                             NaN    NaN   \n",
      "..     ...  ...                             ...    ...   \n",
      "113    NaN  ...                             NaN    NaN   \n",
      "114    NaN  ...                             NaN    NaN   \n",
      "115    NaN  ...                             NaN    NaN   \n",
      "116    NaN  ...                             NaN    NaN   \n",
      "117    NaN  ...                             NaN    NaN   \n",
      "\n",
      "     Sec per Pick (pure production)  Picks  Sec per Pick (pure production)  \\\n",
      "0                               NaN    NaN                             NaN   \n",
      "1                               NaN    NaN                             NaN   \n",
      "2                               NaN    NaN                             NaN   \n",
      "3                               NaN    NaN                             NaN   \n",
      "4                               NaN    NaN                             NaN   \n",
      "..                              ...    ...                             ...   \n",
      "113                        4.523529   17.0                             NaN   \n",
      "114                             NaN    NaN                        3.000594   \n",
      "115                             NaN    NaN                             NaN   \n",
      "116                             NaN    NaN                             NaN   \n",
      "117                             NaN    NaN                             NaN   \n",
      "\n",
      "     Picks  Sec per Pick (pure production)  Picks  \\\n",
      "0      NaN                             NaN    NaN   \n",
      "1      NaN                             NaN    NaN   \n",
      "2      NaN                             NaN    NaN   \n",
      "3      NaN                             NaN    NaN   \n",
      "4      NaN                             NaN    NaN   \n",
      "..     ...                             ...    ...   \n",
      "113    NaN                             NaN    NaN   \n",
      "114   18.0                             NaN    NaN   \n",
      "115    NaN                        3.191643   20.0   \n",
      "116    NaN                        4.137465   20.0   \n",
      "117    NaN                             NaN    NaN   \n",
      "\n",
      "     Sec per Pick (pure production)  Picks  \n",
      "0                               NaN    NaN  \n",
      "1                               NaN    NaN  \n",
      "2                               NaN    NaN  \n",
      "3                               NaN    NaN  \n",
      "4                               NaN    NaN  \n",
      "..                              ...    ...  \n",
      "113                             NaN    NaN  \n",
      "114                             NaN    NaN  \n",
      "115                             NaN    NaN  \n",
      "116                             NaN    NaN  \n",
      "117                        3.334966   25.0  \n",
      "\n",
      "[118 rows x 34 columns]\n"
     ]
    }
   ],
   "source": [
    "for key in DataFrameDict.keys():\n",
    "    DF_by_picks =  pd.concat([DF_by_picks, DataFrameDict[key]], axis = 1, join='outer')\n",
    "print(DF_by_picks)"
   ]
  },
  {
   "cell_type": "markdown",
   "metadata": {},
   "source": [
    "DF_by_picks.plot.box(grid = 'True')"
   ]
  },
  {
   "cell_type": "code",
   "execution_count": 13,
   "metadata": {},
   "outputs": [
    {
     "data": {
      "text/plain": [
       "<matplotlib.axes._subplots.AxesSubplot at 0x13a89af9e88>"
      ]
     },
     "execution_count": 13,
     "metadata": {},
     "output_type": "execute_result"
    },
    {
     "data": {
      "image/png": "[encoded data removed]",
      "text/plain": [
       "<Figure size 432x288 with 1 Axes>"
      ]
     },
     "metadata": {
      "needs_background": "light"
     },
     "output_type": "display_data"
    }
   ],
   "source": [
    "DF_by_picks.plot.box(grid = 'True')"
   ]
  },
  {
   "cell_type": "code",
   "execution_count": 16,
   "metadata": {},
   "outputs": [
    {
     "data": {
      "text/html": [
       "<div>\n",
       "<style scoped>\n",
       "    .dataframe tbody tr th:only-of-type {\n",
       "        vertical-align: middle;\n",
       "    }\n",
       "\n",
       "    .dataframe tbody tr th {\n",
       "        vertical-align: top;\n",
       "    }\n",
       "\n",
       "    .dataframe thead th {\n",
       "        text-align: right;\n",
       "    }\n",
       "</style>\n",
       "<table border=\"1\" class=\"dataframe\">\n",
       "  <thead>\n",
       "    <tr style=\"text-align: right;\">\n",
       "      <th></th>\n",
       "      <th>Week/Recipe</th>\n",
       "      <th>Sec per Pick (pure production)</th>\n",
       "      <th>Picks</th>\n",
       "    </tr>\n",
       "  </thead>\n",
       "  <tbody>\n",
       "    <tr>\n",
       "      <td>35</td>\n",
       "      <td>2020-07 A2</td>\n",
       "      <td>3.972789</td>\n",
       "      <td>9</td>\n",
       "    </tr>\n",
       "    <tr>\n",
       "      <td>36</td>\n",
       "      <td>2020-07 C2</td>\n",
       "      <td>3.638221</td>\n",
       "      <td>9</td>\n",
       "    </tr>\n",
       "    <tr>\n",
       "      <td>37</td>\n",
       "      <td>2020-07 D2</td>\n",
       "      <td>4.438306</td>\n",
       "      <td>9</td>\n",
       "    </tr>\n",
       "    <tr>\n",
       "      <td>38</td>\n",
       "      <td>2020-08 J2</td>\n",
       "      <td>4.513655</td>\n",
       "      <td>9</td>\n",
       "    </tr>\n",
       "    <tr>\n",
       "      <td>39</td>\n",
       "      <td>2020-09 C2</td>\n",
       "      <td>3.750043</td>\n",
       "      <td>9</td>\n",
       "    </tr>\n",
       "    <tr>\n",
       "      <td>40</td>\n",
       "      <td>2020-09 N4</td>\n",
       "      <td>4.226016</td>\n",
       "      <td>9</td>\n",
       "    </tr>\n",
       "    <tr>\n",
       "      <td>41</td>\n",
       "      <td>2020-10 B2</td>\n",
       "      <td>3.564049</td>\n",
       "      <td>9</td>\n",
       "    </tr>\n",
       "    <tr>\n",
       "      <td>42</td>\n",
       "      <td>2020-11 E2</td>\n",
       "      <td>4.520418</td>\n",
       "      <td>9</td>\n",
       "    </tr>\n",
       "    <tr>\n",
       "      <td>43</td>\n",
       "      <td>2020-11 H2</td>\n",
       "      <td>4.715939</td>\n",
       "      <td>9</td>\n",
       "    </tr>\n",
       "    <tr>\n",
       "      <td>44</td>\n",
       "      <td>2020-11 J2</td>\n",
       "      <td>3.685740</td>\n",
       "      <td>9</td>\n",
       "    </tr>\n",
       "  </tbody>\n",
       "</table>\n",
       "</div>"
      ],
      "text/plain": [
       "   Week/Recipe  Sec per Pick (pure production)  Picks\n",
       "35  2020-07 A2                        3.972789      9\n",
       "36  2020-07 C2                        3.638221      9\n",
       "37  2020-07 D2                        4.438306      9\n",
       "38  2020-08 J2                        4.513655      9\n",
       "39  2020-09 C2                        3.750043      9\n",
       "40  2020-09 N4                        4.226016      9\n",
       "41  2020-10 B2                        3.564049      9\n",
       "42  2020-11 E2                        4.520418      9\n",
       "43  2020-11 H2                        4.715939      9\n",
       "44  2020-11 J2                        3.685740      9"
      ]
     },
     "execution_count": 16,
     "metadata": {},
     "output_type": "execute_result"
    }
   ],
   "source": [
    "DataFrameDict[9] "
   ]
  },
  {
   "cell_type": "code",
   "execution_count": 17,
   "metadata": {},
   "outputs": [],
   "source": [
    "DataFrameDict[9] = DataFrameDict[9].drop(\"Week/Recipe\", axis = 1)"
   ]
  },
  {
   "cell_type": "code",
   "execution_count": 18,
   "metadata": {},
   "outputs": [
    {
     "data": {
      "text/html": [
       "<div>\n",
       "<style scoped>\n",
       "    .dataframe tbody tr th:only-of-type {\n",
       "        vertical-align: middle;\n",
       "    }\n",
       "\n",
       "    .dataframe tbody tr th {\n",
       "        vertical-align: top;\n",
       "    }\n",
       "\n",
       "    .dataframe thead th {\n",
       "        text-align: right;\n",
       "    }\n",
       "</style>\n",
       "<table border=\"1\" class=\"dataframe\">\n",
       "  <thead>\n",
       "    <tr style=\"text-align: right;\">\n",
       "      <th></th>\n",
       "      <th>Sec per Pick (pure production)</th>\n",
       "      <th>Picks</th>\n",
       "    </tr>\n",
       "  </thead>\n",
       "  <tbody>\n",
       "    <tr>\n",
       "      <td>35</td>\n",
       "      <td>3.972789</td>\n",
       "      <td>9</td>\n",
       "    </tr>\n",
       "    <tr>\n",
       "      <td>36</td>\n",
       "      <td>3.638221</td>\n",
       "      <td>9</td>\n",
       "    </tr>\n",
       "    <tr>\n",
       "      <td>37</td>\n",
       "      <td>4.438306</td>\n",
       "      <td>9</td>\n",
       "    </tr>\n",
       "    <tr>\n",
       "      <td>38</td>\n",
       "      <td>4.513655</td>\n",
       "      <td>9</td>\n",
       "    </tr>\n",
       "    <tr>\n",
       "      <td>39</td>\n",
       "      <td>3.750043</td>\n",
       "      <td>9</td>\n",
       "    </tr>\n",
       "    <tr>\n",
       "      <td>40</td>\n",
       "      <td>4.226016</td>\n",
       "      <td>9</td>\n",
       "    </tr>\n",
       "    <tr>\n",
       "      <td>41</td>\n",
       "      <td>3.564049</td>\n",
       "      <td>9</td>\n",
       "    </tr>\n",
       "    <tr>\n",
       "      <td>42</td>\n",
       "      <td>4.520418</td>\n",
       "      <td>9</td>\n",
       "    </tr>\n",
       "    <tr>\n",
       "      <td>43</td>\n",
       "      <td>4.715939</td>\n",
       "      <td>9</td>\n",
       "    </tr>\n",
       "    <tr>\n",
       "      <td>44</td>\n",
       "      <td>3.685740</td>\n",
       "      <td>9</td>\n",
       "    </tr>\n",
       "  </tbody>\n",
       "</table>\n",
       "</div>"
      ],
      "text/plain": [
       "    Sec per Pick (pure production)  Picks\n",
       "35                        3.972789      9\n",
       "36                        3.638221      9\n",
       "37                        4.438306      9\n",
       "38                        4.513655      9\n",
       "39                        3.750043      9\n",
       "40                        4.226016      9\n",
       "41                        3.564049      9\n",
       "42                        4.520418      9\n",
       "43                        4.715939      9\n",
       "44                        3.685740      9"
      ]
     },
     "execution_count": 18,
     "metadata": {},
     "output_type": "execute_result"
    }
   ],
   "source": [
    "DataFrameDict[9] "
   ]
  },
  {
   "cell_type": "code",
   "execution_count": null,
   "metadata": {},
   "outputs": [],
   "source": []
  },
  {
   "cell_type": "code",
   "execution_count": null,
   "metadata": {},
   "outputs": [],
   "source": []
  },
  {
   "cell_type": "code",
   "execution_count": null,
   "metadata": {},
   "outputs": [],
   "source": []
  },
  {
   "cell_type": "code",
   "execution_count": null,
   "metadata": {},
   "outputs": [],
   "source": []
  },
  {
   "cell_type": "code",
   "execution_count": null,
   "metadata": {},
   "outputs": [],
   "source": []
  },
  {
   "cell_type": "code",
   "execution_count": null,
   "metadata": {},
   "outputs": [],
   "source": []
  },
  {
   "cell_type": "code",
   "execution_count": null,
   "metadata": {},
   "outputs": [],
   "source": []
  }
 ],
 "metadata": {
  "kernelspec": {
   "display_name": "Python 3",
   "language": "python",
   "name": "python3"
  },
  "language_info": {
   "codemirror_mode": {
    "name": "ipython",
    "version": 3
   },
   "file_extension": ".py",
   "mimetype": "text/x-python",
   "name": "python",
   "nbconvert_exporter": "python",
   "pygments_lexer": "ipython3",
   "version": "3.7.4"
  }
 },
 "nbformat": 4,
 "nbformat_minor": 4
}
